{
 "cells": [
  {
   "cell_type": "markdown",
   "metadata": {},
   "source": [
    "# Implementation K-nearest Neighbors Algorithm for Prediction of Market Prices for Cars."
   ]
  },
  {
   "cell_type": "markdown",
   "metadata": {},
   "source": [
    "The purpose of this project is to practice how to implement the K-nearest Neighbors algorithm for the calculation of market indicators.  The project was made during studying at Dataquest boot camp. \n",
    "The initial file was taken from \n",
    "URL dataset = 'https://archive.ics.uci.edu/ml/machine-learning-databases/autos/imports-85.data'. \n",
    "There were no headers in the initial file, but we can find the names for columns in the documentations. I put the fragment of the documentation into the separate file name.csv. Let us take names of columns from there:\n"
   ]
  },
  {
   "cell_type": "code",
   "execution_count": 359,
   "metadata": {},
   "outputs": [],
   "source": [
    "import pandas as pd\n",
    "import numpy as np\n",
    "names = pd.read_csv('Name.csv')"
   ]
  },
  {
   "cell_type": "code",
   "execution_count": 360,
   "metadata": {},
   "outputs": [
    {
     "data": {
      "text/html": [
       "<div>\n",
       "<style scoped>\n",
       "    .dataframe tbody tr th:only-of-type {\n",
       "        vertical-align: middle;\n",
       "    }\n",
       "\n",
       "    .dataframe tbody tr th {\n",
       "        vertical-align: top;\n",
       "    }\n",
       "\n",
       "    .dataframe thead th {\n",
       "        text-align: right;\n",
       "    }\n",
       "</style>\n",
       "<table border=\"1\" class=\"dataframe\">\n",
       "  <thead>\n",
       "    <tr style=\"text-align: right;\">\n",
       "      <th></th>\n",
       "      <th>Names</th>\n",
       "    </tr>\n",
       "  </thead>\n",
       "  <tbody>\n",
       "    <tr>\n",
       "      <th>0</th>\n",
       "      <td>1. symboling:</td>\n",
       "    </tr>\n",
       "    <tr>\n",
       "      <th>1</th>\n",
       "      <td>2. normalized-losses:</td>\n",
       "    </tr>\n",
       "    <tr>\n",
       "      <th>2</th>\n",
       "      <td>3. make:</td>\n",
       "    </tr>\n",
       "    <tr>\n",
       "      <th>3</th>\n",
       "      <td>4. fuel-type:</td>\n",
       "    </tr>\n",
       "    <tr>\n",
       "      <th>4</th>\n",
       "      <td>5. aspiration:</td>\n",
       "    </tr>\n",
       "  </tbody>\n",
       "</table>\n",
       "</div>"
      ],
      "text/plain": [
       "                       Names\n",
       "0    1. symboling:          \n",
       "1    2. normalized-losses:  \n",
       "2    3. make:               \n",
       "3    4. fuel-type:          \n",
       "4    5. aspiration:         "
      ]
     },
     "execution_count": 360,
     "metadata": {},
     "output_type": "execute_result"
    }
   ],
   "source": [
    "names.head()"
   ]
  },
  {
   "cell_type": "code",
   "execution_count": 361,
   "metadata": {},
   "outputs": [],
   "source": [
    "col = []\n",
    "for ik in range(len(names)):\n",
    "     name = names.loc[ik]\n",
    "     name = str(name)[13:32]\n",
    "     name = name.replace(':','')\n",
    "     name = name.replace('\\nName 25, dt','').strip()\n",
    "     col.append(name)"
   ]
  },
  {
   "cell_type": "code",
   "execution_count": 362,
   "metadata": {},
   "outputs": [
    {
     "name": "stdout",
     "output_type": "stream",
     "text": [
      "['symboling', 'normalized-losses', 'make', 'fuel-type', 'aspiration', 'num-of-doors', 'body-style', 'drive-wheels', 'engine-location', 'wheel-base', 'length', 'width', 'height', 'curb-weight', 'engine-type', 'num-of-cylinders', 'engine-size', 'fuel-system', 'bore', 'stroke', 'compression-ratio', 'horsepower', 'peak-rpm', 'city-mpg', 'highway-mpg', 'price', 'me 26, dtype obje']\n"
     ]
    }
   ],
   "source": [
    "print(col)"
   ]
  },
  {
   "cell_type": "markdown",
   "metadata": {},
   "source": [
    "There is an unnecessary entry at the end, let us get rid of it:"
   ]
  },
  {
   "cell_type": "code",
   "execution_count": 363,
   "metadata": {},
   "outputs": [
    {
     "name": "stdout",
     "output_type": "stream",
     "text": [
      "['symboling', 'normalized-losses', 'make', 'fuel-type', 'aspiration', 'num-of-doors', 'body-style', 'drive-wheels', 'engine-location', 'wheel-base', 'length', 'width', 'height', 'curb-weight', 'engine-type', 'num-of-cylinders', 'engine-size', 'fuel-system', 'bore', 'stroke', 'compression-ratio', 'horsepower', 'peak-rpm', 'city-mpg', 'highway-mpg', 'price']\n"
     ]
    }
   ],
   "source": [
    "columns = col[:26]\n",
    "print(columns)"
   ]
  },
  {
   "cell_type": "markdown",
   "metadata": {},
   "source": [
    "Now, we can use the list for naming the columns of initial file:"
   ]
  },
  {
   "cell_type": "code",
   "execution_count": 364,
   "metadata": {},
   "outputs": [
    {
     "data": {
      "text/html": [
       "<div>\n",
       "<style scoped>\n",
       "    .dataframe tbody tr th:only-of-type {\n",
       "        vertical-align: middle;\n",
       "    }\n",
       "\n",
       "    .dataframe tbody tr th {\n",
       "        vertical-align: top;\n",
       "    }\n",
       "\n",
       "    .dataframe thead th {\n",
       "        text-align: right;\n",
       "    }\n",
       "</style>\n",
       "<table border=\"1\" class=\"dataframe\">\n",
       "  <thead>\n",
       "    <tr style=\"text-align: right;\">\n",
       "      <th></th>\n",
       "      <th>symboling</th>\n",
       "      <th>normalized-losses</th>\n",
       "      <th>make</th>\n",
       "      <th>fuel-type</th>\n",
       "      <th>aspiration</th>\n",
       "      <th>num-of-doors</th>\n",
       "      <th>body-style</th>\n",
       "      <th>drive-wheels</th>\n",
       "      <th>engine-location</th>\n",
       "      <th>wheel-base</th>\n",
       "      <th>...</th>\n",
       "      <th>engine-size</th>\n",
       "      <th>fuel-system</th>\n",
       "      <th>bore</th>\n",
       "      <th>stroke</th>\n",
       "      <th>compression-ratio</th>\n",
       "      <th>horsepower</th>\n",
       "      <th>peak-rpm</th>\n",
       "      <th>city-mpg</th>\n",
       "      <th>highway-mpg</th>\n",
       "      <th>price</th>\n",
       "    </tr>\n",
       "  </thead>\n",
       "  <tbody>\n",
       "    <tr>\n",
       "      <th>0</th>\n",
       "      <td>3</td>\n",
       "      <td>?</td>\n",
       "      <td>alfa-romero</td>\n",
       "      <td>gas</td>\n",
       "      <td>std</td>\n",
       "      <td>two</td>\n",
       "      <td>convertible</td>\n",
       "      <td>rwd</td>\n",
       "      <td>front</td>\n",
       "      <td>88.6</td>\n",
       "      <td>...</td>\n",
       "      <td>130</td>\n",
       "      <td>mpfi</td>\n",
       "      <td>3.47</td>\n",
       "      <td>2.68</td>\n",
       "      <td>9.0</td>\n",
       "      <td>111</td>\n",
       "      <td>5000</td>\n",
       "      <td>21</td>\n",
       "      <td>27</td>\n",
       "      <td>13495</td>\n",
       "    </tr>\n",
       "    <tr>\n",
       "      <th>1</th>\n",
       "      <td>3</td>\n",
       "      <td>?</td>\n",
       "      <td>alfa-romero</td>\n",
       "      <td>gas</td>\n",
       "      <td>std</td>\n",
       "      <td>two</td>\n",
       "      <td>convertible</td>\n",
       "      <td>rwd</td>\n",
       "      <td>front</td>\n",
       "      <td>88.6</td>\n",
       "      <td>...</td>\n",
       "      <td>130</td>\n",
       "      <td>mpfi</td>\n",
       "      <td>3.47</td>\n",
       "      <td>2.68</td>\n",
       "      <td>9.0</td>\n",
       "      <td>111</td>\n",
       "      <td>5000</td>\n",
       "      <td>21</td>\n",
       "      <td>27</td>\n",
       "      <td>16500</td>\n",
       "    </tr>\n",
       "    <tr>\n",
       "      <th>2</th>\n",
       "      <td>1</td>\n",
       "      <td>?</td>\n",
       "      <td>alfa-romero</td>\n",
       "      <td>gas</td>\n",
       "      <td>std</td>\n",
       "      <td>two</td>\n",
       "      <td>hatchback</td>\n",
       "      <td>rwd</td>\n",
       "      <td>front</td>\n",
       "      <td>94.5</td>\n",
       "      <td>...</td>\n",
       "      <td>152</td>\n",
       "      <td>mpfi</td>\n",
       "      <td>2.68</td>\n",
       "      <td>3.47</td>\n",
       "      <td>9.0</td>\n",
       "      <td>154</td>\n",
       "      <td>5000</td>\n",
       "      <td>19</td>\n",
       "      <td>26</td>\n",
       "      <td>16500</td>\n",
       "    </tr>\n",
       "    <tr>\n",
       "      <th>3</th>\n",
       "      <td>2</td>\n",
       "      <td>164</td>\n",
       "      <td>audi</td>\n",
       "      <td>gas</td>\n",
       "      <td>std</td>\n",
       "      <td>four</td>\n",
       "      <td>sedan</td>\n",
       "      <td>fwd</td>\n",
       "      <td>front</td>\n",
       "      <td>99.8</td>\n",
       "      <td>...</td>\n",
       "      <td>109</td>\n",
       "      <td>mpfi</td>\n",
       "      <td>3.19</td>\n",
       "      <td>3.40</td>\n",
       "      <td>10.0</td>\n",
       "      <td>102</td>\n",
       "      <td>5500</td>\n",
       "      <td>24</td>\n",
       "      <td>30</td>\n",
       "      <td>13950</td>\n",
       "    </tr>\n",
       "    <tr>\n",
       "      <th>4</th>\n",
       "      <td>2</td>\n",
       "      <td>164</td>\n",
       "      <td>audi</td>\n",
       "      <td>gas</td>\n",
       "      <td>std</td>\n",
       "      <td>four</td>\n",
       "      <td>sedan</td>\n",
       "      <td>4wd</td>\n",
       "      <td>front</td>\n",
       "      <td>99.4</td>\n",
       "      <td>...</td>\n",
       "      <td>136</td>\n",
       "      <td>mpfi</td>\n",
       "      <td>3.19</td>\n",
       "      <td>3.40</td>\n",
       "      <td>8.0</td>\n",
       "      <td>115</td>\n",
       "      <td>5500</td>\n",
       "      <td>18</td>\n",
       "      <td>22</td>\n",
       "      <td>17450</td>\n",
       "    </tr>\n",
       "  </tbody>\n",
       "</table>\n",
       "<p>5 rows × 26 columns</p>\n",
       "</div>"
      ],
      "text/plain": [
       "   symboling normalized-losses         make fuel-type aspiration num-of-doors  \\\n",
       "0          3                 ?  alfa-romero       gas        std          two   \n",
       "1          3                 ?  alfa-romero       gas        std          two   \n",
       "2          1                 ?  alfa-romero       gas        std          two   \n",
       "3          2               164         audi       gas        std         four   \n",
       "4          2               164         audi       gas        std         four   \n",
       "\n",
       "    body-style drive-wheels engine-location  wheel-base  ...  engine-size  \\\n",
       "0  convertible          rwd           front        88.6  ...          130   \n",
       "1  convertible          rwd           front        88.6  ...          130   \n",
       "2    hatchback          rwd           front        94.5  ...          152   \n",
       "3        sedan          fwd           front        99.8  ...          109   \n",
       "4        sedan          4wd           front        99.4  ...          136   \n",
       "\n",
       "   fuel-system  bore  stroke compression-ratio horsepower  peak-rpm city-mpg  \\\n",
       "0         mpfi  3.47    2.68               9.0        111      5000       21   \n",
       "1         mpfi  3.47    2.68               9.0        111      5000       21   \n",
       "2         mpfi  2.68    3.47               9.0        154      5000       19   \n",
       "3         mpfi  3.19    3.40              10.0        102      5500       24   \n",
       "4         mpfi  3.19    3.40               8.0        115      5500       18   \n",
       "\n",
       "  highway-mpg  price  \n",
       "0          27  13495  \n",
       "1          27  16500  \n",
       "2          26  16500  \n",
       "3          30  13950  \n",
       "4          22  17450  \n",
       "\n",
       "[5 rows x 26 columns]"
      ]
     },
     "execution_count": 364,
     "metadata": {},
     "output_type": "execute_result"
    }
   ],
   "source": [
    "cars =pd.read_csv('imports-85.data', names = columns)\n",
    "cars.head()"
   ]
  },
  {
   "cell_type": "markdown",
   "metadata": {},
   "source": [
    "# Cleaning the data"
   ]
  },
  {
   "cell_type": "markdown",
   "metadata": {},
   "source": [
    "These are some missing data marked as \"?\". We should get rid of the question marks. Columns with a lot of such entries I will drop completely.\n",
    "The row without indication price I will erase completely. \n",
    "If the other columns are missing some entries, let us change them for the mean values of the entire column."
   ]
  },
  {
   "cell_type": "code",
   "execution_count": 365,
   "metadata": {},
   "outputs": [
    {
     "data": {
      "text/plain": [
       "5     15250\n",
       "6     17710\n",
       "7     18920\n",
       "8     23875\n",
       "9         ?\n",
       "10    16430\n",
       "11    16925\n",
       "12    20970\n",
       "13    21105\n",
       "14    24565\n",
       "Name: price, dtype: object"
      ]
     },
     "execution_count": 365,
     "metadata": {},
     "output_type": "execute_result"
    }
   ],
   "source": [
    "cars['price'][5:15]"
   ]
  },
  {
   "cell_type": "markdown",
   "metadata": {},
   "source": [
    "Let us choose the columns with numerical data only:"
   ]
  },
  {
   "cell_type": "code",
   "execution_count": 366,
   "metadata": {},
   "outputs": [],
   "source": [
    "dig_cols = ['normalized-losses', 'wheel-base', 'length', 'width', 'height', 'curb-weight', 'engine-size', 'bore', 'stroke', 'compression-ratio', 'horsepower', 'peak-rpm', 'city-mpg', 'highway-mpg', 'price']\n",
    "digital_cars = cars[dig_cols]"
   ]
  },
  {
   "cell_type": "code",
   "execution_count": 367,
   "metadata": {},
   "outputs": [
    {
     "data": {
      "text/plain": [
       "normalized-losses     object\n",
       "wheel-base           float64\n",
       "length               float64\n",
       "width                float64\n",
       "height               float64\n",
       "curb-weight            int64\n",
       "engine-size            int64\n",
       "bore                  object\n",
       "stroke                object\n",
       "compression-ratio    float64\n",
       "horsepower            object\n",
       "peak-rpm              object\n",
       "city-mpg               int64\n",
       "highway-mpg            int64\n",
       "price                 object\n",
       "dtype: object"
      ]
     },
     "execution_count": 367,
     "metadata": {},
     "output_type": "execute_result"
    }
   ],
   "source": [
    "digital_cars.dtypes"
   ]
  },
  {
   "cell_type": "code",
   "execution_count": 368,
   "metadata": {},
   "outputs": [
    {
     "data": {
      "text/html": [
       "<div>\n",
       "<style scoped>\n",
       "    .dataframe tbody tr th:only-of-type {\n",
       "        vertical-align: middle;\n",
       "    }\n",
       "\n",
       "    .dataframe tbody tr th {\n",
       "        vertical-align: top;\n",
       "    }\n",
       "\n",
       "    .dataframe thead th {\n",
       "        text-align: right;\n",
       "    }\n",
       "</style>\n",
       "<table border=\"1\" class=\"dataframe\">\n",
       "  <thead>\n",
       "    <tr style=\"text-align: right;\">\n",
       "      <th></th>\n",
       "      <th>normalized-losses</th>\n",
       "      <th>wheel-base</th>\n",
       "      <th>length</th>\n",
       "      <th>width</th>\n",
       "      <th>height</th>\n",
       "      <th>curb-weight</th>\n",
       "      <th>engine-size</th>\n",
       "      <th>bore</th>\n",
       "      <th>stroke</th>\n",
       "      <th>compression-ratio</th>\n",
       "      <th>horsepower</th>\n",
       "      <th>peak-rpm</th>\n",
       "      <th>city-mpg</th>\n",
       "      <th>highway-mpg</th>\n",
       "      <th>price</th>\n",
       "    </tr>\n",
       "  </thead>\n",
       "  <tbody>\n",
       "    <tr>\n",
       "      <th>0</th>\n",
       "      <td>?</td>\n",
       "      <td>88.6</td>\n",
       "      <td>168.8</td>\n",
       "      <td>64.1</td>\n",
       "      <td>48.8</td>\n",
       "      <td>2548</td>\n",
       "      <td>130</td>\n",
       "      <td>3.47</td>\n",
       "      <td>2.68</td>\n",
       "      <td>9.0</td>\n",
       "      <td>111</td>\n",
       "      <td>5000</td>\n",
       "      <td>21</td>\n",
       "      <td>27</td>\n",
       "      <td>13495</td>\n",
       "    </tr>\n",
       "    <tr>\n",
       "      <th>1</th>\n",
       "      <td>?</td>\n",
       "      <td>88.6</td>\n",
       "      <td>168.8</td>\n",
       "      <td>64.1</td>\n",
       "      <td>48.8</td>\n",
       "      <td>2548</td>\n",
       "      <td>130</td>\n",
       "      <td>3.47</td>\n",
       "      <td>2.68</td>\n",
       "      <td>9.0</td>\n",
       "      <td>111</td>\n",
       "      <td>5000</td>\n",
       "      <td>21</td>\n",
       "      <td>27</td>\n",
       "      <td>16500</td>\n",
       "    </tr>\n",
       "    <tr>\n",
       "      <th>2</th>\n",
       "      <td>?</td>\n",
       "      <td>94.5</td>\n",
       "      <td>171.2</td>\n",
       "      <td>65.5</td>\n",
       "      <td>52.4</td>\n",
       "      <td>2823</td>\n",
       "      <td>152</td>\n",
       "      <td>2.68</td>\n",
       "      <td>3.47</td>\n",
       "      <td>9.0</td>\n",
       "      <td>154</td>\n",
       "      <td>5000</td>\n",
       "      <td>19</td>\n",
       "      <td>26</td>\n",
       "      <td>16500</td>\n",
       "    </tr>\n",
       "    <tr>\n",
       "      <th>3</th>\n",
       "      <td>164</td>\n",
       "      <td>99.8</td>\n",
       "      <td>176.6</td>\n",
       "      <td>66.2</td>\n",
       "      <td>54.3</td>\n",
       "      <td>2337</td>\n",
       "      <td>109</td>\n",
       "      <td>3.19</td>\n",
       "      <td>3.40</td>\n",
       "      <td>10.0</td>\n",
       "      <td>102</td>\n",
       "      <td>5500</td>\n",
       "      <td>24</td>\n",
       "      <td>30</td>\n",
       "      <td>13950</td>\n",
       "    </tr>\n",
       "    <tr>\n",
       "      <th>4</th>\n",
       "      <td>164</td>\n",
       "      <td>99.4</td>\n",
       "      <td>176.6</td>\n",
       "      <td>66.4</td>\n",
       "      <td>54.3</td>\n",
       "      <td>2824</td>\n",
       "      <td>136</td>\n",
       "      <td>3.19</td>\n",
       "      <td>3.40</td>\n",
       "      <td>8.0</td>\n",
       "      <td>115</td>\n",
       "      <td>5500</td>\n",
       "      <td>18</td>\n",
       "      <td>22</td>\n",
       "      <td>17450</td>\n",
       "    </tr>\n",
       "  </tbody>\n",
       "</table>\n",
       "</div>"
      ],
      "text/plain": [
       "  normalized-losses  wheel-base  length  width  height  curb-weight  \\\n",
       "0                 ?        88.6   168.8   64.1    48.8         2548   \n",
       "1                 ?        88.6   168.8   64.1    48.8         2548   \n",
       "2                 ?        94.5   171.2   65.5    52.4         2823   \n",
       "3               164        99.8   176.6   66.2    54.3         2337   \n",
       "4               164        99.4   176.6   66.4    54.3         2824   \n",
       "\n",
       "   engine-size  bore stroke  compression-ratio horsepower peak-rpm  city-mpg  \\\n",
       "0          130  3.47   2.68                9.0        111     5000        21   \n",
       "1          130  3.47   2.68                9.0        111     5000        21   \n",
       "2          152  2.68   3.47                9.0        154     5000        19   \n",
       "3          109  3.19   3.40               10.0        102     5500        24   \n",
       "4          136  3.19   3.40                8.0        115     5500        18   \n",
       "\n",
       "   highway-mpg  price  \n",
       "0           27  13495  \n",
       "1           27  16500  \n",
       "2           26  16500  \n",
       "3           30  13950  \n",
       "4           22  17450  "
      ]
     },
     "execution_count": 368,
     "metadata": {},
     "output_type": "execute_result"
    }
   ],
   "source": [
    "digital_cars.head()"
   ]
  },
  {
   "cell_type": "markdown",
   "metadata": {},
   "source": [
    "All \"?\" are changed for NaN values:"
   ]
  },
  {
   "cell_type": "code",
   "execution_count": 369,
   "metadata": {},
   "outputs": [],
   "source": [
    "digital_cars = digital_cars.replace('?',np.nan)"
   ]
  },
  {
   "cell_type": "markdown",
   "metadata": {},
   "source": [
    "Some of the columns are still indicated as not of numerical ones, let me fix it: "
   ]
  },
  {
   "cell_type": "code",
   "execution_count": 370,
   "metadata": {},
   "outputs": [],
   "source": [
    "dcars = digital_cars.astype(float)"
   ]
  },
  {
   "cell_type": "markdown",
   "metadata": {},
   "source": [
    "Everything is correct now:"
   ]
  },
  {
   "cell_type": "code",
   "execution_count": 371,
   "metadata": {},
   "outputs": [
    {
     "data": {
      "text/plain": [
       "normalized-losses    float64\n",
       "wheel-base           float64\n",
       "length               float64\n",
       "width                float64\n",
       "height               float64\n",
       "curb-weight          float64\n",
       "engine-size          float64\n",
       "bore                 float64\n",
       "stroke               float64\n",
       "compression-ratio    float64\n",
       "horsepower           float64\n",
       "peak-rpm             float64\n",
       "city-mpg             float64\n",
       "highway-mpg          float64\n",
       "price                float64\n",
       "dtype: object"
      ]
     },
     "execution_count": 371,
     "metadata": {},
     "output_type": "execute_result"
    }
   ],
   "source": [
    "dcars.dtypes"
   ]
  },
  {
   "cell_type": "markdown",
   "metadata": {},
   "source": [
    "Let us check how many absent values do we have in the dataset. The k-nearest neighbor's algorithm can work if there are no missing values in the dataset."
   ]
  },
  {
   "cell_type": "code",
   "execution_count": 372,
   "metadata": {},
   "outputs": [
    {
     "data": {
      "text/plain": [
       "normalized-losses    41\n",
       "wheel-base            0\n",
       "length                0\n",
       "width                 0\n",
       "height                0\n",
       "curb-weight           0\n",
       "engine-size           0\n",
       "bore                  4\n",
       "stroke                4\n",
       "compression-ratio     0\n",
       "horsepower            2\n",
       "peak-rpm              2\n",
       "city-mpg              0\n",
       "highway-mpg           0\n",
       "price                 4\n",
       "dtype: int64"
      ]
     },
     "execution_count": 372,
     "metadata": {},
     "output_type": "execute_result"
    }
   ],
   "source": [
    "dcars.isnull().sum()"
   ]
  },
  {
   "cell_type": "markdown",
   "metadata": {},
   "source": [
    "Since the first column has 41 empty entries, it would be a good idea to delete this column completely. "
   ]
  },
  {
   "cell_type": "code",
   "execution_count": 373,
   "metadata": {},
   "outputs": [],
   "source": [
    "dig_col = dig_cols[1:]\n",
    "dcars = dcars[dig_col]"
   ]
  },
  {
   "cell_type": "code",
   "execution_count": 374,
   "metadata": {},
   "outputs": [
    {
     "data": {
      "text/html": [
       "<div>\n",
       "<style scoped>\n",
       "    .dataframe tbody tr th:only-of-type {\n",
       "        vertical-align: middle;\n",
       "    }\n",
       "\n",
       "    .dataframe tbody tr th {\n",
       "        vertical-align: top;\n",
       "    }\n",
       "\n",
       "    .dataframe thead th {\n",
       "        text-align: right;\n",
       "    }\n",
       "</style>\n",
       "<table border=\"1\" class=\"dataframe\">\n",
       "  <thead>\n",
       "    <tr style=\"text-align: right;\">\n",
       "      <th></th>\n",
       "      <th>wheel-base</th>\n",
       "      <th>length</th>\n",
       "      <th>width</th>\n",
       "      <th>height</th>\n",
       "      <th>curb-weight</th>\n",
       "      <th>engine-size</th>\n",
       "      <th>bore</th>\n",
       "      <th>stroke</th>\n",
       "      <th>compression-ratio</th>\n",
       "      <th>horsepower</th>\n",
       "      <th>peak-rpm</th>\n",
       "      <th>city-mpg</th>\n",
       "      <th>highway-mpg</th>\n",
       "      <th>price</th>\n",
       "    </tr>\n",
       "  </thead>\n",
       "  <tbody>\n",
       "    <tr>\n",
       "      <th>0</th>\n",
       "      <td>88.6</td>\n",
       "      <td>168.8</td>\n",
       "      <td>64.1</td>\n",
       "      <td>48.8</td>\n",
       "      <td>2548.0</td>\n",
       "      <td>130.0</td>\n",
       "      <td>3.47</td>\n",
       "      <td>2.68</td>\n",
       "      <td>9.0</td>\n",
       "      <td>111.0</td>\n",
       "      <td>5000.0</td>\n",
       "      <td>21.0</td>\n",
       "      <td>27.0</td>\n",
       "      <td>13495.0</td>\n",
       "    </tr>\n",
       "    <tr>\n",
       "      <th>1</th>\n",
       "      <td>88.6</td>\n",
       "      <td>168.8</td>\n",
       "      <td>64.1</td>\n",
       "      <td>48.8</td>\n",
       "      <td>2548.0</td>\n",
       "      <td>130.0</td>\n",
       "      <td>3.47</td>\n",
       "      <td>2.68</td>\n",
       "      <td>9.0</td>\n",
       "      <td>111.0</td>\n",
       "      <td>5000.0</td>\n",
       "      <td>21.0</td>\n",
       "      <td>27.0</td>\n",
       "      <td>16500.0</td>\n",
       "    </tr>\n",
       "    <tr>\n",
       "      <th>2</th>\n",
       "      <td>94.5</td>\n",
       "      <td>171.2</td>\n",
       "      <td>65.5</td>\n",
       "      <td>52.4</td>\n",
       "      <td>2823.0</td>\n",
       "      <td>152.0</td>\n",
       "      <td>2.68</td>\n",
       "      <td>3.47</td>\n",
       "      <td>9.0</td>\n",
       "      <td>154.0</td>\n",
       "      <td>5000.0</td>\n",
       "      <td>19.0</td>\n",
       "      <td>26.0</td>\n",
       "      <td>16500.0</td>\n",
       "    </tr>\n",
       "    <tr>\n",
       "      <th>3</th>\n",
       "      <td>99.8</td>\n",
       "      <td>176.6</td>\n",
       "      <td>66.2</td>\n",
       "      <td>54.3</td>\n",
       "      <td>2337.0</td>\n",
       "      <td>109.0</td>\n",
       "      <td>3.19</td>\n",
       "      <td>3.40</td>\n",
       "      <td>10.0</td>\n",
       "      <td>102.0</td>\n",
       "      <td>5500.0</td>\n",
       "      <td>24.0</td>\n",
       "      <td>30.0</td>\n",
       "      <td>13950.0</td>\n",
       "    </tr>\n",
       "    <tr>\n",
       "      <th>4</th>\n",
       "      <td>99.4</td>\n",
       "      <td>176.6</td>\n",
       "      <td>66.4</td>\n",
       "      <td>54.3</td>\n",
       "      <td>2824.0</td>\n",
       "      <td>136.0</td>\n",
       "      <td>3.19</td>\n",
       "      <td>3.40</td>\n",
       "      <td>8.0</td>\n",
       "      <td>115.0</td>\n",
       "      <td>5500.0</td>\n",
       "      <td>18.0</td>\n",
       "      <td>22.0</td>\n",
       "      <td>17450.0</td>\n",
       "    </tr>\n",
       "  </tbody>\n",
       "</table>\n",
       "</div>"
      ],
      "text/plain": [
       "   wheel-base  length  width  height  curb-weight  engine-size  bore  stroke  \\\n",
       "0        88.6   168.8   64.1    48.8       2548.0        130.0  3.47    2.68   \n",
       "1        88.6   168.8   64.1    48.8       2548.0        130.0  3.47    2.68   \n",
       "2        94.5   171.2   65.5    52.4       2823.0        152.0  2.68    3.47   \n",
       "3        99.8   176.6   66.2    54.3       2337.0        109.0  3.19    3.40   \n",
       "4        99.4   176.6   66.4    54.3       2824.0        136.0  3.19    3.40   \n",
       "\n",
       "   compression-ratio  horsepower  peak-rpm  city-mpg  highway-mpg    price  \n",
       "0                9.0       111.0    5000.0      21.0         27.0  13495.0  \n",
       "1                9.0       111.0    5000.0      21.0         27.0  16500.0  \n",
       "2                9.0       154.0    5000.0      19.0         26.0  16500.0  \n",
       "3               10.0       102.0    5500.0      24.0         30.0  13950.0  \n",
       "4                8.0       115.0    5500.0      18.0         22.0  17450.0  "
      ]
     },
     "execution_count": 374,
     "metadata": {},
     "output_type": "execute_result"
    }
   ],
   "source": [
    "dcars.head()"
   ]
  },
  {
   "cell_type": "markdown",
   "metadata": {},
   "source": [
    "There are still some null values in other colunms. "
   ]
  },
  {
   "cell_type": "code",
   "execution_count": 375,
   "metadata": {},
   "outputs": [
    {
     "data": {
      "text/plain": [
       "wheel-base           0\n",
       "length               0\n",
       "width                0\n",
       "height               0\n",
       "curb-weight          0\n",
       "engine-size          0\n",
       "bore                 4\n",
       "stroke               4\n",
       "compression-ratio    0\n",
       "horsepower           2\n",
       "peak-rpm             2\n",
       "city-mpg             0\n",
       "highway-mpg          0\n",
       "price                4\n",
       "dtype: int64"
      ]
     },
     "execution_count": 375,
     "metadata": {},
     "output_type": "execute_result"
    }
   ],
   "source": [
    "dcars.isnull().sum()"
   ]
  },
  {
   "cell_type": "markdown",
   "metadata": {},
   "source": [
    "Let us drop rows where the info on price is absent, \n",
    "and change null-values in the other columns for its average value for an entire column:\n"
   ]
  },
  {
   "cell_type": "code",
   "execution_count": 376,
   "metadata": {},
   "outputs": [],
   "source": [
    "dcars = dcars.dropna(subset=['price'])\n",
    "dcars = dcars.fillna(dcars.mean())"
   ]
  },
  {
   "cell_type": "code",
   "execution_count": 377,
   "metadata": {},
   "outputs": [
    {
     "data": {
      "text/plain": [
       "wheel-base           0\n",
       "length               0\n",
       "width                0\n",
       "height               0\n",
       "curb-weight          0\n",
       "engine-size          0\n",
       "bore                 0\n",
       "stroke               0\n",
       "compression-ratio    0\n",
       "horsepower           0\n",
       "peak-rpm             0\n",
       "city-mpg             0\n",
       "highway-mpg          0\n",
       "price                0\n",
       "dtype: int64"
      ]
     },
     "execution_count": 377,
     "metadata": {},
     "output_type": "execute_result"
    }
   ],
   "source": [
    "dcars.isnull().sum()"
   ]
  },
  {
   "cell_type": "code",
   "execution_count": 378,
   "metadata": {},
   "outputs": [
    {
     "data": {
      "text/plain": [
       "13207.129353233831"
      ]
     },
     "execution_count": 378,
     "metadata": {},
     "output_type": "execute_result"
    }
   ],
   "source": [
    "dcars['price'].sum()/len(dcars['price'])"
   ]
  },
  {
   "cell_type": "markdown",
   "metadata": {},
   "source": [
    "Let is normalize each column from 0 to 1:"
   ]
  },
  {
   "cell_type": "code",
   "execution_count": 379,
   "metadata": {},
   "outputs": [],
   "source": [
    "norm_cars = (dcars[dig_col] - dcars[dig_col].min())/(dcars[dig_col].max() - dcars[dig_col].min())"
   ]
  },
  {
   "cell_type": "code",
   "execution_count": 380,
   "metadata": {},
   "outputs": [
    {
     "data": {
      "text/html": [
       "<div>\n",
       "<style scoped>\n",
       "    .dataframe tbody tr th:only-of-type {\n",
       "        vertical-align: middle;\n",
       "    }\n",
       "\n",
       "    .dataframe tbody tr th {\n",
       "        vertical-align: top;\n",
       "    }\n",
       "\n",
       "    .dataframe thead th {\n",
       "        text-align: right;\n",
       "    }\n",
       "</style>\n",
       "<table border=\"1\" class=\"dataframe\">\n",
       "  <thead>\n",
       "    <tr style=\"text-align: right;\">\n",
       "      <th></th>\n",
       "      <th>wheel-base</th>\n",
       "      <th>length</th>\n",
       "      <th>width</th>\n",
       "      <th>height</th>\n",
       "      <th>curb-weight</th>\n",
       "      <th>engine-size</th>\n",
       "      <th>bore</th>\n",
       "      <th>stroke</th>\n",
       "      <th>compression-ratio</th>\n",
       "      <th>horsepower</th>\n",
       "      <th>peak-rpm</th>\n",
       "      <th>city-mpg</th>\n",
       "      <th>highway-mpg</th>\n",
       "      <th>price</th>\n",
       "    </tr>\n",
       "  </thead>\n",
       "  <tbody>\n",
       "    <tr>\n",
       "      <th>0</th>\n",
       "      <td>0.058309</td>\n",
       "      <td>0.413433</td>\n",
       "      <td>0.324786</td>\n",
       "      <td>0.083333</td>\n",
       "      <td>0.411171</td>\n",
       "      <td>0.260377</td>\n",
       "      <td>0.664286</td>\n",
       "      <td>0.290476</td>\n",
       "      <td>0.1250</td>\n",
       "      <td>0.294393</td>\n",
       "      <td>0.346939</td>\n",
       "      <td>0.222222</td>\n",
       "      <td>0.289474</td>\n",
       "      <td>0.207959</td>\n",
       "    </tr>\n",
       "    <tr>\n",
       "      <th>1</th>\n",
       "      <td>0.058309</td>\n",
       "      <td>0.413433</td>\n",
       "      <td>0.324786</td>\n",
       "      <td>0.083333</td>\n",
       "      <td>0.411171</td>\n",
       "      <td>0.260377</td>\n",
       "      <td>0.664286</td>\n",
       "      <td>0.290476</td>\n",
       "      <td>0.1250</td>\n",
       "      <td>0.294393</td>\n",
       "      <td>0.346939</td>\n",
       "      <td>0.222222</td>\n",
       "      <td>0.289474</td>\n",
       "      <td>0.282558</td>\n",
       "    </tr>\n",
       "    <tr>\n",
       "      <th>2</th>\n",
       "      <td>0.230321</td>\n",
       "      <td>0.449254</td>\n",
       "      <td>0.444444</td>\n",
       "      <td>0.383333</td>\n",
       "      <td>0.517843</td>\n",
       "      <td>0.343396</td>\n",
       "      <td>0.100000</td>\n",
       "      <td>0.666667</td>\n",
       "      <td>0.1250</td>\n",
       "      <td>0.495327</td>\n",
       "      <td>0.346939</td>\n",
       "      <td>0.166667</td>\n",
       "      <td>0.263158</td>\n",
       "      <td>0.282558</td>\n",
       "    </tr>\n",
       "    <tr>\n",
       "      <th>3</th>\n",
       "      <td>0.384840</td>\n",
       "      <td>0.529851</td>\n",
       "      <td>0.504274</td>\n",
       "      <td>0.541667</td>\n",
       "      <td>0.329325</td>\n",
       "      <td>0.181132</td>\n",
       "      <td>0.464286</td>\n",
       "      <td>0.633333</td>\n",
       "      <td>0.1875</td>\n",
       "      <td>0.252336</td>\n",
       "      <td>0.551020</td>\n",
       "      <td>0.305556</td>\n",
       "      <td>0.368421</td>\n",
       "      <td>0.219254</td>\n",
       "    </tr>\n",
       "    <tr>\n",
       "      <th>4</th>\n",
       "      <td>0.373178</td>\n",
       "      <td>0.529851</td>\n",
       "      <td>0.521368</td>\n",
       "      <td>0.541667</td>\n",
       "      <td>0.518231</td>\n",
       "      <td>0.283019</td>\n",
       "      <td>0.464286</td>\n",
       "      <td>0.633333</td>\n",
       "      <td>0.0625</td>\n",
       "      <td>0.313084</td>\n",
       "      <td>0.551020</td>\n",
       "      <td>0.138889</td>\n",
       "      <td>0.157895</td>\n",
       "      <td>0.306142</td>\n",
       "    </tr>\n",
       "  </tbody>\n",
       "</table>\n",
       "</div>"
      ],
      "text/plain": [
       "   wheel-base    length     width    height  curb-weight  engine-size  \\\n",
       "0    0.058309  0.413433  0.324786  0.083333     0.411171     0.260377   \n",
       "1    0.058309  0.413433  0.324786  0.083333     0.411171     0.260377   \n",
       "2    0.230321  0.449254  0.444444  0.383333     0.517843     0.343396   \n",
       "3    0.384840  0.529851  0.504274  0.541667     0.329325     0.181132   \n",
       "4    0.373178  0.529851  0.521368  0.541667     0.518231     0.283019   \n",
       "\n",
       "       bore    stroke  compression-ratio  horsepower  peak-rpm  city-mpg  \\\n",
       "0  0.664286  0.290476             0.1250    0.294393  0.346939  0.222222   \n",
       "1  0.664286  0.290476             0.1250    0.294393  0.346939  0.222222   \n",
       "2  0.100000  0.666667             0.1250    0.495327  0.346939  0.166667   \n",
       "3  0.464286  0.633333             0.1875    0.252336  0.551020  0.305556   \n",
       "4  0.464286  0.633333             0.0625    0.313084  0.551020  0.138889   \n",
       "\n",
       "   highway-mpg     price  \n",
       "0     0.289474  0.207959  \n",
       "1     0.289474  0.282558  \n",
       "2     0.263158  0.282558  \n",
       "3     0.368421  0.219254  \n",
       "4     0.157895  0.306142  "
      ]
     },
     "execution_count": 380,
     "metadata": {},
     "output_type": "execute_result"
    }
   ],
   "source": [
    "norm_cars.head()\n"
   ]
  },
  {
   "cell_type": "markdown",
   "metadata": {},
   "source": [
    "# Price Prediction."
   ]
  },
  {
   "cell_type": "markdown",
   "metadata": {},
   "source": [
    "Let us divide the initial set of data into 2 parts: one for training purposes, the rest for the test - prediction of prices - in the ratio of 3:1 train to test sets. Then, we will apply the K-Nearest Neighbors algorithm for the training base. After training the train set, we will apply the algorithm to test part for price prediction. Predicted prices are collected in the 'predictions' variable. rmse is Root Square Mean Error - for estimation of how correct was the prediction."
   ]
  },
  {
   "cell_type": "code",
   "execution_count": 381,
   "metadata": {},
   "outputs": [],
   "source": [
    "from sklearn.neighbors import KNeighborsRegressor\n",
    "from sklearn.metrics import mean_squared_error\n",
    "def knn_train_test_5_neigh(dbase,train_col,target_col):    # for default number of neighbours(5), and list of columns.\n",
    "    shuffled_index = np.random.permutation(dbase.index)\n",
    "    dbase = dbase.reindex(shuffled_index)\n",
    "    len_train = int(round(len(dbase)*0.75,0))\n",
    "    train = dbase[:len_train]\n",
    "    test = dbase[len_train:]\n",
    "    knn = KNeighborsRegressor()\n",
    "    knn.fit(train[train_col], train[target_col])\n",
    "    predictions = knn.predict(test[train_col])\n",
    "    rmse_v = mean_squared_error(test[target_col],predictions)**0.5\n",
    "    return rmse_v "
   ]
  },
  {
   "cell_type": "markdown",
   "metadata": {},
   "source": [
    "5 neigh in the name of the function indicates that the number of neighbors we took.  There are 5 neighbors in the standard algorithm by default. \n",
    "Let us check the function:\n"
   ]
  },
  {
   "cell_type": "code",
   "execution_count": 382,
   "metadata": {},
   "outputs": [
    {
     "data": {
      "text/plain": [
       "428.4882887547806"
      ]
     },
     "execution_count": 382,
     "metadata": {},
     "output_type": "execute_result"
    }
   ],
   "source": [
    "knn_train_test_5_neigh(dcars,dig_col,'price')"
   ]
  },
  {
   "cell_type": "markdown",
   "metadata": {},
   "source": [
    "The previous function calculates Prices using all numerical columns as entry parameters. The next function is modified to calculate using only a single column as initial parameter only."
   ]
  },
  {
   "cell_type": "code",
   "execution_count": 383,
   "metadata": {},
   "outputs": [],
   "source": [
    "def knn_train_test_one_K(dbase,train_col,target_col):   # for default number of neighbours(5), and one column ONLY.\n",
    "    shuffled_index = np.random.permutation(dbase.index)\n",
    "    dbase = dbase.reindex(shuffled_index)\n",
    "    len_train = int(round(len(dbase)*0.75,0))\n",
    "    train = dbase[:len_train]\n",
    "    test = dbase[len_train:]\n",
    "    knn = KNeighborsRegressor()\n",
    "    knn.fit(train[[train_col]], train[target_col])\n",
    "    predictions = knn.predict(test[[train_col]])\n",
    "    rmse_v = mean_squared_error(test[target_col],predictions)**0.5\n",
    "    return rmse_v "
   ]
  },
  {
   "cell_type": "markdown",
   "metadata": {},
   "source": [
    "The function still works, but the error is huge:"
   ]
  },
  {
   "cell_type": "code",
   "execution_count": 384,
   "metadata": {},
   "outputs": [
    {
     "data": {
      "text/plain": [
       "7448.441778036531"
      ]
     },
     "execution_count": 384,
     "metadata": {},
     "output_type": "execute_result"
    }
   ],
   "source": [
    "knn_train_test_one_K(dcars,'wheel-base','price')"
   ]
  },
  {
   "cell_type": "markdown",
   "metadata": {},
   "source": [
    "So, let try to find optimal parameters (columns) and the number of neighbors to reduce error as only possible."
   ]
  },
  {
   "cell_type": "markdown",
   "metadata": {},
   "source": [
    "# Search for optimal parameters"
   ]
  },
  {
   "cell_type": "markdown",
   "metadata": {},
   "source": [
    "Let us create a dictionary with the results for root square errors for each column:"
   ]
  },
  {
   "cell_type": "code",
   "execution_count": 385,
   "metadata": {},
   "outputs": [
    {
     "name": "stdout",
     "output_type": "stream",
     "text": [
      "{'wheel-base': 6509.500625393625, 'length': 4772.164527842685, 'width': 5518.685329822674, 'height': 7166.7948489684, 'curb-weight': 4088.6590559742194, 'engine-size': 2576.8785587217726, 'bore': 7977.205603568206, 'stroke': 8001.88050253189, 'compression-ratio': 5770.92681346766, 'horsepower': 4027.5105792039826, 'peak-rpm': 6092.219353174998, 'city-mpg': 3766.423663689469, 'highway-mpg': 3028.0244903897324, 'price': 393.3077858369957}\n"
     ]
    }
   ],
   "source": [
    "rmse_each_column = {}\n",
    "for col in dig_col:\n",
    "    rmse_val = knn_train_test_one_K(dcars, col,'price')\n",
    "    rmse_each_column[col] = rmse_val\n",
    "print(rmse_each_column)"
   ]
  },
  {
   "cell_type": "markdown",
   "metadata": {},
   "source": [
    "Let us go even deeper and calculate the errors using different numbers of neighbors for prediction:"
   ]
  },
  {
   "cell_type": "code",
   "execution_count": 386,
   "metadata": {},
   "outputs": [],
   "source": [
    "k_values = [1,2,3,4,5,6,7,8,9]\n",
    "def knn_train_test_one_col_many_k(dbase,train_col,target_col,k_values):    # many neighbours, 1 column\n",
    "    shuffled_index = np.random.permutation(dbase.index)\n",
    "    dbase = dbase.reindex(shuffled_index)\n",
    "    len_train = int(round(len(dbase)*0.75,0))\n",
    "    train = dbase[:len_train]\n",
    "    test = dbase[len_train:]\n",
    "    remse_col = {}\n",
    "    k_rmse = {}\n",
    "    for k in k_values:\n",
    "        knn = KNeighborsRegressor(n_neighbors=k)\n",
    "        knn.fit(train[[train_col]], train[target_col])\n",
    "        predictions = knn.predict(test[[train_col]])\n",
    "        rmse_v = mean_squared_error(test[target_col],predictions)**0.5        \n",
    "        k_rmse[k]=round(rmse_v,5)\n",
    "    return k_rmse\n",
    "    "
   ]
  },
  {
   "cell_type": "code",
   "execution_count": 387,
   "metadata": {},
   "outputs": [
    {
     "data": {
      "text/plain": [
       "{1: 3806.4821,\n",
       " 2: 4798.89878,\n",
       " 3: 5064.309,\n",
       " 4: 5781.42284,\n",
       " 5: 5727.4858,\n",
       " 6: 5849.81524,\n",
       " 7: 6188.46117,\n",
       " 8: 6525.76471,\n",
       " 9: 6602.94649}"
      ]
     },
     "execution_count": 387,
     "metadata": {},
     "output_type": "execute_result"
    }
   ],
   "source": [
    "knn_train_test_one_col_many_k(dcars,'wheel-base','price',k_values)\n",
    "    "
   ]
  },
  {
   "cell_type": "code",
   "execution_count": 388,
   "metadata": {},
   "outputs": [
    {
     "data": {
      "text/plain": [
       "{'wheel-base': {1: 5742.61114,\n",
       "  2: 5230.65505,\n",
       "  3: 5678.78655,\n",
       "  4: 6227.21969,\n",
       "  5: 6418.40169,\n",
       "  6: 6251.63299,\n",
       "  7: 6123.99549,\n",
       "  8: 6438.94515,\n",
       "  9: 6391.16908},\n",
       " 'length': {1: 4617.20049,\n",
       "  2: 4036.56328,\n",
       "  3: 4030.84846,\n",
       "  4: 4543.88727,\n",
       "  5: 5252.15953,\n",
       "  6: 5676.23106,\n",
       "  7: 5617.44473,\n",
       "  8: 5332.22545,\n",
       "  9: 5174.11661},\n",
       " 'width': {1: 4089.98758,\n",
       "  2: 3356.62847,\n",
       "  3: 3429.33832,\n",
       "  4: 3963.01299,\n",
       "  5: 4286.46242,\n",
       "  6: 4280.16896,\n",
       "  7: 4233.14375,\n",
       "  8: 4244.05959,\n",
       "  9: 4411.07531},\n",
       " 'height': {1: 11130.818,\n",
       "  2: 12011.90015,\n",
       "  3: 10089.23915,\n",
       "  4: 9395.12621,\n",
       "  5: 9502.6897,\n",
       "  6: 9560.76,\n",
       "  7: 9247.22858,\n",
       "  8: 9308.73319,\n",
       "  9: 9502.71116},\n",
       " 'curb-weight': {1: 5291.14022,\n",
       "  2: 5132.0894,\n",
       "  3: 4746.57904,\n",
       "  4: 4048.22635,\n",
       "  5: 3951.38876,\n",
       "  6: 3961.13289,\n",
       "  7: 4037.78067,\n",
       "  8: 3780.53299,\n",
       "  9: 3900.2149},\n",
       " 'engine-size': {1: 3926.53157,\n",
       "  2: 3411.66171,\n",
       "  3: 3474.0453,\n",
       "  4: 3473.06293,\n",
       "  5: 3494.74974,\n",
       "  6: 3420.98747,\n",
       "  7: 3553.495,\n",
       "  8: 3646.87288,\n",
       "  9: 3558.97695},\n",
       " 'bore': {1: 4581.14581,\n",
       "  2: 4977.45892,\n",
       "  3: 6682.49479,\n",
       "  4: 7570.74603,\n",
       "  5: 7112.30512,\n",
       "  6: 7353.99279,\n",
       "  7: 7261.82362,\n",
       "  8: 7117.18971,\n",
       "  9: 7045.54844},\n",
       " 'stroke': {1: 6359.20493,\n",
       "  2: 6842.58781,\n",
       "  3: 6970.16501,\n",
       "  4: 7064.65763,\n",
       "  5: 7164.1783,\n",
       "  6: 7368.84289,\n",
       "  7: 7467.67414,\n",
       "  8: 7127.57356,\n",
       "  9: 7311.47543},\n",
       " 'compression-ratio': {1: 8100.60378,\n",
       "  2: 6093.33995,\n",
       "  3: 5775.10216,\n",
       "  4: 5835.21235,\n",
       "  5: 5816.4027,\n",
       "  6: 5835.63408,\n",
       "  7: 5842.43563,\n",
       "  8: 5874.00103,\n",
       "  9: 5799.3085},\n",
       " 'horsepower': {1: 3441.7517,\n",
       "  2: 3546.33091,\n",
       "  3: 3695.89361,\n",
       "  4: 3974.36962,\n",
       "  5: 4089.58964,\n",
       "  6: 4288.28196,\n",
       "  7: 4356.07951,\n",
       "  8: 4536.55135,\n",
       "  9: 4671.51959},\n",
       " 'peak-rpm': {1: 6303.43696,\n",
       "  2: 7207.52055,\n",
       "  3: 7260.77005,\n",
       "  4: 7992.05619,\n",
       "  5: 8236.67785,\n",
       "  6: 8808.78497,\n",
       "  7: 8778.83667,\n",
       "  8: 8638.23589,\n",
       "  9: 8845.04361},\n",
       " 'city-mpg': {1: 4352.14552,\n",
       "  2: 4071.23654,\n",
       "  3: 3861.68135,\n",
       "  4: 4081.46105,\n",
       "  5: 4236.98865,\n",
       "  6: 4165.07674,\n",
       "  7: 3839.16065,\n",
       "  8: 3907.11314,\n",
       "  9: 3952.33569},\n",
       " 'highway-mpg': {1: 4909.07562,\n",
       "  2: 3851.12529,\n",
       "  3: 4071.36382,\n",
       "  4: 3643.42294,\n",
       "  5: 3295.6706,\n",
       "  6: 3269.44946,\n",
       "  7: 3233.13212,\n",
       "  8: 3019.30986,\n",
       "  9: 3036.71324}}"
      ]
     },
     "execution_count": 388,
     "metadata": {},
     "output_type": "execute_result"
    }
   ],
   "source": [
    "rmse_each_column_K_nei = {}\n",
    "for col in dig_col:\n",
    "    if col !='price':\n",
    "        rmse_val = knn_train_test_one_col_many_k(dcars, col,'price',k_values)\n",
    "        rmse_each_column_K_nei[col]=rmse_val\n",
    "rmse_each_column_K_nei"
   ]
  },
  {
   "cell_type": "markdown",
   "metadata": {},
   "source": [
    "The dictionary is cumbersome, but we can visualize it for understanding what is going on here: "
   ]
  },
  {
   "cell_type": "code",
   "execution_count": 389,
   "metadata": {},
   "outputs": [
    {
     "data": {
      "image/png": "[encoded data removed]",
      "text/plain": [
       "<Figure size 1080x576 with 1 Axes>"
      ]
     },
     "metadata": {
      "needs_background": "light"
     },
     "output_type": "display_data"
    }
   ],
   "source": [
    "import matplotlib.pyplot as plt\n",
    "%matplotlib inline\n",
    "plt.figure(figsize=(15,8))\n",
    "for key, valu in rmse_each_column_K_nei.items():\n",
    "    lab = key\n",
    "    x = list(valu.keys())\n",
    "    y = list(valu.values())\n",
    "    plt.plot(x,y,label = key )\n",
    "    plt.xlabel('k value')\n",
    "    plt.ylabel('RMSE')\n",
    "    plt.legend()"
   ]
  },
  {
   "cell_type": "markdown",
   "metadata": {},
   "source": [
    "It is still a mess, but let us choose several columns which could be used for price prediction with the least error. So, we make a list of tuples and sort errors in ascending order."
   ]
  },
  {
   "cell_type": "code",
   "execution_count": 390,
   "metadata": {},
   "outputs": [
    {
     "name": "stdout",
     "output_type": "stream",
     "text": [
      "('wheel-base', 6055.9352)\n",
      "('length', 4920.07521)\n",
      "('width', 4032.65304)\n",
      "('height', 9972.13402)\n",
      "('curb-weight', 4316.56502)\n",
      "('engine-size', 3551.15373)\n",
      "('bore', 6633.63391)\n",
      "('stroke', 7075.15108)\n",
      "('compression-ratio', 6108.00446)\n",
      "('horsepower', 4066.70754)\n",
      "('peak-rpm', 8007.92919)\n",
      "('city-mpg', 4051.91104)\n",
      "('highway-mpg', 3592.14033)\n"
     ]
    }
   ],
   "source": [
    "list_features = list()\n",
    "for key,val in rmse_each_column_K_nei.items():\n",
    "    lis = []\n",
    "    for k,v in val.items():\n",
    "        lis.append(v)\n",
    "    meanv = round(np.average(lis),5)\n",
    "    tupl = (key,meanv)\n",
    "    print(tupl)\n",
    "    list_features.append(tupl)\n",
    "    list_features"
   ]
  },
  {
   "cell_type": "code",
   "execution_count": 391,
   "metadata": {},
   "outputs": [],
   "source": [
    "def Sort_Tuple(tup):  \n",
    "    tup.sort(key = lambda x: x[1])  \n",
    "    return tup  "
   ]
  },
  {
   "cell_type": "code",
   "execution_count": 392,
   "metadata": {},
   "outputs": [
    {
     "data": {
      "text/plain": [
       "[('engine-size', 3551.15373),\n",
       " ('highway-mpg', 3592.14033),\n",
       " ('width', 4032.65304),\n",
       " ('city-mpg', 4051.91104),\n",
       " ('horsepower', 4066.70754),\n",
       " ('curb-weight', 4316.56502),\n",
       " ('length', 4920.07521),\n",
       " ('wheel-base', 6055.9352),\n",
       " ('compression-ratio', 6108.00446),\n",
       " ('bore', 6633.63391),\n",
       " ('stroke', 7075.15108),\n",
       " ('peak-rpm', 8007.92919),\n",
       " ('height', 9972.13402)]"
      ]
     },
     "execution_count": 392,
     "metadata": {},
     "output_type": "execute_result"
    }
   ],
   "source": [
    "list_features = Sort_Tuple(list_features)\n",
    "list_features"
   ]
  },
  {
   "cell_type": "code",
   "execution_count": 393,
   "metadata": {},
   "outputs": [],
   "source": [
    "feature1 = [list_features[0][0]]\n",
    "feature2 = feature1 + [list_features[1][0]]\n",
    "feature3 = feature2 + [list_features[2][0]]\n",
    "feature4 = feature3 + [list_features[3][0]]\n",
    "feature5 = feature4 + [list_features[4][0]]"
   ]
  },
  {
   "cell_type": "code",
   "execution_count": 394,
   "metadata": {},
   "outputs": [
    {
     "name": "stdout",
     "output_type": "stream",
     "text": [
      "['engine-size'] \n",
      " ['engine-size', 'highway-mpg'] \n",
      " ['engine-size', 'highway-mpg', 'width'] \n",
      " ['engine-size', 'highway-mpg', 'width', 'city-mpg'] \n",
      " ['engine-size', 'highway-mpg', 'width', 'city-mpg', 'horsepower']\n"
     ]
    }
   ],
   "source": [
    "print(feature1,'\\n', feature2, '\\n', feature3, '\\n', feature4, '\\n',feature5)"
   ]
  },
  {
   "cell_type": "markdown",
   "metadata": {},
   "source": [
    "Features 1 to 5 is the list of columns (parameters) that have the highest correlation with the final price (in descending order). \n",
    "We can use them for price prediction trying to reduce error as only possible:"
   ]
  },
  {
   "cell_type": "code",
   "execution_count": 395,
   "metadata": {},
   "outputs": [],
   "source": [
    "features = [feature1,feature2, feature3, feature4, feature5]\n"
   ]
  },
  {
   "cell_type": "code",
   "execution_count": 396,
   "metadata": {},
   "outputs": [],
   "source": [
    "two_best = [\"curb-weight\", \"horsepower\"]\n",
    "three_best = [\"curb-weight\", \"horsepower\", \"length\"]\n",
    "four_best = [\"curb-weight\", \"horsepower\", \"length\", \"highway-mpg\"]\n",
    "five_best = [\"curb-weight\", \"horsepower\", \"length\", \"highway-mpg\", \"engine-size\"]\n"
   ]
  },
  {
   "cell_type": "code",
   "execution_count": 397,
   "metadata": {},
   "outputs": [
    {
     "name": "stdout",
     "output_type": "stream",
     "text": [
      "['engine-size'] \n",
      " 2804.886798428771\n",
      "['engine-size', 'highway-mpg'] \n",
      " 2976.438740508529\n",
      "['engine-size', 'highway-mpg', 'width'] \n",
      " 3138.6167174728425\n",
      "['engine-size', 'highway-mpg', 'width', 'city-mpg'] \n",
      " 4377.82175288122\n",
      "['engine-size', 'highway-mpg', 'width', 'city-mpg', 'horsepower'] \n",
      " 2762.6278172783245\n"
     ]
    }
   ],
   "source": [
    "for fea in features:\n",
    "    rmse = knn_train_test_5_neigh(dcars,fea,'price')\n",
    "    print(fea, '\\n', rmse)"
   ]
  },
  {
   "cell_type": "markdown",
   "metadata": {},
   "source": [
    "We can see the smallest error we can get if we use 5 parameters. "
   ]
  },
  {
   "cell_type": "markdown",
   "metadata": {},
   "source": [
    "Next step: we can experiment with the number of neighbors with the same purpose \n",
    "to find the optimum number of them for correct price prediction:"
   ]
  },
  {
   "cell_type": "markdown",
   "metadata": {},
   "source": [
    " \"engine-size\", \"highway-mpg\", \"curb-weight\",\"horsepower\"."
   ]
  },
  {
   "cell_type": "code",
   "execution_count": 398,
   "metadata": {},
   "outputs": [],
   "source": [
    "def knn_train_test_4features_many_neig(dbase,train_col,target_col,k_values):    # many neighbours, 3 or 4 features\n",
    "    shuffled_index = np.random.permutation(dbase.index)\n",
    "    dbase = dbase.reindex(shuffled_index)\n",
    "    len_train = int(round(len(dbase)*0.75,0))\n",
    "    train = dbase[:len_train]\n",
    "    test = dbase[len_train:]\n",
    "    remse_col = {}\n",
    "    k_rmse = {}\n",
    "    for k in range(1,k_values+1):\n",
    "        knn = KNeighborsRegressor(n_neighbors=k)\n",
    "        knn.fit(train[train_col], train[target_col])\n",
    "        predictions = knn.predict(test[train_col])\n",
    "        rmse_v = mean_squared_error(test[target_col],predictions)**0.5        \n",
    "        k_rmse[k]=round(rmse_v,5)\n",
    "    return k_rmse\n",
    "    "
   ]
  },
  {
   "cell_type": "code",
   "execution_count": 399,
   "metadata": {},
   "outputs": [
    {
     "data": {
      "text/plain": [
       "{1: 2846.73746,\n",
       " 2: 2452.96298,\n",
       " 3: 2500.66042,\n",
       " 4: 2815.66925,\n",
       " 5: 3321.48922,\n",
       " 6: 3435.8301,\n",
       " 7: 3513.64264,\n",
       " 8: 3629.80112,\n",
       " 9: 3522.61962,\n",
       " 10: 3487.49993,\n",
       " 11: 3620.85841,\n",
       " 12: 3788.9155,\n",
       " 13: 3878.34774,\n",
       " 14: 3988.3414,\n",
       " 15: 4038.8186,\n",
       " 16: 4048.63479,\n",
       " 17: 4000.3394,\n",
       " 18: 4237.25241,\n",
       " 19: 4395.27884,\n",
       " 20: 4411.91125,\n",
       " 21: 4506.55031,\n",
       " 22: 4568.57614,\n",
       " 23: 4658.60347,\n",
       " 24: 4713.17962,\n",
       " 25: 4760.94055,\n",
       " 26: 4807.11663,\n",
       " 27: 4829.77177,\n",
       " 28: 4884.30036,\n",
       " 29: 4936.62992,\n",
       " 30: 5030.33293,\n",
       " 31: 5109.01894,\n",
       " 32: 5196.03701,\n",
       " 33: 5285.75207,\n",
       " 34: 5304.45799,\n",
       " 35: 5365.64837}"
      ]
     },
     "execution_count": 399,
     "metadata": {},
     "output_type": "execute_result"
    }
   ],
   "source": [
    "knn_train_test_4features_many_neig(dcars, feature4,'price',k_values=35)"
   ]
  },
  {
   "cell_type": "code",
   "execution_count": 400,
   "metadata": {},
   "outputs": [
    {
     "data": {
      "text/plain": [
       "{1: 2650.56931,\n",
       " 2: 2524.7208,\n",
       " 3: 2682.38729,\n",
       " 4: 2644.31361,\n",
       " 5: 2784.31432,\n",
       " 6: 2870.44028,\n",
       " 7: 3059.16359,\n",
       " 8: 3255.59071,\n",
       " 9: 3611.2162,\n",
       " 10: 3828.04161,\n",
       " 11: 4077.48722,\n",
       " 12: 4319.24854,\n",
       " 13: 4473.75094,\n",
       " 14: 4621.14993,\n",
       " 15: 4668.94089,\n",
       " 16: 4755.75453,\n",
       " 17: 4720.61586,\n",
       " 18: 4764.73854,\n",
       " 19: 4813.47354,\n",
       " 20: 4869.85317,\n",
       " 21: 4919.95945,\n",
       " 22: 4984.4891,\n",
       " 23: 5063.2749,\n",
       " 24: 5138.43079,\n",
       " 25: 5212.73187}"
      ]
     },
     "execution_count": 400,
     "metadata": {},
     "output_type": "execute_result"
    }
   ],
   "source": [
    "knn_train_test_4features_many_neig(dcars, feature5,'price',k_values=25)"
   ]
  },
  {
   "cell_type": "code",
   "execution_count": 401,
   "metadata": {},
   "outputs": [],
   "source": [
    "fea3 = knn_train_test_4features_many_neig(dcars, feature3,'price',k_values=20)\n",
    "fea4 = knn_train_test_4features_many_neig(dcars, feature4,'price',k_values=20)\n",
    "fea5 = knn_train_test_4features_many_neig(dcars, feature5,'price',k_values=20)"
   ]
  },
  {
   "cell_type": "code",
   "execution_count": 402,
   "metadata": {},
   "outputs": [],
   "source": [
    "rmse_each_4_feature_K_nei = dict()\n",
    "rmse_each_4_feature_K_nei[\"3 Features\"] = fea3\n",
    "rmse_each_4_feature_K_nei[\"4 Features\"] = fea4\n",
    "rmse_each_4_feature_K_nei[\"5 Features\"] = fea5\n"
   ]
  },
  {
   "cell_type": "code",
   "execution_count": 403,
   "metadata": {},
   "outputs": [
    {
     "data": {
      "image/png": "[encoded data removed]",
      "text/plain": [
       "<Figure size 1080x576 with 1 Axes>"
      ]
     },
     "metadata": {
      "needs_background": "light"
     },
     "output_type": "display_data"
    }
   ],
   "source": [
    "plt.figure(figsize=(15,8))\n",
    "for key, valu in rmse_each_4_feature_K_nei.items():\n",
    "    lab = key\n",
    "    x = list(valu.keys())\n",
    "    y = list(valu.values())\n",
    "    plt.plot(x,y,label = key )\n",
    "    plt.xlabel('k value')\n",
    "    plt.ylabel('RMSE')\n",
    "    plt.legend()"
   ]
  },
  {
   "cell_type": "markdown",
   "metadata": {},
   "source": [
    "We can see the lowest error we can get if we use 3-5 neighbors for 5 features. The result of running the function shows us slightly different results for each permutation of the initial database. But we get the best result rmse = 1900. "
   ]
  },
  {
   "cell_type": "markdown",
   "metadata": {},
   "source": [
    "Let us make cross-validation just to check how correct was the choice of the initial set for price prediction:\n",
    "    "
   ]
  },
  {
   "cell_type": "code",
   "execution_count": 404,
   "metadata": {},
   "outputs": [
    {
     "name": "stdout",
     "output_type": "stream",
     "text": [
      "3 folds:  avg RMSE:  3012.844801642501 std RMSE:  61.44952725480945\n",
      "5 folds:  avg RMSE:  2862.2411001972714 std RMSE:  83.82273170966755\n",
      "7 folds:  avg RMSE:  2805.7829284603163 std RMSE:  348.91061912915217\n",
      "9 folds:  avg RMSE:  2830.393353227079 std RMSE:  681.1528620540874\n",
      "10 folds:  avg RMSE:  2715.5707564420554 std RMSE:  576.3714901449949\n",
      "11 folds:  avg RMSE:  2772.933738594246 std RMSE:  857.4886317574585\n",
      "13 folds:  avg RMSE:  2735.451496179227 std RMSE:  796.8741332501232\n",
      "15 folds:  avg RMSE:  2670.0670286486284 std RMSE:  918.5099640076639\n",
      "17 folds:  avg RMSE:  2603.6019343961684 std RMSE:  1073.1402552925629\n",
      "19 folds:  avg RMSE:  2653.118976802094 std RMSE:  948.5207878483506\n",
      "21 folds:  avg RMSE:  2546.2917422792298 std RMSE:  1178.6196464282427\n",
      "23 folds:  avg RMSE:  2554.953659955101 std RMSE:  1162.6391235846836\n"
     ]
    }
   ],
   "source": [
    "from sklearn.model_selection import cross_val_score, KFold\n",
    "\n",
    "num_folds = [3, 5, 7, 9, 10, 11, 13, 15, 17, 19, 21, 23]\n",
    "\n",
    "for fold in num_folds:\n",
    "    kf = KFold(fold, shuffle=True, random_state=1)\n",
    "    model = KNeighborsRegressor()\n",
    "    mses = cross_val_score(model, dcars[feature5], dcars[\"price\"], scoring=\"neg_mean_squared_error\", cv=kf)\n",
    "    rmses = np.sqrt(np.absolute(mses))\n",
    "    avg_rmse = np.mean(rmses)\n",
    "    std_rmse = np.std(rmses)\n",
    "    print(str(fold), \"folds: \", \"avg RMSE: \", str(avg_rmse), \"std RMSE: \", str(std_rmse))\n"
   ]
  },
  {
   "cell_type": "code",
   "execution_count": 405,
   "metadata": {},
   "outputs": [
    {
     "name": "stdout",
     "output_type": "stream",
     "text": [
      "Root Square Error for prediction prices of cars at k = 2 and 5 chosen features is  2329.57\n",
      "2329.57\n"
     ]
    }
   ],
   "source": [
    "shuffled_index = np.random.permutation(dcars.index)\n",
    "dcars = dcars.reindex(shuffled_index)\n",
    "len_train = int(round(len(dcars)*0.75,0))\n",
    "train = dcars[:len_train]\n",
    "test = dcars[len_train:]\n",
    "knn = KNeighborsRegressor(n_neighbors=2)\n",
    "knn.fit(train[feature5], train['price'])\n",
    "predictions = knn.predict(test[feature5])\n",
    "rmse_v = mean_squared_error(test['price'],predictions)**0.5        \n",
    "print('Root Square Error for prediction prices of cars at k = 2 and 5 chosen features is ', round(rmse_v,2))\n",
    "rmse_v = mean_squared_error(test['price'],predictions)**0.5        \n",
    "print(round(rmse_v,2))\n",
    "\n"
   ]
  },
  {
   "cell_type": "markdown",
   "metadata": {},
   "source": [
    "# Conclusions "
   ]
  },
  {
   "cell_type": "markdown",
   "metadata": {},
   "source": [
    "The number of experiments algorithm using different with initial parameters shows us that we can make the most correct prediction of prices using the 5 features (5 columns with different technical parameters) and a small number of neighbors 2 or 3. But the result is not so consistent and depends on the permutation of the initial dataset. Sometimes it shows better results for 4 and even 3 features. But, in my opinion, we would better use more features for lower variability, taking into account more initial parameters, although with some lack of accuracy.\n",
    "\n",
    "What we can tell for sure, that the algorithm shows better results with a low number of neighbors. The lowest error we can get using this model is rmse = 1900."
   ]
  },
  {
   "cell_type": "markdown",
   "metadata": {},
   "source": []
  }
 ],
 "metadata": {
  "kernelspec": {
   "display_name": "Python 3",
   "language": "python",
   "name": "python3"
  },
  "language_info": {
   "codemirror_mode": {
    "name": "ipython",
    "version": 3
   },
   "file_extension": ".py",
   "mimetype": "text/x-python",
   "name": "python",
   "nbconvert_exporter": "python",
   "pygments_lexer": "ipython3",
   "version": "3.7.6"
  }
 },
 "nbformat": 4,
 "nbformat_minor": 4
}
