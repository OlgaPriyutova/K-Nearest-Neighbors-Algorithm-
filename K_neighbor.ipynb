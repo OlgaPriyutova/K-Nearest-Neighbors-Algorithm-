{
 "cells": [
  {
   "cell_type": "markdown",
   "metadata": {},
   "source": [
    "# Implementation K-nearest Neighbors Algorithm for Prediction of Market Prices for Cars."
   ]
  },
  {
   "cell_type": "markdown",
   "metadata": {},
   "source": [
    "The purpose of this project is to practice how to implement the K-nearest Neighbors algorithm for the calculation of market indicators.  The project was made during studying at Dataquest boot camp. \n",
    "The initial file was taken from \n",
    "URL dataset = 'https://archive.ics.uci.edu/ml/machine-learning-databases/autos/imports-85.data'. \n",
    "There were no headers in the initial file, but we can find the names for columns in the documentations. I put the fragment of the documentation into the separate file name.csv. Let us take names of columns from there:\n"
   ]
  },
  {
   "cell_type": "code",
   "execution_count": 1458,
   "metadata": {},
   "outputs": [],
   "source": [
    "import pandas as pd\n",
    "import numpy as np\n",
    "names = pd.read_csv('Name.csv')"
   ]
  },
  {
   "cell_type": "code",
   "execution_count": 1459,
   "metadata": {},
   "outputs": [
    {
     "data": {
      "text/html": [
       "<div>\n",
       "<style scoped>\n",
       "    .dataframe tbody tr th:only-of-type {\n",
       "        vertical-align: middle;\n",
       "    }\n",
       "\n",
       "    .dataframe tbody tr th {\n",
       "        vertical-align: top;\n",
       "    }\n",
       "\n",
       "    .dataframe thead th {\n",
       "        text-align: right;\n",
       "    }\n",
       "</style>\n",
       "<table border=\"1\" class=\"dataframe\">\n",
       "  <thead>\n",
       "    <tr style=\"text-align: right;\">\n",
       "      <th></th>\n",
       "      <th>Names</th>\n",
       "    </tr>\n",
       "  </thead>\n",
       "  <tbody>\n",
       "    <tr>\n",
       "      <th>0</th>\n",
       "      <td>1. symboling:</td>\n",
       "    </tr>\n",
       "    <tr>\n",
       "      <th>1</th>\n",
       "      <td>2. normalized-losses:</td>\n",
       "    </tr>\n",
       "    <tr>\n",
       "      <th>2</th>\n",
       "      <td>3. make:</td>\n",
       "    </tr>\n",
       "    <tr>\n",
       "      <th>3</th>\n",
       "      <td>4. fuel-type:</td>\n",
       "    </tr>\n",
       "    <tr>\n",
       "      <th>4</th>\n",
       "      <td>5. aspiration:</td>\n",
       "    </tr>\n",
       "  </tbody>\n",
       "</table>\n",
       "</div>"
      ],
      "text/plain": [
       "                       Names\n",
       "0    1. symboling:          \n",
       "1    2. normalized-losses:  \n",
       "2    3. make:               \n",
       "3    4. fuel-type:          \n",
       "4    5. aspiration:         "
      ]
     },
     "execution_count": 1459,
     "metadata": {},
     "output_type": "execute_result"
    }
   ],
   "source": [
    "names.head()"
   ]
  },
  {
   "cell_type": "code",
   "execution_count": 1460,
   "metadata": {},
   "outputs": [],
   "source": [
    "col = []\n",
    "for ik in range(len(names)):\n",
    "     name = names.loc[ik]\n",
    "     name = str(name)[13:32]\n",
    "     name = name.replace(':','')\n",
    "     name = name.replace('\\nName 25, dt','').strip()\n",
    "     col.append(name)"
   ]
  },
  {
   "cell_type": "code",
   "execution_count": 1461,
   "metadata": {},
   "outputs": [
    {
     "name": "stdout",
     "output_type": "stream",
     "text": [
      "['symboling', 'normalized-losses', 'make', 'fuel-type', 'aspiration', 'num-of-doors', 'body-style', 'drive-wheels', 'engine-location', 'wheel-base', 'length', 'width', 'height', 'curb-weight', 'engine-type', 'num-of-cylinders', 'engine-size', 'fuel-system', 'bore', 'stroke', 'compression-ratio', 'horsepower', 'peak-rpm', 'city-mpg', 'highway-mpg', 'price', 'me 26, dtype obje']\n"
     ]
    }
   ],
   "source": [
    "print(col)"
   ]
  },
  {
   "cell_type": "markdown",
   "metadata": {},
   "source": [
    "There is an unnecessary entry at the end, let us get rid of it:"
   ]
  },
  {
   "cell_type": "code",
   "execution_count": 1462,
   "metadata": {},
   "outputs": [
    {
     "name": "stdout",
     "output_type": "stream",
     "text": [
      "['symboling', 'normalized-losses', 'make', 'fuel-type', 'aspiration', 'num-of-doors', 'body-style', 'drive-wheels', 'engine-location', 'wheel-base', 'length', 'width', 'height', 'curb-weight', 'engine-type', 'num-of-cylinders', 'engine-size', 'fuel-system', 'bore', 'stroke', 'compression-ratio', 'horsepower', 'peak-rpm', 'city-mpg', 'highway-mpg', 'price']\n"
     ]
    }
   ],
   "source": [
    "columns = col[:26]\n",
    "print(columns)"
   ]
  },
  {
   "cell_type": "markdown",
   "metadata": {},
   "source": [
    "Now, we can use the list for naming the columns of initial file:"
   ]
  },
  {
   "cell_type": "code",
   "execution_count": 1463,
   "metadata": {},
   "outputs": [
    {
     "data": {
      "text/html": [
       "<div>\n",
       "<style scoped>\n",
       "    .dataframe tbody tr th:only-of-type {\n",
       "        vertical-align: middle;\n",
       "    }\n",
       "\n",
       "    .dataframe tbody tr th {\n",
       "        vertical-align: top;\n",
       "    }\n",
       "\n",
       "    .dataframe thead th {\n",
       "        text-align: right;\n",
       "    }\n",
       "</style>\n",
       "<table border=\"1\" class=\"dataframe\">\n",
       "  <thead>\n",
       "    <tr style=\"text-align: right;\">\n",
       "      <th></th>\n",
       "      <th>symboling</th>\n",
       "      <th>normalized-losses</th>\n",
       "      <th>make</th>\n",
       "      <th>fuel-type</th>\n",
       "      <th>aspiration</th>\n",
       "      <th>num-of-doors</th>\n",
       "      <th>body-style</th>\n",
       "      <th>drive-wheels</th>\n",
       "      <th>engine-location</th>\n",
       "      <th>wheel-base</th>\n",
       "      <th>...</th>\n",
       "      <th>engine-size</th>\n",
       "      <th>fuel-system</th>\n",
       "      <th>bore</th>\n",
       "      <th>stroke</th>\n",
       "      <th>compression-ratio</th>\n",
       "      <th>horsepower</th>\n",
       "      <th>peak-rpm</th>\n",
       "      <th>city-mpg</th>\n",
       "      <th>highway-mpg</th>\n",
       "      <th>price</th>\n",
       "    </tr>\n",
       "  </thead>\n",
       "  <tbody>\n",
       "    <tr>\n",
       "      <th>0</th>\n",
       "      <td>3</td>\n",
       "      <td>?</td>\n",
       "      <td>alfa-romero</td>\n",
       "      <td>gas</td>\n",
       "      <td>std</td>\n",
       "      <td>two</td>\n",
       "      <td>convertible</td>\n",
       "      <td>rwd</td>\n",
       "      <td>front</td>\n",
       "      <td>88.6</td>\n",
       "      <td>...</td>\n",
       "      <td>130</td>\n",
       "      <td>mpfi</td>\n",
       "      <td>3.47</td>\n",
       "      <td>2.68</td>\n",
       "      <td>9.0</td>\n",
       "      <td>111</td>\n",
       "      <td>5000</td>\n",
       "      <td>21</td>\n",
       "      <td>27</td>\n",
       "      <td>13495</td>\n",
       "    </tr>\n",
       "    <tr>\n",
       "      <th>1</th>\n",
       "      <td>3</td>\n",
       "      <td>?</td>\n",
       "      <td>alfa-romero</td>\n",
       "      <td>gas</td>\n",
       "      <td>std</td>\n",
       "      <td>two</td>\n",
       "      <td>convertible</td>\n",
       "      <td>rwd</td>\n",
       "      <td>front</td>\n",
       "      <td>88.6</td>\n",
       "      <td>...</td>\n",
       "      <td>130</td>\n",
       "      <td>mpfi</td>\n",
       "      <td>3.47</td>\n",
       "      <td>2.68</td>\n",
       "      <td>9.0</td>\n",
       "      <td>111</td>\n",
       "      <td>5000</td>\n",
       "      <td>21</td>\n",
       "      <td>27</td>\n",
       "      <td>16500</td>\n",
       "    </tr>\n",
       "    <tr>\n",
       "      <th>2</th>\n",
       "      <td>1</td>\n",
       "      <td>?</td>\n",
       "      <td>alfa-romero</td>\n",
       "      <td>gas</td>\n",
       "      <td>std</td>\n",
       "      <td>two</td>\n",
       "      <td>hatchback</td>\n",
       "      <td>rwd</td>\n",
       "      <td>front</td>\n",
       "      <td>94.5</td>\n",
       "      <td>...</td>\n",
       "      <td>152</td>\n",
       "      <td>mpfi</td>\n",
       "      <td>2.68</td>\n",
       "      <td>3.47</td>\n",
       "      <td>9.0</td>\n",
       "      <td>154</td>\n",
       "      <td>5000</td>\n",
       "      <td>19</td>\n",
       "      <td>26</td>\n",
       "      <td>16500</td>\n",
       "    </tr>\n",
       "    <tr>\n",
       "      <th>3</th>\n",
       "      <td>2</td>\n",
       "      <td>164</td>\n",
       "      <td>audi</td>\n",
       "      <td>gas</td>\n",
       "      <td>std</td>\n",
       "      <td>four</td>\n",
       "      <td>sedan</td>\n",
       "      <td>fwd</td>\n",
       "      <td>front</td>\n",
       "      <td>99.8</td>\n",
       "      <td>...</td>\n",
       "      <td>109</td>\n",
       "      <td>mpfi</td>\n",
       "      <td>3.19</td>\n",
       "      <td>3.40</td>\n",
       "      <td>10.0</td>\n",
       "      <td>102</td>\n",
       "      <td>5500</td>\n",
       "      <td>24</td>\n",
       "      <td>30</td>\n",
       "      <td>13950</td>\n",
       "    </tr>\n",
       "    <tr>\n",
       "      <th>4</th>\n",
       "      <td>2</td>\n",
       "      <td>164</td>\n",
       "      <td>audi</td>\n",
       "      <td>gas</td>\n",
       "      <td>std</td>\n",
       "      <td>four</td>\n",
       "      <td>sedan</td>\n",
       "      <td>4wd</td>\n",
       "      <td>front</td>\n",
       "      <td>99.4</td>\n",
       "      <td>...</td>\n",
       "      <td>136</td>\n",
       "      <td>mpfi</td>\n",
       "      <td>3.19</td>\n",
       "      <td>3.40</td>\n",
       "      <td>8.0</td>\n",
       "      <td>115</td>\n",
       "      <td>5500</td>\n",
       "      <td>18</td>\n",
       "      <td>22</td>\n",
       "      <td>17450</td>\n",
       "    </tr>\n",
       "  </tbody>\n",
       "</table>\n",
       "<p>5 rows × 26 columns</p>\n",
       "</div>"
      ],
      "text/plain": [
       "   symboling normalized-losses         make fuel-type aspiration num-of-doors  \\\n",
       "0          3                 ?  alfa-romero       gas        std          two   \n",
       "1          3                 ?  alfa-romero       gas        std          two   \n",
       "2          1                 ?  alfa-romero       gas        std          two   \n",
       "3          2               164         audi       gas        std         four   \n",
       "4          2               164         audi       gas        std         four   \n",
       "\n",
       "    body-style drive-wheels engine-location  wheel-base  ...  engine-size  \\\n",
       "0  convertible          rwd           front        88.6  ...          130   \n",
       "1  convertible          rwd           front        88.6  ...          130   \n",
       "2    hatchback          rwd           front        94.5  ...          152   \n",
       "3        sedan          fwd           front        99.8  ...          109   \n",
       "4        sedan          4wd           front        99.4  ...          136   \n",
       "\n",
       "   fuel-system  bore  stroke compression-ratio horsepower  peak-rpm city-mpg  \\\n",
       "0         mpfi  3.47    2.68               9.0        111      5000       21   \n",
       "1         mpfi  3.47    2.68               9.0        111      5000       21   \n",
       "2         mpfi  2.68    3.47               9.0        154      5000       19   \n",
       "3         mpfi  3.19    3.40              10.0        102      5500       24   \n",
       "4         mpfi  3.19    3.40               8.0        115      5500       18   \n",
       "\n",
       "  highway-mpg  price  \n",
       "0          27  13495  \n",
       "1          27  16500  \n",
       "2          26  16500  \n",
       "3          30  13950  \n",
       "4          22  17450  \n",
       "\n",
       "[5 rows x 26 columns]"
      ]
     },
     "execution_count": 1463,
     "metadata": {},
     "output_type": "execute_result"
    }
   ],
   "source": [
    "cars =pd.read_csv('imports-85.data', names = columns)\n",
    "cars.head()"
   ]
  },
  {
   "cell_type": "markdown",
   "metadata": {},
   "source": [
    "# Cleaning the data"
   ]
  },
  {
   "cell_type": "markdown",
   "metadata": {},
   "source": [
    "These are some missing data marked as \"?\". We should get rid of the question marks. Columns with a lot of such entries I will drop completely.\n",
    "The row without indication price I will erase completely. \n",
    "If the other columns are missing some entries, let us change them for the mean values of the entire column."
   ]
  },
  {
   "cell_type": "code",
   "execution_count": 1464,
   "metadata": {},
   "outputs": [
    {
     "data": {
      "text/plain": [
       "5     15250\n",
       "6     17710\n",
       "7     18920\n",
       "8     23875\n",
       "9         ?\n",
       "10    16430\n",
       "11    16925\n",
       "12    20970\n",
       "13    21105\n",
       "14    24565\n",
       "Name: price, dtype: object"
      ]
     },
     "execution_count": 1464,
     "metadata": {},
     "output_type": "execute_result"
    }
   ],
   "source": [
    "cars['price'][5:15]"
   ]
  },
  {
   "cell_type": "markdown",
   "metadata": {},
   "source": [
    "Let us choose the columns with numerical data only:"
   ]
  },
  {
   "cell_type": "code",
   "execution_count": 1465,
   "metadata": {},
   "outputs": [],
   "source": [
    "dig_cols = ['normalized-losses', 'wheel-base', 'length', 'width', 'height', 'curb-weight', 'engine-size', 'bore', 'stroke', 'compression-ratio', 'horsepower', 'peak-rpm', 'city-mpg', 'highway-mpg', 'price']\n",
    "digital_cars = cars[dig_cols]"
   ]
  },
  {
   "cell_type": "code",
   "execution_count": 1466,
   "metadata": {},
   "outputs": [
    {
     "data": {
      "text/plain": [
       "normalized-losses     object\n",
       "wheel-base           float64\n",
       "length               float64\n",
       "width                float64\n",
       "height               float64\n",
       "curb-weight            int64\n",
       "engine-size            int64\n",
       "bore                  object\n",
       "stroke                object\n",
       "compression-ratio    float64\n",
       "horsepower            object\n",
       "peak-rpm              object\n",
       "city-mpg               int64\n",
       "highway-mpg            int64\n",
       "price                 object\n",
       "dtype: object"
      ]
     },
     "execution_count": 1466,
     "metadata": {},
     "output_type": "execute_result"
    }
   ],
   "source": [
    "digital_cars.dtypes"
   ]
  },
  {
   "cell_type": "code",
   "execution_count": 1467,
   "metadata": {},
   "outputs": [
    {
     "data": {
      "text/html": [
       "<div>\n",
       "<style scoped>\n",
       "    .dataframe tbody tr th:only-of-type {\n",
       "        vertical-align: middle;\n",
       "    }\n",
       "\n",
       "    .dataframe tbody tr th {\n",
       "        vertical-align: top;\n",
       "    }\n",
       "\n",
       "    .dataframe thead th {\n",
       "        text-align: right;\n",
       "    }\n",
       "</style>\n",
       "<table border=\"1\" class=\"dataframe\">\n",
       "  <thead>\n",
       "    <tr style=\"text-align: right;\">\n",
       "      <th></th>\n",
       "      <th>normalized-losses</th>\n",
       "      <th>wheel-base</th>\n",
       "      <th>length</th>\n",
       "      <th>width</th>\n",
       "      <th>height</th>\n",
       "      <th>curb-weight</th>\n",
       "      <th>engine-size</th>\n",
       "      <th>bore</th>\n",
       "      <th>stroke</th>\n",
       "      <th>compression-ratio</th>\n",
       "      <th>horsepower</th>\n",
       "      <th>peak-rpm</th>\n",
       "      <th>city-mpg</th>\n",
       "      <th>highway-mpg</th>\n",
       "      <th>price</th>\n",
       "    </tr>\n",
       "  </thead>\n",
       "  <tbody>\n",
       "    <tr>\n",
       "      <th>0</th>\n",
       "      <td>?</td>\n",
       "      <td>88.6</td>\n",
       "      <td>168.8</td>\n",
       "      <td>64.1</td>\n",
       "      <td>48.8</td>\n",
       "      <td>2548</td>\n",
       "      <td>130</td>\n",
       "      <td>3.47</td>\n",
       "      <td>2.68</td>\n",
       "      <td>9.0</td>\n",
       "      <td>111</td>\n",
       "      <td>5000</td>\n",
       "      <td>21</td>\n",
       "      <td>27</td>\n",
       "      <td>13495</td>\n",
       "    </tr>\n",
       "    <tr>\n",
       "      <th>1</th>\n",
       "      <td>?</td>\n",
       "      <td>88.6</td>\n",
       "      <td>168.8</td>\n",
       "      <td>64.1</td>\n",
       "      <td>48.8</td>\n",
       "      <td>2548</td>\n",
       "      <td>130</td>\n",
       "      <td>3.47</td>\n",
       "      <td>2.68</td>\n",
       "      <td>9.0</td>\n",
       "      <td>111</td>\n",
       "      <td>5000</td>\n",
       "      <td>21</td>\n",
       "      <td>27</td>\n",
       "      <td>16500</td>\n",
       "    </tr>\n",
       "    <tr>\n",
       "      <th>2</th>\n",
       "      <td>?</td>\n",
       "      <td>94.5</td>\n",
       "      <td>171.2</td>\n",
       "      <td>65.5</td>\n",
       "      <td>52.4</td>\n",
       "      <td>2823</td>\n",
       "      <td>152</td>\n",
       "      <td>2.68</td>\n",
       "      <td>3.47</td>\n",
       "      <td>9.0</td>\n",
       "      <td>154</td>\n",
       "      <td>5000</td>\n",
       "      <td>19</td>\n",
       "      <td>26</td>\n",
       "      <td>16500</td>\n",
       "    </tr>\n",
       "    <tr>\n",
       "      <th>3</th>\n",
       "      <td>164</td>\n",
       "      <td>99.8</td>\n",
       "      <td>176.6</td>\n",
       "      <td>66.2</td>\n",
       "      <td>54.3</td>\n",
       "      <td>2337</td>\n",
       "      <td>109</td>\n",
       "      <td>3.19</td>\n",
       "      <td>3.40</td>\n",
       "      <td>10.0</td>\n",
       "      <td>102</td>\n",
       "      <td>5500</td>\n",
       "      <td>24</td>\n",
       "      <td>30</td>\n",
       "      <td>13950</td>\n",
       "    </tr>\n",
       "    <tr>\n",
       "      <th>4</th>\n",
       "      <td>164</td>\n",
       "      <td>99.4</td>\n",
       "      <td>176.6</td>\n",
       "      <td>66.4</td>\n",
       "      <td>54.3</td>\n",
       "      <td>2824</td>\n",
       "      <td>136</td>\n",
       "      <td>3.19</td>\n",
       "      <td>3.40</td>\n",
       "      <td>8.0</td>\n",
       "      <td>115</td>\n",
       "      <td>5500</td>\n",
       "      <td>18</td>\n",
       "      <td>22</td>\n",
       "      <td>17450</td>\n",
       "    </tr>\n",
       "  </tbody>\n",
       "</table>\n",
       "</div>"
      ],
      "text/plain": [
       "  normalized-losses  wheel-base  length  width  height  curb-weight  \\\n",
       "0                 ?        88.6   168.8   64.1    48.8         2548   \n",
       "1                 ?        88.6   168.8   64.1    48.8         2548   \n",
       "2                 ?        94.5   171.2   65.5    52.4         2823   \n",
       "3               164        99.8   176.6   66.2    54.3         2337   \n",
       "4               164        99.4   176.6   66.4    54.3         2824   \n",
       "\n",
       "   engine-size  bore stroke  compression-ratio horsepower peak-rpm  city-mpg  \\\n",
       "0          130  3.47   2.68                9.0        111     5000        21   \n",
       "1          130  3.47   2.68                9.0        111     5000        21   \n",
       "2          152  2.68   3.47                9.0        154     5000        19   \n",
       "3          109  3.19   3.40               10.0        102     5500        24   \n",
       "4          136  3.19   3.40                8.0        115     5500        18   \n",
       "\n",
       "   highway-mpg  price  \n",
       "0           27  13495  \n",
       "1           27  16500  \n",
       "2           26  16500  \n",
       "3           30  13950  \n",
       "4           22  17450  "
      ]
     },
     "execution_count": 1467,
     "metadata": {},
     "output_type": "execute_result"
    }
   ],
   "source": [
    "digital_cars.head()"
   ]
  },
  {
   "cell_type": "markdown",
   "metadata": {},
   "source": [
    "All \"?\" are changed for NaN values:"
   ]
  },
  {
   "cell_type": "code",
   "execution_count": 1468,
   "metadata": {},
   "outputs": [],
   "source": [
    "digital_cars = digital_cars.replace('?',np.nan)"
   ]
  },
  {
   "cell_type": "markdown",
   "metadata": {},
   "source": [
    "Some of the columns are still indicated as not of numerical ones, let me fix it: "
   ]
  },
  {
   "cell_type": "code",
   "execution_count": 1469,
   "metadata": {},
   "outputs": [],
   "source": [
    "dcars = digital_cars.astype(float)"
   ]
  },
  {
   "cell_type": "markdown",
   "metadata": {},
   "source": [
    "Everything is correct now:"
   ]
  },
  {
   "cell_type": "code",
   "execution_count": 1470,
   "metadata": {},
   "outputs": [
    {
     "data": {
      "text/plain": [
       "normalized-losses    float64\n",
       "wheel-base           float64\n",
       "length               float64\n",
       "width                float64\n",
       "height               float64\n",
       "curb-weight          float64\n",
       "engine-size          float64\n",
       "bore                 float64\n",
       "stroke               float64\n",
       "compression-ratio    float64\n",
       "horsepower           float64\n",
       "peak-rpm             float64\n",
       "city-mpg             float64\n",
       "highway-mpg          float64\n",
       "price                float64\n",
       "dtype: object"
      ]
     },
     "execution_count": 1470,
     "metadata": {},
     "output_type": "execute_result"
    }
   ],
   "source": [
    "dcars.dtypes"
   ]
  },
  {
   "cell_type": "markdown",
   "metadata": {},
   "source": [
    "Let us check how many absent values do we have in the dataset. The k-nearest neighbor's algorithm can work if there are no missing values in the dataset."
   ]
  },
  {
   "cell_type": "code",
   "execution_count": 1471,
   "metadata": {},
   "outputs": [
    {
     "data": {
      "text/plain": [
       "normalized-losses    41\n",
       "wheel-base            0\n",
       "length                0\n",
       "width                 0\n",
       "height                0\n",
       "curb-weight           0\n",
       "engine-size           0\n",
       "bore                  4\n",
       "stroke                4\n",
       "compression-ratio     0\n",
       "horsepower            2\n",
       "peak-rpm              2\n",
       "city-mpg              0\n",
       "highway-mpg           0\n",
       "price                 4\n",
       "dtype: int64"
      ]
     },
     "execution_count": 1471,
     "metadata": {},
     "output_type": "execute_result"
    }
   ],
   "source": [
    "dcars.isnull().sum()"
   ]
  },
  {
   "cell_type": "markdown",
   "metadata": {},
   "source": [
    "Since the first column has 41 empty entries, it would be a good idea to delete this column completely. "
   ]
  },
  {
   "cell_type": "code",
   "execution_count": 1472,
   "metadata": {},
   "outputs": [],
   "source": [
    "dig_col = dig_cols[1:]\n",
    "dcars = dcars[dig_col]"
   ]
  },
  {
   "cell_type": "code",
   "execution_count": 1473,
   "metadata": {},
   "outputs": [
    {
     "data": {
      "text/html": [
       "<div>\n",
       "<style scoped>\n",
       "    .dataframe tbody tr th:only-of-type {\n",
       "        vertical-align: middle;\n",
       "    }\n",
       "\n",
       "    .dataframe tbody tr th {\n",
       "        vertical-align: top;\n",
       "    }\n",
       "\n",
       "    .dataframe thead th {\n",
       "        text-align: right;\n",
       "    }\n",
       "</style>\n",
       "<table border=\"1\" class=\"dataframe\">\n",
       "  <thead>\n",
       "    <tr style=\"text-align: right;\">\n",
       "      <th></th>\n",
       "      <th>wheel-base</th>\n",
       "      <th>length</th>\n",
       "      <th>width</th>\n",
       "      <th>height</th>\n",
       "      <th>curb-weight</th>\n",
       "      <th>engine-size</th>\n",
       "      <th>bore</th>\n",
       "      <th>stroke</th>\n",
       "      <th>compression-ratio</th>\n",
       "      <th>horsepower</th>\n",
       "      <th>peak-rpm</th>\n",
       "      <th>city-mpg</th>\n",
       "      <th>highway-mpg</th>\n",
       "      <th>price</th>\n",
       "    </tr>\n",
       "  </thead>\n",
       "  <tbody>\n",
       "    <tr>\n",
       "      <th>0</th>\n",
       "      <td>88.6</td>\n",
       "      <td>168.8</td>\n",
       "      <td>64.1</td>\n",
       "      <td>48.8</td>\n",
       "      <td>2548.0</td>\n",
       "      <td>130.0</td>\n",
       "      <td>3.47</td>\n",
       "      <td>2.68</td>\n",
       "      <td>9.0</td>\n",
       "      <td>111.0</td>\n",
       "      <td>5000.0</td>\n",
       "      <td>21.0</td>\n",
       "      <td>27.0</td>\n",
       "      <td>13495.0</td>\n",
       "    </tr>\n",
       "    <tr>\n",
       "      <th>1</th>\n",
       "      <td>88.6</td>\n",
       "      <td>168.8</td>\n",
       "      <td>64.1</td>\n",
       "      <td>48.8</td>\n",
       "      <td>2548.0</td>\n",
       "      <td>130.0</td>\n",
       "      <td>3.47</td>\n",
       "      <td>2.68</td>\n",
       "      <td>9.0</td>\n",
       "      <td>111.0</td>\n",
       "      <td>5000.0</td>\n",
       "      <td>21.0</td>\n",
       "      <td>27.0</td>\n",
       "      <td>16500.0</td>\n",
       "    </tr>\n",
       "    <tr>\n",
       "      <th>2</th>\n",
       "      <td>94.5</td>\n",
       "      <td>171.2</td>\n",
       "      <td>65.5</td>\n",
       "      <td>52.4</td>\n",
       "      <td>2823.0</td>\n",
       "      <td>152.0</td>\n",
       "      <td>2.68</td>\n",
       "      <td>3.47</td>\n",
       "      <td>9.0</td>\n",
       "      <td>154.0</td>\n",
       "      <td>5000.0</td>\n",
       "      <td>19.0</td>\n",
       "      <td>26.0</td>\n",
       "      <td>16500.0</td>\n",
       "    </tr>\n",
       "    <tr>\n",
       "      <th>3</th>\n",
       "      <td>99.8</td>\n",
       "      <td>176.6</td>\n",
       "      <td>66.2</td>\n",
       "      <td>54.3</td>\n",
       "      <td>2337.0</td>\n",
       "      <td>109.0</td>\n",
       "      <td>3.19</td>\n",
       "      <td>3.40</td>\n",
       "      <td>10.0</td>\n",
       "      <td>102.0</td>\n",
       "      <td>5500.0</td>\n",
       "      <td>24.0</td>\n",
       "      <td>30.0</td>\n",
       "      <td>13950.0</td>\n",
       "    </tr>\n",
       "    <tr>\n",
       "      <th>4</th>\n",
       "      <td>99.4</td>\n",
       "      <td>176.6</td>\n",
       "      <td>66.4</td>\n",
       "      <td>54.3</td>\n",
       "      <td>2824.0</td>\n",
       "      <td>136.0</td>\n",
       "      <td>3.19</td>\n",
       "      <td>3.40</td>\n",
       "      <td>8.0</td>\n",
       "      <td>115.0</td>\n",
       "      <td>5500.0</td>\n",
       "      <td>18.0</td>\n",
       "      <td>22.0</td>\n",
       "      <td>17450.0</td>\n",
       "    </tr>\n",
       "  </tbody>\n",
       "</table>\n",
       "</div>"
      ],
      "text/plain": [
       "   wheel-base  length  width  height  curb-weight  engine-size  bore  stroke  \\\n",
       "0        88.6   168.8   64.1    48.8       2548.0        130.0  3.47    2.68   \n",
       "1        88.6   168.8   64.1    48.8       2548.0        130.0  3.47    2.68   \n",
       "2        94.5   171.2   65.5    52.4       2823.0        152.0  2.68    3.47   \n",
       "3        99.8   176.6   66.2    54.3       2337.0        109.0  3.19    3.40   \n",
       "4        99.4   176.6   66.4    54.3       2824.0        136.0  3.19    3.40   \n",
       "\n",
       "   compression-ratio  horsepower  peak-rpm  city-mpg  highway-mpg    price  \n",
       "0                9.0       111.0    5000.0      21.0         27.0  13495.0  \n",
       "1                9.0       111.0    5000.0      21.0         27.0  16500.0  \n",
       "2                9.0       154.0    5000.0      19.0         26.0  16500.0  \n",
       "3               10.0       102.0    5500.0      24.0         30.0  13950.0  \n",
       "4                8.0       115.0    5500.0      18.0         22.0  17450.0  "
      ]
     },
     "execution_count": 1473,
     "metadata": {},
     "output_type": "execute_result"
    }
   ],
   "source": [
    "dcars.head()"
   ]
  },
  {
   "cell_type": "markdown",
   "metadata": {},
   "source": [
    "There are still some null values in other colunms. "
   ]
  },
  {
   "cell_type": "code",
   "execution_count": 1474,
   "metadata": {},
   "outputs": [
    {
     "data": {
      "text/plain": [
       "wheel-base           0\n",
       "length               0\n",
       "width                0\n",
       "height               0\n",
       "curb-weight          0\n",
       "engine-size          0\n",
       "bore                 4\n",
       "stroke               4\n",
       "compression-ratio    0\n",
       "horsepower           2\n",
       "peak-rpm             2\n",
       "city-mpg             0\n",
       "highway-mpg          0\n",
       "price                4\n",
       "dtype: int64"
      ]
     },
     "execution_count": 1474,
     "metadata": {},
     "output_type": "execute_result"
    }
   ],
   "source": [
    "dcars.isnull().sum()"
   ]
  },
  {
   "cell_type": "markdown",
   "metadata": {},
   "source": [
    "Let us drop rows where the info on price is absent, \n",
    "and change null-values in the other columns for its average value for an entire column:\n"
   ]
  },
  {
   "cell_type": "code",
   "execution_count": 1475,
   "metadata": {},
   "outputs": [],
   "source": [
    "dcars = dcars.dropna(subset=['price'])\n",
    "dcars = dcars.fillna(dcars.mean())"
   ]
  },
  {
   "cell_type": "code",
   "execution_count": 1476,
   "metadata": {},
   "outputs": [
    {
     "data": {
      "text/plain": [
       "wheel-base           0\n",
       "length               0\n",
       "width                0\n",
       "height               0\n",
       "curb-weight          0\n",
       "engine-size          0\n",
       "bore                 0\n",
       "stroke               0\n",
       "compression-ratio    0\n",
       "horsepower           0\n",
       "peak-rpm             0\n",
       "city-mpg             0\n",
       "highway-mpg          0\n",
       "price                0\n",
       "dtype: int64"
      ]
     },
     "execution_count": 1476,
     "metadata": {},
     "output_type": "execute_result"
    }
   ],
   "source": [
    "dcars.isnull().sum()"
   ]
  },
  {
   "cell_type": "code",
   "execution_count": 1477,
   "metadata": {},
   "outputs": [
    {
     "data": {
      "text/plain": [
       "13207.129353233831"
      ]
     },
     "execution_count": 1477,
     "metadata": {},
     "output_type": "execute_result"
    }
   ],
   "source": [
    "dcars['price'].sum()/len(dcars['price'])"
   ]
  },
  {
   "cell_type": "markdown",
   "metadata": {},
   "source": [
    "Let is normalize each column from 0 to 1:"
   ]
  },
  {
   "cell_type": "code",
   "execution_count": 1478,
   "metadata": {},
   "outputs": [],
   "source": [
    "norm_cars = (dcars[dig_col] - dcars[dig_col].min())/(dcars[dig_col].max() - dcars[dig_col].min())"
   ]
  },
  {
   "cell_type": "code",
   "execution_count": 1479,
   "metadata": {},
   "outputs": [
    {
     "data": {
      "text/html": [
       "<div>\n",
       "<style scoped>\n",
       "    .dataframe tbody tr th:only-of-type {\n",
       "        vertical-align: middle;\n",
       "    }\n",
       "\n",
       "    .dataframe tbody tr th {\n",
       "        vertical-align: top;\n",
       "    }\n",
       "\n",
       "    .dataframe thead th {\n",
       "        text-align: right;\n",
       "    }\n",
       "</style>\n",
       "<table border=\"1\" class=\"dataframe\">\n",
       "  <thead>\n",
       "    <tr style=\"text-align: right;\">\n",
       "      <th></th>\n",
       "      <th>wheel-base</th>\n",
       "      <th>length</th>\n",
       "      <th>width</th>\n",
       "      <th>height</th>\n",
       "      <th>curb-weight</th>\n",
       "      <th>engine-size</th>\n",
       "      <th>bore</th>\n",
       "      <th>stroke</th>\n",
       "      <th>compression-ratio</th>\n",
       "      <th>horsepower</th>\n",
       "      <th>peak-rpm</th>\n",
       "      <th>city-mpg</th>\n",
       "      <th>highway-mpg</th>\n",
       "      <th>price</th>\n",
       "    </tr>\n",
       "  </thead>\n",
       "  <tbody>\n",
       "    <tr>\n",
       "      <th>0</th>\n",
       "      <td>0.058309</td>\n",
       "      <td>0.413433</td>\n",
       "      <td>0.324786</td>\n",
       "      <td>0.083333</td>\n",
       "      <td>0.411171</td>\n",
       "      <td>0.260377</td>\n",
       "      <td>0.664286</td>\n",
       "      <td>0.290476</td>\n",
       "      <td>0.1250</td>\n",
       "      <td>0.294393</td>\n",
       "      <td>0.346939</td>\n",
       "      <td>0.222222</td>\n",
       "      <td>0.289474</td>\n",
       "      <td>0.207959</td>\n",
       "    </tr>\n",
       "    <tr>\n",
       "      <th>1</th>\n",
       "      <td>0.058309</td>\n",
       "      <td>0.413433</td>\n",
       "      <td>0.324786</td>\n",
       "      <td>0.083333</td>\n",
       "      <td>0.411171</td>\n",
       "      <td>0.260377</td>\n",
       "      <td>0.664286</td>\n",
       "      <td>0.290476</td>\n",
       "      <td>0.1250</td>\n",
       "      <td>0.294393</td>\n",
       "      <td>0.346939</td>\n",
       "      <td>0.222222</td>\n",
       "      <td>0.289474</td>\n",
       "      <td>0.282558</td>\n",
       "    </tr>\n",
       "    <tr>\n",
       "      <th>2</th>\n",
       "      <td>0.230321</td>\n",
       "      <td>0.449254</td>\n",
       "      <td>0.444444</td>\n",
       "      <td>0.383333</td>\n",
       "      <td>0.517843</td>\n",
       "      <td>0.343396</td>\n",
       "      <td>0.100000</td>\n",
       "      <td>0.666667</td>\n",
       "      <td>0.1250</td>\n",
       "      <td>0.495327</td>\n",
       "      <td>0.346939</td>\n",
       "      <td>0.166667</td>\n",
       "      <td>0.263158</td>\n",
       "      <td>0.282558</td>\n",
       "    </tr>\n",
       "    <tr>\n",
       "      <th>3</th>\n",
       "      <td>0.384840</td>\n",
       "      <td>0.529851</td>\n",
       "      <td>0.504274</td>\n",
       "      <td>0.541667</td>\n",
       "      <td>0.329325</td>\n",
       "      <td>0.181132</td>\n",
       "      <td>0.464286</td>\n",
       "      <td>0.633333</td>\n",
       "      <td>0.1875</td>\n",
       "      <td>0.252336</td>\n",
       "      <td>0.551020</td>\n",
       "      <td>0.305556</td>\n",
       "      <td>0.368421</td>\n",
       "      <td>0.219254</td>\n",
       "    </tr>\n",
       "    <tr>\n",
       "      <th>4</th>\n",
       "      <td>0.373178</td>\n",
       "      <td>0.529851</td>\n",
       "      <td>0.521368</td>\n",
       "      <td>0.541667</td>\n",
       "      <td>0.518231</td>\n",
       "      <td>0.283019</td>\n",
       "      <td>0.464286</td>\n",
       "      <td>0.633333</td>\n",
       "      <td>0.0625</td>\n",
       "      <td>0.313084</td>\n",
       "      <td>0.551020</td>\n",
       "      <td>0.138889</td>\n",
       "      <td>0.157895</td>\n",
       "      <td>0.306142</td>\n",
       "    </tr>\n",
       "  </tbody>\n",
       "</table>\n",
       "</div>"
      ],
      "text/plain": [
       "   wheel-base    length     width    height  curb-weight  engine-size  \\\n",
       "0    0.058309  0.413433  0.324786  0.083333     0.411171     0.260377   \n",
       "1    0.058309  0.413433  0.324786  0.083333     0.411171     0.260377   \n",
       "2    0.230321  0.449254  0.444444  0.383333     0.517843     0.343396   \n",
       "3    0.384840  0.529851  0.504274  0.541667     0.329325     0.181132   \n",
       "4    0.373178  0.529851  0.521368  0.541667     0.518231     0.283019   \n",
       "\n",
       "       bore    stroke  compression-ratio  horsepower  peak-rpm  city-mpg  \\\n",
       "0  0.664286  0.290476             0.1250    0.294393  0.346939  0.222222   \n",
       "1  0.664286  0.290476             0.1250    0.294393  0.346939  0.222222   \n",
       "2  0.100000  0.666667             0.1250    0.495327  0.346939  0.166667   \n",
       "3  0.464286  0.633333             0.1875    0.252336  0.551020  0.305556   \n",
       "4  0.464286  0.633333             0.0625    0.313084  0.551020  0.138889   \n",
       "\n",
       "   highway-mpg     price  \n",
       "0     0.289474  0.207959  \n",
       "1     0.289474  0.282558  \n",
       "2     0.263158  0.282558  \n",
       "3     0.368421  0.219254  \n",
       "4     0.157895  0.306142  "
      ]
     },
     "execution_count": 1479,
     "metadata": {},
     "output_type": "execute_result"
    }
   ],
   "source": [
    "norm_cars.head()\n"
   ]
  },
  {
   "cell_type": "markdown",
   "metadata": {},
   "source": [
    "# Price Prediction."
   ]
  },
  {
   "cell_type": "markdown",
   "metadata": {},
   "source": [
    "Let us divide the initial set of data into 2 parts: one for training purposes, the rest for the test - prediction of prices - in the ratio of 3:1 train to test sets. Then, we will apply the K-Nearest Neighbors algorithm for the training base. After training the train set, we will apply the algorithm to test part for price prediction. Predicted prices are collected in the 'predictions' variable. rmse is Root Square Mean Error - for estimation of how correct was the prediction."
   ]
  },
  {
   "cell_type": "code",
   "execution_count": 1480,
   "metadata": {},
   "outputs": [],
   "source": [
    "from sklearn.neighbors import KNeighborsRegressor\n",
    "from sklearn.metrics import mean_squared_error\n",
    "def knn_train_test_5_neigh(dbase,train_col,target_col):    # for default number of neighbours(5), and list of columns.\n",
    "    shuffled_index = np.random.permutation(dbase.index)\n",
    "    dbase = dbase.reindex(shuffled_index)\n",
    "    len_train = int(round(len(dbase)*0.75,0))\n",
    "    train = dbase[:len_train]\n",
    "    test = dbase[len_train:]\n",
    "    knn = KNeighborsRegressor()\n",
    "    knn.fit(train[train_col], train[target_col])\n",
    "    predictions = knn.predict(test[train_col])\n",
    "    rmse_v = mean_squared_error(test[target_col],predictions)**0.5\n",
    "    return rmse_v "
   ]
  },
  {
   "cell_type": "markdown",
   "metadata": {},
   "source": [
    "5 neigh in the name of the function indicates that the number of neighbors we took.  There are 5 neighbors in the standard algorithm by default. \n",
    "Let us check the function:\n"
   ]
  },
  {
   "cell_type": "code",
   "execution_count": 1481,
   "metadata": {},
   "outputs": [
    {
     "data": {
      "text/plain": [
       "153.57570901675848"
      ]
     },
     "execution_count": 1481,
     "metadata": {},
     "output_type": "execute_result"
    }
   ],
   "source": [
    "knn_train_test_5_neigh(dcars,dig_col,'price')"
   ]
  },
  {
   "cell_type": "markdown",
   "metadata": {},
   "source": [
    "The previous function calculates Prices using all numerical columns as entry parameters. The next function is modified to calculate using only a single column as initial parameter only."
   ]
  },
  {
   "cell_type": "code",
   "execution_count": 1482,
   "metadata": {},
   "outputs": [],
   "source": [
    "def knn_train_test_one_K(dbase,train_col,target_col):   # for default number of neighbours(5), and one column ONLY.\n",
    "    shuffled_index = np.random.permutation(dbase.index)\n",
    "    dbase = dbase.reindex(shuffled_index)\n",
    "    len_train = int(round(len(dbase)*0.75,0))\n",
    "    train = dbase[:len_train]\n",
    "    test = dbase[len_train:]\n",
    "    knn = KNeighborsRegressor()\n",
    "    knn.fit(train[[train_col]], train[target_col])\n",
    "    predictions = knn.predict(test[[train_col]])\n",
    "    rmse_v = mean_squared_error(test[target_col],predictions)**0.5\n",
    "    return rmse_v "
   ]
  },
  {
   "cell_type": "markdown",
   "metadata": {},
   "source": [
    "The function still works, but the error is huge:"
   ]
  },
  {
   "cell_type": "code",
   "execution_count": 1483,
   "metadata": {},
   "outputs": [
    {
     "data": {
      "text/plain": [
       "7460.47418498315"
      ]
     },
     "execution_count": 1483,
     "metadata": {},
     "output_type": "execute_result"
    }
   ],
   "source": [
    "knn_train_test_one_K(dcars,'wheel-base','price')"
   ]
  },
  {
   "cell_type": "markdown",
   "metadata": {},
   "source": [
    "So, let try to find optimal parameters (columns) and the number of neighbors to reduce error as only possible."
   ]
  },
  {
   "cell_type": "markdown",
   "metadata": {},
   "source": [
    "# Search for optimal parameters"
   ]
  },
  {
   "cell_type": "markdown",
   "metadata": {},
   "source": [
    "Let us create a dictionary with the results for root square errors for each column:"
   ]
  },
  {
   "cell_type": "code",
   "execution_count": 1484,
   "metadata": {},
   "outputs": [
    {
     "name": "stdout",
     "output_type": "stream",
     "text": [
      "{'wheel-base': 5391.825603411149, 'length': 4094.781017832334, 'width': 4464.614404671472, 'height': 8184.619471129981, 'curb-weight': 3191.7756981341904, 'engine-size': 3223.4235688162366, 'bore': 6252.647317992595, 'stroke': 5863.988120520027, 'compression-ratio': 6343.843051085044, 'horsepower': 3599.039026073488, 'peak-rpm': 8501.538163603102, 'city-mpg': 5705.070228279403, 'highway-mpg': 5968.016898233449, 'price': 709.3772981989198}\n"
     ]
    }
   ],
   "source": [
    "rmse_each_column = {}\n",
    "for col in dig_col:\n",
    "    rmse_val = knn_train_test_one_K(dcars, col,'price')\n",
    "    rmse_each_column[col] = rmse_val\n",
    "print(rmse_each_column)"
   ]
  },
  {
   "cell_type": "markdown",
   "metadata": {},
   "source": [
    "Let us go even deeper and calculate the errors using different numbers of neighbors for prediction:"
   ]
  },
  {
   "cell_type": "code",
   "execution_count": 1485,
   "metadata": {},
   "outputs": [],
   "source": [
    "k_values = [1,2,3,4,5,6,7,8,9]\n",
    "def knn_train_test_one_col_many_k(dbase,train_col,target_col,k_values):    # many neighbours, 1 column\n",
    "    shuffled_index = np.random.permutation(dbase.index)\n",
    "    dbase = dbase.reindex(shuffled_index)\n",
    "    len_train = int(round(len(dbase)*0.75,0))\n",
    "    train = dbase[:len_train]\n",
    "    test = dbase[len_train:]\n",
    "    remse_col = {}\n",
    "    k_rmse = {}\n",
    "    for k in k_values:\n",
    "        knn = KNeighborsRegressor(n_neighbors=k)\n",
    "        knn.fit(train[[train_col]], train[target_col])\n",
    "        predictions = knn.predict(test[[train_col]])\n",
    "        rmse_v = mean_squared_error(test[target_col],predictions)**0.5        \n",
    "        k_rmse[k]=round(rmse_v,5)\n",
    "    return k_rmse\n",
    "    "
   ]
  },
  {
   "cell_type": "code",
   "execution_count": 1486,
   "metadata": {},
   "outputs": [
    {
     "data": {
      "text/plain": [
       "{1: 5443.47933,\n",
       " 2: 6224.47816,\n",
       " 3: 6647.50301,\n",
       " 4: 7223.12374,\n",
       " 5: 6810.85616,\n",
       " 6: 7056.73522,\n",
       " 7: 7020.95154,\n",
       " 8: 7258.85698,\n",
       " 9: 7369.42802}"
      ]
     },
     "execution_count": 1486,
     "metadata": {},
     "output_type": "execute_result"
    }
   ],
   "source": [
    "knn_train_test_one_col_many_k(dcars,'wheel-base','price',k_values)\n",
    "    "
   ]
  },
  {
   "cell_type": "code",
   "execution_count": 1487,
   "metadata": {},
   "outputs": [
    {
     "data": {
      "text/plain": [
       "{'wheel-base': {1: 6578.38557,\n",
       "  2: 6834.46338,\n",
       "  3: 8144.64075,\n",
       "  4: 8981.09666,\n",
       "  5: 8841.49523,\n",
       "  6: 8754.16918,\n",
       "  7: 8431.92158,\n",
       "  8: 8325.80303,\n",
       "  9: 8291.02265},\n",
       " 'length': {1: 7491.11602,\n",
       "  2: 7435.68331,\n",
       "  3: 7116.18287,\n",
       "  4: 6542.65084,\n",
       "  5: 5922.67741,\n",
       "  6: 5547.91284,\n",
       "  7: 5437.53469,\n",
       "  8: 5211.40464,\n",
       "  9: 5203.86964},\n",
       " 'width': {1: 4274.50645,\n",
       "  2: 4389.43468,\n",
       "  3: 3592.46756,\n",
       "  4: 3486.239,\n",
       "  5: 3889.24308,\n",
       "  6: 3900.73384,\n",
       "  7: 3695.38084,\n",
       "  8: 3734.76846,\n",
       "  9: 3887.07878},\n",
       " 'height': {1: 8419.17102,\n",
       "  2: 6903.94635,\n",
       "  3: 6157.96968,\n",
       "  4: 6238.27689,\n",
       "  5: 6264.74263,\n",
       "  6: 6534.30041,\n",
       "  7: 6403.40599,\n",
       "  8: 6250.97567,\n",
       "  9: 6239.68454},\n",
       " 'curb-weight': {1: 6161.53591,\n",
       "  2: 5775.81092,\n",
       "  3: 5753.1097,\n",
       "  4: 5310.71197,\n",
       "  5: 5160.35989,\n",
       "  6: 5296.20882,\n",
       "  7: 5024.5392,\n",
       "  8: 4875.72785,\n",
       "  9: 5165.11221},\n",
       " 'engine-size': {1: 3197.71337,\n",
       "  2: 3177.2175,\n",
       "  3: 3401.35729,\n",
       "  4: 3530.4114,\n",
       "  5: 3660.90121,\n",
       "  6: 3816.82083,\n",
       "  7: 3972.11916,\n",
       "  8: 4036.6837,\n",
       "  9: 4126.27994},\n",
       " 'bore': {1: 7088.49651,\n",
       "  2: 5013.29938,\n",
       "  3: 6001.32389,\n",
       "  4: 6768.97494,\n",
       "  5: 6634.26676,\n",
       "  6: 6709.18911,\n",
       "  7: 6798.86661,\n",
       "  8: 6766.28702,\n",
       "  9: 7121.60974},\n",
       " 'stroke': {1: 11963.92966,\n",
       "  2: 10805.34102,\n",
       "  3: 8127.28564,\n",
       "  4: 7910.95045,\n",
       "  5: 6952.29758,\n",
       "  6: 7403.94406,\n",
       "  7: 7348.75698,\n",
       "  8: 7157.44369,\n",
       "  9: 7133.46415},\n",
       " 'compression-ratio': {1: 6916.41307,\n",
       "  2: 6473.47214,\n",
       "  3: 6301.21095,\n",
       "  4: 6450.47676,\n",
       "  5: 6645.90864,\n",
       "  6: 6510.86181,\n",
       "  7: 6272.82532,\n",
       "  8: 6301.74925,\n",
       "  9: 6435.30443},\n",
       " 'horsepower': {1: 4251.91739,\n",
       "  2: 4622.90217,\n",
       "  3: 4280.06188,\n",
       "  4: 4526.74356,\n",
       "  5: 4551.06477,\n",
       "  6: 4631.1859,\n",
       "  7: 4426.02766,\n",
       "  8: 4435.50809,\n",
       "  9: 4401.75859},\n",
       " 'peak-rpm': {1: 7930.23171,\n",
       "  2: 6952.79974,\n",
       "  3: 7096.47727,\n",
       "  4: 7134.01411,\n",
       "  5: 7208.60018,\n",
       "  6: 7282.13051,\n",
       "  7: 7561.72857,\n",
       "  8: 7716.14691,\n",
       "  9: 7920.29328},\n",
       " 'city-mpg': {1: 4902.01709,\n",
       "  2: 4310.95078,\n",
       "  3: 3782.33415,\n",
       "  4: 4184.22992,\n",
       "  5: 4131.73979,\n",
       "  6: 3940.2848,\n",
       "  7: 3990.10239,\n",
       "  8: 4107.69014,\n",
       "  9: 4020.66295},\n",
       " 'highway-mpg': {1: 5635.99847,\n",
       "  2: 3963.93569,\n",
       "  3: 3781.90047,\n",
       "  4: 3839.021,\n",
       "  5: 3616.97017,\n",
       "  6: 3606.11278,\n",
       "  7: 3545.45448,\n",
       "  8: 3699.75405,\n",
       "  9: 3764.71416}}"
      ]
     },
     "execution_count": 1487,
     "metadata": {},
     "output_type": "execute_result"
    }
   ],
   "source": [
    "rmse_each_column_K_nei = {}\n",
    "for col in dig_col:\n",
    "    if col !='price':\n",
    "        rmse_val = knn_train_test_one_col_many_k(dcars, col,'price',k_values)\n",
    "        rmse_each_column_K_nei[col]=rmse_val\n",
    "rmse_each_column_K_nei"
   ]
  },
  {
   "cell_type": "markdown",
   "metadata": {},
   "source": [
    "The dictionary is cumbersome, but we can visualize it for understanding what is going on here: "
   ]
  },
  {
   "cell_type": "code",
   "execution_count": 1488,
   "metadata": {},
   "outputs": [
    {
     "data": {
      "image/png": "[encoded data removed]",
      "text/plain": [
       "<Figure size 1080x576 with 1 Axes>"
      ]
     },
     "metadata": {
      "needs_background": "light"
     },
     "output_type": "display_data"
    }
   ],
   "source": [
    "import matplotlib.pyplot as plt\n",
    "%matplotlib inline\n",
    "plt.figure(figsize=(15,8))\n",
    "for key, valu in rmse_each_column_K_nei.items():\n",
    "    lab = key\n",
    "    x = list(valu.keys())\n",
    "    y = list(valu.values())\n",
    "    plt.plot(x,y,label = key )\n",
    "    plt.xlabel('k value')\n",
    "    plt.ylabel('RMSE')\n",
    "    plt.legend()"
   ]
  },
  {
   "cell_type": "markdown",
   "metadata": {},
   "source": [
    "It is still a mess, but let us choose several columns which could be used for price prediction with the least error. So, we make a list of tuples and sort errors in ascending order."
   ]
  },
  {
   "cell_type": "code",
   "execution_count": 1489,
   "metadata": {},
   "outputs": [
    {
     "name": "stdout",
     "output_type": "stream",
     "text": [
      "('wheel-base', 8131.44423)\n",
      "('length', 6212.1147)\n",
      "('width', 3872.20585)\n",
      "('height', 6601.38591)\n",
      "('curb-weight', 5391.45739)\n",
      "('engine-size', 3657.72271)\n",
      "('bore', 6544.70155)\n",
      "('stroke', 8311.49036)\n",
      "('compression-ratio', 6478.69137)\n",
      "('horsepower', 4458.57445)\n",
      "('peak-rpm', 7422.49136)\n",
      "('city-mpg', 4152.22356)\n",
      "('highway-mpg', 3939.31792)\n"
     ]
    }
   ],
   "source": [
    "list_features = list()\n",
    "for key,val in rmse_each_column_K_nei.items():\n",
    "    lis = []\n",
    "    for k,v in val.items():\n",
    "        lis.append(v)\n",
    "    meanv = round(np.average(lis),5)\n",
    "    tupl = (key,meanv)\n",
    "    print(tupl)\n",
    "    list_features.append(tupl)\n",
    "    list_features"
   ]
  },
  {
   "cell_type": "code",
   "execution_count": 1490,
   "metadata": {},
   "outputs": [],
   "source": [
    "def Sort_Tuple(tup):  \n",
    "    tup.sort(key = lambda x: x[1])  \n",
    "    return tup  "
   ]
  },
  {
   "cell_type": "code",
   "execution_count": 1491,
   "metadata": {},
   "outputs": [
    {
     "data": {
      "text/plain": [
       "[('engine-size', 3657.72271),\n",
       " ('width', 3872.20585),\n",
       " ('highway-mpg', 3939.31792),\n",
       " ('city-mpg', 4152.22356),\n",
       " ('horsepower', 4458.57445),\n",
       " ('curb-weight', 5391.45739),\n",
       " ('length', 6212.1147),\n",
       " ('compression-ratio', 6478.69137),\n",
       " ('bore', 6544.70155),\n",
       " ('height', 6601.38591),\n",
       " ('peak-rpm', 7422.49136),\n",
       " ('wheel-base', 8131.44423),\n",
       " ('stroke', 8311.49036)]"
      ]
     },
     "execution_count": 1491,
     "metadata": {},
     "output_type": "execute_result"
    }
   ],
   "source": [
    "list_features = Sort_Tuple(list_features)\n",
    "list_features"
   ]
  },
  {
   "cell_type": "code",
   "execution_count": 1492,
   "metadata": {},
   "outputs": [],
   "source": [
    "feature1 = [list_features[0][0]]\n",
    "feature2 = feature1 + [list_features[1][0]]\n",
    "feature3 = feature2 + [list_features[2][0]]\n",
    "feature4 = feature3 + [list_features[3][0]]\n",
    "feature5 = feature4 + [list_features[4][0]]"
   ]
  },
  {
   "cell_type": "code",
   "execution_count": 1493,
   "metadata": {},
   "outputs": [
    {
     "name": "stdout",
     "output_type": "stream",
     "text": [
      "['engine-size'] \n",
      " ['engine-size', 'width'] \n",
      " ['engine-size', 'width', 'highway-mpg'] \n",
      " ['engine-size', 'width', 'highway-mpg', 'city-mpg'] \n",
      " ['engine-size', 'width', 'highway-mpg', 'city-mpg', 'horsepower']\n"
     ]
    }
   ],
   "source": [
    "print(feature1,'\\n', feature2, '\\n', feature3, '\\n', feature4, '\\n',feature5)"
   ]
  },
  {
   "cell_type": "markdown",
   "metadata": {},
   "source": [
    "Features 1 to 5 is the list of columns (parameters) that have the highest correlation with the final price (in descending order). \n",
    "We can use them for price prediction trying to reduce error as only possible:"
   ]
  },
  {
   "cell_type": "code",
   "execution_count": 1494,
   "metadata": {},
   "outputs": [],
   "source": [
    "features = [feature1,feature2, feature3, feature4, feature5]\n"
   ]
  },
  {
   "cell_type": "code",
   "execution_count": 1495,
   "metadata": {},
   "outputs": [],
   "source": [
    "two_best = [\"curb-weight\", \"horsepower\"]\n",
    "three_best = [\"curb-weight\", \"horsepower\", \"length\"]\n",
    "four_best = [\"curb-weight\", \"horsepower\", \"length\", \"highway-mpg\"]\n",
    "five_best = [\"curb-weight\", \"horsepower\", \"length\", \"highway-mpg\", \"engine-size\"]\n"
   ]
  },
  {
   "cell_type": "code",
   "execution_count": 1496,
   "metadata": {},
   "outputs": [
    {
     "name": "stdout",
     "output_type": "stream",
     "text": [
      "['engine-size'] \n",
      " 3527.6526459389393\n",
      "['engine-size', 'width'] \n",
      " 3114.5266095507995\n",
      "['engine-size', 'width', 'highway-mpg'] \n",
      " 3193.92779091826\n",
      "['engine-size', 'width', 'highway-mpg', 'city-mpg'] \n",
      " 2614.8844407353836\n",
      "['engine-size', 'width', 'highway-mpg', 'city-mpg', 'horsepower'] \n",
      " 2937.1597287175236\n"
     ]
    }
   ],
   "source": [
    "for fea in features:\n",
    "    rmse = knn_train_test_5_neigh(dcars,fea,'price')\n",
    "    print(fea, '\\n', rmse)"
   ]
  },
  {
   "cell_type": "markdown",
   "metadata": {},
   "source": [
    "We can see the smallest error we can get if we use 5 parameters. "
   ]
  },
  {
   "cell_type": "markdown",
   "metadata": {},
   "source": [
    "Next step: we can experiment with the number of neighbors with the same purpose \n",
    "to find the optimum number of them for correct price prediction:"
   ]
  },
  {
   "cell_type": "markdown",
   "metadata": {},
   "source": [
    " \"engine-size\", \"highway-mpg\", \"curb-weight\",\"horsepower\"."
   ]
  },
  {
   "cell_type": "code",
   "execution_count": 1497,
   "metadata": {},
   "outputs": [],
   "source": [
    "def knn_train_test_4features_many_neig(dbase,train_col,target_col,k_values):    # many neighbours, 3 or 4 features\n",
    "    shuffled_index = np.random.permutation(dbase.index)\n",
    "    dbase = dbase.reindex(shuffled_index)\n",
    "    len_train = int(round(len(dbase)*0.75,0))\n",
    "    train = dbase[:len_train]\n",
    "    test = dbase[len_train:]\n",
    "    remse_col = {}\n",
    "    k_rmse = {}\n",
    "    for k in range(1,k_values+1):\n",
    "        knn = KNeighborsRegressor(n_neighbors=k)\n",
    "        knn.fit(train[train_col], train[target_col])\n",
    "        predictions = knn.predict(test[train_col])\n",
    "        rmse_v = mean_squared_error(test[target_col],predictions)**0.5        \n",
    "        k_rmse[k]=round(rmse_v,5)\n",
    "    return k_rmse\n",
    "    "
   ]
  },
  {
   "cell_type": "code",
   "execution_count": 1498,
   "metadata": {},
   "outputs": [
    {
     "data": {
      "text/plain": [
       "{1: 2250.5876,\n",
       " 2: 2332.70505,\n",
       " 3: 2758.2329,\n",
       " 4: 3000.29626,\n",
       " 5: 3281.92751,\n",
       " 6: 3298.26743,\n",
       " 7: 3222.30524,\n",
       " 8: 3306.56236,\n",
       " 9: 3197.14464,\n",
       " 10: 3094.13216,\n",
       " 11: 3132.06154,\n",
       " 12: 3201.43512,\n",
       " 13: 3247.64442,\n",
       " 14: 3310.04644,\n",
       " 15: 3394.55712,\n",
       " 16: 3362.03852,\n",
       " 17: 3397.62158,\n",
       " 18: 3318.08286,\n",
       " 19: 3447.72863,\n",
       " 20: 3567.28476,\n",
       " 21: 3634.82793,\n",
       " 22: 3726.9517,\n",
       " 23: 3814.96197,\n",
       " 24: 3915.08896,\n",
       " 25: 3964.86207,\n",
       " 26: 4028.3638,\n",
       " 27: 4055.0458,\n",
       " 28: 4106.23402,\n",
       " 29: 4139.40699,\n",
       " 30: 4203.80497,\n",
       " 31: 4267.03385,\n",
       " 32: 4320.84,\n",
       " 33: 4359.71403,\n",
       " 34: 4366.02545,\n",
       " 35: 4423.50894}"
      ]
     },
     "execution_count": 1498,
     "metadata": {},
     "output_type": "execute_result"
    }
   ],
   "source": [
    "knn_train_test_4features_many_neig(dcars, feature4,'price',k_values=35)"
   ]
  },
  {
   "cell_type": "code",
   "execution_count": 1499,
   "metadata": {},
   "outputs": [
    {
     "data": {
      "text/plain": [
       "{1: 3569.09786,\n",
       " 2: 3307.62803,\n",
       " 3: 3073.87579,\n",
       " 4: 2944.46331,\n",
       " 5: 3289.00191,\n",
       " 6: 3537.12216,\n",
       " 7: 3777.88661,\n",
       " 8: 4044.63972,\n",
       " 9: 4470.75509,\n",
       " 10: 4748.11357,\n",
       " 11: 5028.43435,\n",
       " 12: 5354.99193,\n",
       " 13: 5573.0764,\n",
       " 14: 5758.18981,\n",
       " 15: 5761.17484,\n",
       " 16: 5740.73435,\n",
       " 17: 5764.12594,\n",
       " 18: 5790.64843,\n",
       " 19: 5952.49099,\n",
       " 20: 6093.84324,\n",
       " 21: 6226.21482,\n",
       " 22: 6320.22075,\n",
       " 23: 6366.29811,\n",
       " 24: 6396.17339,\n",
       " 25: 6418.72721}"
      ]
     },
     "execution_count": 1499,
     "metadata": {},
     "output_type": "execute_result"
    }
   ],
   "source": [
    "knn_train_test_4features_many_neig(dcars, feature5,'price',k_values=25)"
   ]
  },
  {
   "cell_type": "code",
   "execution_count": 1500,
   "metadata": {},
   "outputs": [],
   "source": [
    "fea3 = knn_train_test_4features_many_neig(dcars, feature3,'price',k_values=20)\n",
    "fea4 = knn_train_test_4features_many_neig(dcars, feature4,'price',k_values=20)\n",
    "fea5 = knn_train_test_4features_many_neig(dcars, feature5,'price',k_values=20)"
   ]
  },
  {
   "cell_type": "code",
   "execution_count": 1501,
   "metadata": {},
   "outputs": [],
   "source": [
    "rmse_each_4_feature_K_nei = dict()\n",
    "rmse_each_4_feature_K_nei[\"3 Features\"] = fea3\n",
    "rmse_each_4_feature_K_nei[\"4 Features\"] = fea4\n",
    "rmse_each_4_feature_K_nei[\"5 Features\"] = fea5\n"
   ]
  },
  {
   "cell_type": "code",
   "execution_count": 1502,
   "metadata": {},
   "outputs": [
    {
     "data": {
      "image/png": "[encoded data removed]",
      "text/plain": [
       "<Figure size 1080x576 with 1 Axes>"
      ]
     },
     "metadata": {
      "needs_background": "light"
     },
     "output_type": "display_data"
    }
   ],
   "source": [
    "plt.figure(figsize=(15,8))\n",
    "for key, valu in rmse_each_4_feature_K_nei.items():\n",
    "    lab = key\n",
    "    x = list(valu.keys())\n",
    "    y = list(valu.values())\n",
    "    plt.plot(x,y,label = key )\n",
    "    plt.xlabel('k value')\n",
    "    plt.ylabel('RMSE')\n",
    "    plt.legend()"
   ]
  },
  {
   "cell_type": "markdown",
   "metadata": {},
   "source": [
    "We can see the lowest error we can get if we use 3-5 neighbors for 5 features. The result of running the function shows us slightly different results for each permutation of the initial database. But we get the best result rmse = 1900. "
   ]
  },
  {
   "cell_type": "markdown",
   "metadata": {},
   "source": [
    "Let us make cross-validation just to check how correct was the choice of the initial set for price prediction:\n",
    "    "
   ]
  },
  {
   "cell_type": "code",
   "execution_count": 1503,
   "metadata": {},
   "outputs": [
    {
     "name": "stdout",
     "output_type": "stream",
     "text": [
      "3 folds:  avg RMSE:  3012.844801642501 std RMSE:  61.44952725480945\n",
      "5 folds:  avg RMSE:  2862.2411001972714 std RMSE:  83.82273170966755\n",
      "7 folds:  avg RMSE:  2805.7829284603163 std RMSE:  348.91061912915217\n",
      "9 folds:  avg RMSE:  2830.393353227079 std RMSE:  681.1528620540874\n",
      "10 folds:  avg RMSE:  2715.5707564420554 std RMSE:  576.3714901449949\n",
      "11 folds:  avg RMSE:  2772.933738594246 std RMSE:  857.4886317574585\n",
      "13 folds:  avg RMSE:  2735.451496179227 std RMSE:  796.8741332501232\n",
      "15 folds:  avg RMSE:  2670.0670286486284 std RMSE:  918.5099640076639\n",
      "17 folds:  avg RMSE:  2603.6019343961684 std RMSE:  1073.1402552925629\n",
      "19 folds:  avg RMSE:  2653.118976802094 std RMSE:  948.5207878483506\n",
      "21 folds:  avg RMSE:  2546.2917422792298 std RMSE:  1178.6196464282427\n",
      "23 folds:  avg RMSE:  2554.953659955101 std RMSE:  1162.6391235846836\n"
     ]
    }
   ],
   "source": [
    "from sklearn.model_selection import cross_val_score, KFold\n",
    "\n",
    "num_folds = [3, 5, 7, 9, 10, 11, 13, 15, 17, 19, 21, 23]\n",
    "\n",
    "for fold in num_folds:\n",
    "    kf = KFold(fold, shuffle=True, random_state=1)\n",
    "    model = KNeighborsRegressor()\n",
    "    mses = cross_val_score(model, dcars[feature5], dcars[\"price\"], scoring=\"neg_mean_squared_error\", cv=kf)\n",
    "    rmses = np.sqrt(np.absolute(mses))\n",
    "    avg_rmse = np.mean(rmses)\n",
    "    std_rmse = np.std(rmses)\n",
    "    print(str(fold), \"folds: \", \"avg RMSE: \", str(avg_rmse), \"std RMSE: \", str(std_rmse))\n"
   ]
  },
  {
   "cell_type": "code",
   "execution_count": 1504,
   "metadata": {},
   "outputs": [
    {
     "name": "stdout",
     "output_type": "stream",
     "text": [
      "Root Square Error for prediction prices of cars at k = 2 and 5 chosen features is  2243.2\n",
      "2243.2\n"
     ]
    }
   ],
   "source": [
    "shuffled_index = np.random.permutation(dcars.index)\n",
    "dcars = dcars.reindex(shuffled_index)\n",
    "len_train = int(round(len(dcars)*0.75,0))\n",
    "train = dcars[:len_train]\n",
    "test = dcars[len_train:]\n",
    "knn = KNeighborsRegressor(n_neighbors=2)\n",
    "knn.fit(train[feature5], train['price'])\n",
    "predictions = knn.predict(test[feature5])\n",
    "rmse_v = mean_squared_error(test['price'],predictions)**0.5        \n",
    "print('Root Square Error for prediction prices of cars at k = 2 and 5 chosen features is ', round(rmse_v,2))\n",
    "rmse_v = mean_squared_error(test['price'],predictions)**0.5        \n",
    "print(round(rmse_v,2))\n",
    "\n"
   ]
  },
  {
   "cell_type": "markdown",
   "metadata": {},
   "source": [
    "# Conclusions "
   ]
  },
  {
   "cell_type": "markdown",
   "metadata": {},
   "source": [
    "The number of experiments with the algorithm, when we tried to find out the optical parameters for correct prediction,  showed us that we could get the most correct result for the prices estimations when we using 5 features (5 columns with different technical parameters) and a small number of neighbors 2 or 3. But the result is not so consistent and depends on the permutation of the initial dataset. Sometimes it shows better results for 4 and even 3 features. But, in my opinion, we would better use more features for lower variability, taking into account more initial parameters, although with some lack of accuracy.\n",
    "\n",
    "What we can tell for sure, that the algorithm shows better results with a low number of neighbors. The lowest error we can got using this model is rmse = 1900."
   ]
  },
  {
   "cell_type": "markdown",
   "metadata": {},
   "source": []
  }
 ],
 "metadata": {
  "kernelspec": {
   "display_name": "Python 3",
   "language": "python",
   "name": "python3"
  },
  "language_info": {
   "codemirror_mode": {
    "name": "ipython",
    "version": 3
   },
   "file_extension": ".py",
   "mimetype": "text/x-python",
   "name": "python",
   "nbconvert_exporter": "python",
   "pygments_lexer": "ipython3",
   "version": "3.7.6"
  }
 },
 "nbformat": 4,
 "nbformat_minor": 4
}
