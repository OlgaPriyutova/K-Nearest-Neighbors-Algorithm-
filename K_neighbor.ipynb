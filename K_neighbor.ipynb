{
 "cells": [
  {
   "cell_type": "markdown",
   "metadata": {},
   "source": [
    "# Implementation K-nearest Neighbors Algorithm for Prediction of Market Prices for Cars."
   ]
  },
  {
   "cell_type": "markdown",
   "metadata": {},
   "source": [
    "The purpose of this project is to practice how to implement the K-nearest Neighbors algorithm for the calculation of market indicators.  The project was made during studying at Dataquest boot camp. \n",
    "The initial file was taken from \n",
    "URL dataset = 'https://archive.ics.uci.edu/ml/machine-learning-databases/autos/imports-85.data'. \n",
    "There were no headers in the initial file, but we can find the names for columns in the documentations. I put the fragment of the documentation into the separate file name.csv. Let us take names of columns from there:\n"
   ]
  },
  {
   "cell_type": "code",
   "execution_count": 1,
   "metadata": {},
   "outputs": [],
   "source": [
    "import pandas as pd\n",
    "import numpy as np\n",
    "names = pd.read_csv('Name.csv')"
   ]
  },
  {
   "cell_type": "code",
   "execution_count": 2,
   "metadata": {},
   "outputs": [
    {
     "data": {
      "text/html": [
       "<div>\n",
       "<style scoped>\n",
       "    .dataframe tbody tr th:only-of-type {\n",
       "        vertical-align: middle;\n",
       "    }\n",
       "\n",
       "    .dataframe tbody tr th {\n",
       "        vertical-align: top;\n",
       "    }\n",
       "\n",
       "    .dataframe thead th {\n",
       "        text-align: right;\n",
       "    }\n",
       "</style>\n",
       "<table border=\"1\" class=\"dataframe\">\n",
       "  <thead>\n",
       "    <tr style=\"text-align: right;\">\n",
       "      <th></th>\n",
       "      <th>Names</th>\n",
       "    </tr>\n",
       "  </thead>\n",
       "  <tbody>\n",
       "    <tr>\n",
       "      <th>0</th>\n",
       "      <td>1. symboling:</td>\n",
       "    </tr>\n",
       "    <tr>\n",
       "      <th>1</th>\n",
       "      <td>2. normalized-losses:</td>\n",
       "    </tr>\n",
       "    <tr>\n",
       "      <th>2</th>\n",
       "      <td>3. make:</td>\n",
       "    </tr>\n",
       "    <tr>\n",
       "      <th>3</th>\n",
       "      <td>4. fuel-type:</td>\n",
       "    </tr>\n",
       "    <tr>\n",
       "      <th>4</th>\n",
       "      <td>5. aspiration:</td>\n",
       "    </tr>\n",
       "  </tbody>\n",
       "</table>\n",
       "</div>"
      ],
      "text/plain": [
       "                       Names\n",
       "0    1. symboling:          \n",
       "1    2. normalized-losses:  \n",
       "2    3. make:               \n",
       "3    4. fuel-type:          \n",
       "4    5. aspiration:         "
      ]
     },
     "execution_count": 2,
     "metadata": {},
     "output_type": "execute_result"
    }
   ],
   "source": [
    "names.head()"
   ]
  },
  {
   "cell_type": "code",
   "execution_count": 3,
   "metadata": {},
   "outputs": [],
   "source": [
    "col = []\n",
    "for ik in range(len(names)):\n",
    "     name = names.loc[ik]\n",
    "     name = str(name)[13:32]\n",
    "     name = name.replace(':','')\n",
    "     name = name.replace('\\nName 25, dt','').strip()\n",
    "     col.append(name)"
   ]
  },
  {
   "cell_type": "code",
   "execution_count": 4,
   "metadata": {},
   "outputs": [
    {
     "name": "stdout",
     "output_type": "stream",
     "text": [
      "['symboling', 'normalized-losses', 'make', 'fuel-type', 'aspiration', 'num-of-doors', 'body-style', 'drive-wheels', 'engine-location', 'wheel-base', 'length', 'width', 'height', 'curb-weight', 'engine-type', 'num-of-cylinders', 'engine-size', 'fuel-system', 'bore', 'stroke', 'compression-ratio', 'horsepower', 'peak-rpm', 'city-mpg', 'highway-mpg', 'price', 'me 26, dtype obje']\n"
     ]
    }
   ],
   "source": [
    "print(col)"
   ]
  },
  {
   "cell_type": "markdown",
   "metadata": {},
   "source": [
    "There is an unnecessary entry at the end, let us get rid of it:"
   ]
  },
  {
   "cell_type": "code",
   "execution_count": 5,
   "metadata": {},
   "outputs": [
    {
     "name": "stdout",
     "output_type": "stream",
     "text": [
      "['symboling', 'normalized-losses', 'make', 'fuel-type', 'aspiration', 'num-of-doors', 'body-style', 'drive-wheels', 'engine-location', 'wheel-base', 'length', 'width', 'height', 'curb-weight', 'engine-type', 'num-of-cylinders', 'engine-size', 'fuel-system', 'bore', 'stroke', 'compression-ratio', 'horsepower', 'peak-rpm', 'city-mpg', 'highway-mpg', 'price']\n"
     ]
    }
   ],
   "source": [
    "columns = col[:26]\n",
    "print(columns)"
   ]
  },
  {
   "cell_type": "markdown",
   "metadata": {},
   "source": [
    "Now, we can use the list for naming the columns of initial file:"
   ]
  },
  {
   "cell_type": "code",
   "execution_count": 6,
   "metadata": {},
   "outputs": [
    {
     "data": {
      "text/html": [
       "<div>\n",
       "<style scoped>\n",
       "    .dataframe tbody tr th:only-of-type {\n",
       "        vertical-align: middle;\n",
       "    }\n",
       "\n",
       "    .dataframe tbody tr th {\n",
       "        vertical-align: top;\n",
       "    }\n",
       "\n",
       "    .dataframe thead th {\n",
       "        text-align: right;\n",
       "    }\n",
       "</style>\n",
       "<table border=\"1\" class=\"dataframe\">\n",
       "  <thead>\n",
       "    <tr style=\"text-align: right;\">\n",
       "      <th></th>\n",
       "      <th>symboling</th>\n",
       "      <th>normalized-losses</th>\n",
       "      <th>make</th>\n",
       "      <th>fuel-type</th>\n",
       "      <th>aspiration</th>\n",
       "      <th>num-of-doors</th>\n",
       "      <th>body-style</th>\n",
       "      <th>drive-wheels</th>\n",
       "      <th>engine-location</th>\n",
       "      <th>wheel-base</th>\n",
       "      <th>...</th>\n",
       "      <th>engine-size</th>\n",
       "      <th>fuel-system</th>\n",
       "      <th>bore</th>\n",
       "      <th>stroke</th>\n",
       "      <th>compression-ratio</th>\n",
       "      <th>horsepower</th>\n",
       "      <th>peak-rpm</th>\n",
       "      <th>city-mpg</th>\n",
       "      <th>highway-mpg</th>\n",
       "      <th>price</th>\n",
       "    </tr>\n",
       "  </thead>\n",
       "  <tbody>\n",
       "    <tr>\n",
       "      <th>0</th>\n",
       "      <td>3</td>\n",
       "      <td>?</td>\n",
       "      <td>alfa-romero</td>\n",
       "      <td>gas</td>\n",
       "      <td>std</td>\n",
       "      <td>two</td>\n",
       "      <td>convertible</td>\n",
       "      <td>rwd</td>\n",
       "      <td>front</td>\n",
       "      <td>88.6</td>\n",
       "      <td>...</td>\n",
       "      <td>130</td>\n",
       "      <td>mpfi</td>\n",
       "      <td>3.47</td>\n",
       "      <td>2.68</td>\n",
       "      <td>9.0</td>\n",
       "      <td>111</td>\n",
       "      <td>5000</td>\n",
       "      <td>21</td>\n",
       "      <td>27</td>\n",
       "      <td>13495</td>\n",
       "    </tr>\n",
       "    <tr>\n",
       "      <th>1</th>\n",
       "      <td>3</td>\n",
       "      <td>?</td>\n",
       "      <td>alfa-romero</td>\n",
       "      <td>gas</td>\n",
       "      <td>std</td>\n",
       "      <td>two</td>\n",
       "      <td>convertible</td>\n",
       "      <td>rwd</td>\n",
       "      <td>front</td>\n",
       "      <td>88.6</td>\n",
       "      <td>...</td>\n",
       "      <td>130</td>\n",
       "      <td>mpfi</td>\n",
       "      <td>3.47</td>\n",
       "      <td>2.68</td>\n",
       "      <td>9.0</td>\n",
       "      <td>111</td>\n",
       "      <td>5000</td>\n",
       "      <td>21</td>\n",
       "      <td>27</td>\n",
       "      <td>16500</td>\n",
       "    </tr>\n",
       "    <tr>\n",
       "      <th>2</th>\n",
       "      <td>1</td>\n",
       "      <td>?</td>\n",
       "      <td>alfa-romero</td>\n",
       "      <td>gas</td>\n",
       "      <td>std</td>\n",
       "      <td>two</td>\n",
       "      <td>hatchback</td>\n",
       "      <td>rwd</td>\n",
       "      <td>front</td>\n",
       "      <td>94.5</td>\n",
       "      <td>...</td>\n",
       "      <td>152</td>\n",
       "      <td>mpfi</td>\n",
       "      <td>2.68</td>\n",
       "      <td>3.47</td>\n",
       "      <td>9.0</td>\n",
       "      <td>154</td>\n",
       "      <td>5000</td>\n",
       "      <td>19</td>\n",
       "      <td>26</td>\n",
       "      <td>16500</td>\n",
       "    </tr>\n",
       "    <tr>\n",
       "      <th>3</th>\n",
       "      <td>2</td>\n",
       "      <td>164</td>\n",
       "      <td>audi</td>\n",
       "      <td>gas</td>\n",
       "      <td>std</td>\n",
       "      <td>four</td>\n",
       "      <td>sedan</td>\n",
       "      <td>fwd</td>\n",
       "      <td>front</td>\n",
       "      <td>99.8</td>\n",
       "      <td>...</td>\n",
       "      <td>109</td>\n",
       "      <td>mpfi</td>\n",
       "      <td>3.19</td>\n",
       "      <td>3.40</td>\n",
       "      <td>10.0</td>\n",
       "      <td>102</td>\n",
       "      <td>5500</td>\n",
       "      <td>24</td>\n",
       "      <td>30</td>\n",
       "      <td>13950</td>\n",
       "    </tr>\n",
       "    <tr>\n",
       "      <th>4</th>\n",
       "      <td>2</td>\n",
       "      <td>164</td>\n",
       "      <td>audi</td>\n",
       "      <td>gas</td>\n",
       "      <td>std</td>\n",
       "      <td>four</td>\n",
       "      <td>sedan</td>\n",
       "      <td>4wd</td>\n",
       "      <td>front</td>\n",
       "      <td>99.4</td>\n",
       "      <td>...</td>\n",
       "      <td>136</td>\n",
       "      <td>mpfi</td>\n",
       "      <td>3.19</td>\n",
       "      <td>3.40</td>\n",
       "      <td>8.0</td>\n",
       "      <td>115</td>\n",
       "      <td>5500</td>\n",
       "      <td>18</td>\n",
       "      <td>22</td>\n",
       "      <td>17450</td>\n",
       "    </tr>\n",
       "  </tbody>\n",
       "</table>\n",
       "<p>5 rows × 26 columns</p>\n",
       "</div>"
      ],
      "text/plain": [
       "   symboling normalized-losses         make fuel-type aspiration num-of-doors  \\\n",
       "0          3                 ?  alfa-romero       gas        std          two   \n",
       "1          3                 ?  alfa-romero       gas        std          two   \n",
       "2          1                 ?  alfa-romero       gas        std          two   \n",
       "3          2               164         audi       gas        std         four   \n",
       "4          2               164         audi       gas        std         four   \n",
       "\n",
       "    body-style drive-wheels engine-location  wheel-base  ...  engine-size  \\\n",
       "0  convertible          rwd           front        88.6  ...          130   \n",
       "1  convertible          rwd           front        88.6  ...          130   \n",
       "2    hatchback          rwd           front        94.5  ...          152   \n",
       "3        sedan          fwd           front        99.8  ...          109   \n",
       "4        sedan          4wd           front        99.4  ...          136   \n",
       "\n",
       "   fuel-system  bore  stroke compression-ratio horsepower  peak-rpm city-mpg  \\\n",
       "0         mpfi  3.47    2.68               9.0        111      5000       21   \n",
       "1         mpfi  3.47    2.68               9.0        111      5000       21   \n",
       "2         mpfi  2.68    3.47               9.0        154      5000       19   \n",
       "3         mpfi  3.19    3.40              10.0        102      5500       24   \n",
       "4         mpfi  3.19    3.40               8.0        115      5500       18   \n",
       "\n",
       "  highway-mpg  price  \n",
       "0          27  13495  \n",
       "1          27  16500  \n",
       "2          26  16500  \n",
       "3          30  13950  \n",
       "4          22  17450  \n",
       "\n",
       "[5 rows x 26 columns]"
      ]
     },
     "execution_count": 6,
     "metadata": {},
     "output_type": "execute_result"
    }
   ],
   "source": [
    "cars =pd.read_csv('imports-85.data', names = columns)\n",
    "cars.head()"
   ]
  },
  {
   "cell_type": "markdown",
   "metadata": {},
   "source": [
    "# Cleaning the data"
   ]
  },
  {
   "cell_type": "markdown",
   "metadata": {},
   "source": [
    "These are some missing data marked as \"?\". We should get rid of the question marks. Columns with a lot of such entries I will drop completely.\n",
    "The row without indication price I will erase completely. \n",
    "If the other columns are missing some entries, let us change them for the mean values of the entire column."
   ]
  },
  {
   "cell_type": "code",
   "execution_count": 7,
   "metadata": {},
   "outputs": [
    {
     "data": {
      "text/plain": [
       "5     15250\n",
       "6     17710\n",
       "7     18920\n",
       "8     23875\n",
       "9         ?\n",
       "10    16430\n",
       "11    16925\n",
       "12    20970\n",
       "13    21105\n",
       "14    24565\n",
       "Name: price, dtype: object"
      ]
     },
     "execution_count": 7,
     "metadata": {},
     "output_type": "execute_result"
    }
   ],
   "source": [
    "cars['price'][5:15]"
   ]
  },
  {
   "cell_type": "markdown",
   "metadata": {},
   "source": [
    "Let us choose the columns with numerical data only:"
   ]
  },
  {
   "cell_type": "code",
   "execution_count": 8,
   "metadata": {},
   "outputs": [],
   "source": [
    "dig_cols = ['normalized-losses', 'wheel-base', 'length', 'width', 'height', 'curb-weight', 'engine-size', 'bore', 'stroke', 'compression-ratio', 'horsepower', 'peak-rpm', 'city-mpg', 'highway-mpg', 'price']\n",
    "digital_cars = cars[dig_cols]"
   ]
  },
  {
   "cell_type": "code",
   "execution_count": 9,
   "metadata": {},
   "outputs": [
    {
     "data": {
      "text/plain": [
       "normalized-losses     object\n",
       "wheel-base           float64\n",
       "length               float64\n",
       "width                float64\n",
       "height               float64\n",
       "curb-weight            int64\n",
       "engine-size            int64\n",
       "bore                  object\n",
       "stroke                object\n",
       "compression-ratio    float64\n",
       "horsepower            object\n",
       "peak-rpm              object\n",
       "city-mpg               int64\n",
       "highway-mpg            int64\n",
       "price                 object\n",
       "dtype: object"
      ]
     },
     "execution_count": 9,
     "metadata": {},
     "output_type": "execute_result"
    }
   ],
   "source": [
    "digital_cars.dtypes"
   ]
  },
  {
   "cell_type": "code",
   "execution_count": 10,
   "metadata": {},
   "outputs": [
    {
     "data": {
      "text/html": [
       "<div>\n",
       "<style scoped>\n",
       "    .dataframe tbody tr th:only-of-type {\n",
       "        vertical-align: middle;\n",
       "    }\n",
       "\n",
       "    .dataframe tbody tr th {\n",
       "        vertical-align: top;\n",
       "    }\n",
       "\n",
       "    .dataframe thead th {\n",
       "        text-align: right;\n",
       "    }\n",
       "</style>\n",
       "<table border=\"1\" class=\"dataframe\">\n",
       "  <thead>\n",
       "    <tr style=\"text-align: right;\">\n",
       "      <th></th>\n",
       "      <th>normalized-losses</th>\n",
       "      <th>wheel-base</th>\n",
       "      <th>length</th>\n",
       "      <th>width</th>\n",
       "      <th>height</th>\n",
       "      <th>curb-weight</th>\n",
       "      <th>engine-size</th>\n",
       "      <th>bore</th>\n",
       "      <th>stroke</th>\n",
       "      <th>compression-ratio</th>\n",
       "      <th>horsepower</th>\n",
       "      <th>peak-rpm</th>\n",
       "      <th>city-mpg</th>\n",
       "      <th>highway-mpg</th>\n",
       "      <th>price</th>\n",
       "    </tr>\n",
       "  </thead>\n",
       "  <tbody>\n",
       "    <tr>\n",
       "      <th>0</th>\n",
       "      <td>?</td>\n",
       "      <td>88.6</td>\n",
       "      <td>168.8</td>\n",
       "      <td>64.1</td>\n",
       "      <td>48.8</td>\n",
       "      <td>2548</td>\n",
       "      <td>130</td>\n",
       "      <td>3.47</td>\n",
       "      <td>2.68</td>\n",
       "      <td>9.0</td>\n",
       "      <td>111</td>\n",
       "      <td>5000</td>\n",
       "      <td>21</td>\n",
       "      <td>27</td>\n",
       "      <td>13495</td>\n",
       "    </tr>\n",
       "    <tr>\n",
       "      <th>1</th>\n",
       "      <td>?</td>\n",
       "      <td>88.6</td>\n",
       "      <td>168.8</td>\n",
       "      <td>64.1</td>\n",
       "      <td>48.8</td>\n",
       "      <td>2548</td>\n",
       "      <td>130</td>\n",
       "      <td>3.47</td>\n",
       "      <td>2.68</td>\n",
       "      <td>9.0</td>\n",
       "      <td>111</td>\n",
       "      <td>5000</td>\n",
       "      <td>21</td>\n",
       "      <td>27</td>\n",
       "      <td>16500</td>\n",
       "    </tr>\n",
       "    <tr>\n",
       "      <th>2</th>\n",
       "      <td>?</td>\n",
       "      <td>94.5</td>\n",
       "      <td>171.2</td>\n",
       "      <td>65.5</td>\n",
       "      <td>52.4</td>\n",
       "      <td>2823</td>\n",
       "      <td>152</td>\n",
       "      <td>2.68</td>\n",
       "      <td>3.47</td>\n",
       "      <td>9.0</td>\n",
       "      <td>154</td>\n",
       "      <td>5000</td>\n",
       "      <td>19</td>\n",
       "      <td>26</td>\n",
       "      <td>16500</td>\n",
       "    </tr>\n",
       "    <tr>\n",
       "      <th>3</th>\n",
       "      <td>164</td>\n",
       "      <td>99.8</td>\n",
       "      <td>176.6</td>\n",
       "      <td>66.2</td>\n",
       "      <td>54.3</td>\n",
       "      <td>2337</td>\n",
       "      <td>109</td>\n",
       "      <td>3.19</td>\n",
       "      <td>3.40</td>\n",
       "      <td>10.0</td>\n",
       "      <td>102</td>\n",
       "      <td>5500</td>\n",
       "      <td>24</td>\n",
       "      <td>30</td>\n",
       "      <td>13950</td>\n",
       "    </tr>\n",
       "    <tr>\n",
       "      <th>4</th>\n",
       "      <td>164</td>\n",
       "      <td>99.4</td>\n",
       "      <td>176.6</td>\n",
       "      <td>66.4</td>\n",
       "      <td>54.3</td>\n",
       "      <td>2824</td>\n",
       "      <td>136</td>\n",
       "      <td>3.19</td>\n",
       "      <td>3.40</td>\n",
       "      <td>8.0</td>\n",
       "      <td>115</td>\n",
       "      <td>5500</td>\n",
       "      <td>18</td>\n",
       "      <td>22</td>\n",
       "      <td>17450</td>\n",
       "    </tr>\n",
       "  </tbody>\n",
       "</table>\n",
       "</div>"
      ],
      "text/plain": [
       "  normalized-losses  wheel-base  length  width  height  curb-weight  \\\n",
       "0                 ?        88.6   168.8   64.1    48.8         2548   \n",
       "1                 ?        88.6   168.8   64.1    48.8         2548   \n",
       "2                 ?        94.5   171.2   65.5    52.4         2823   \n",
       "3               164        99.8   176.6   66.2    54.3         2337   \n",
       "4               164        99.4   176.6   66.4    54.3         2824   \n",
       "\n",
       "   engine-size  bore stroke  compression-ratio horsepower peak-rpm  city-mpg  \\\n",
       "0          130  3.47   2.68                9.0        111     5000        21   \n",
       "1          130  3.47   2.68                9.0        111     5000        21   \n",
       "2          152  2.68   3.47                9.0        154     5000        19   \n",
       "3          109  3.19   3.40               10.0        102     5500        24   \n",
       "4          136  3.19   3.40                8.0        115     5500        18   \n",
       "\n",
       "   highway-mpg  price  \n",
       "0           27  13495  \n",
       "1           27  16500  \n",
       "2           26  16500  \n",
       "3           30  13950  \n",
       "4           22  17450  "
      ]
     },
     "execution_count": 10,
     "metadata": {},
     "output_type": "execute_result"
    }
   ],
   "source": [
    "digital_cars.head()"
   ]
  },
  {
   "cell_type": "markdown",
   "metadata": {},
   "source": [
    "All \"?\" are changed for NaN values:"
   ]
  },
  {
   "cell_type": "code",
   "execution_count": 11,
   "metadata": {},
   "outputs": [],
   "source": [
    "digital_cars = digital_cars.replace('?',np.nan)"
   ]
  },
  {
   "cell_type": "markdown",
   "metadata": {},
   "source": [
    "Some of the columns are still indicated as not of numerical ones, let me fix it: "
   ]
  },
  {
   "cell_type": "code",
   "execution_count": 12,
   "metadata": {},
   "outputs": [],
   "source": [
    "dcars = digital_cars.astype(float)"
   ]
  },
  {
   "cell_type": "markdown",
   "metadata": {},
   "source": [
    "Everything is correct now:"
   ]
  },
  {
   "cell_type": "code",
   "execution_count": 13,
   "metadata": {},
   "outputs": [
    {
     "data": {
      "text/plain": [
       "normalized-losses    float64\n",
       "wheel-base           float64\n",
       "length               float64\n",
       "width                float64\n",
       "height               float64\n",
       "curb-weight          float64\n",
       "engine-size          float64\n",
       "bore                 float64\n",
       "stroke               float64\n",
       "compression-ratio    float64\n",
       "horsepower           float64\n",
       "peak-rpm             float64\n",
       "city-mpg             float64\n",
       "highway-mpg          float64\n",
       "price                float64\n",
       "dtype: object"
      ]
     },
     "execution_count": 13,
     "metadata": {},
     "output_type": "execute_result"
    }
   ],
   "source": [
    "dcars.dtypes"
   ]
  },
  {
   "cell_type": "markdown",
   "metadata": {},
   "source": [
    "Let us check how many absent values do we have in the dataset. The k-nearest neighbor's algorithm can work if there are no missing values in the dataset."
   ]
  },
  {
   "cell_type": "code",
   "execution_count": 14,
   "metadata": {},
   "outputs": [
    {
     "data": {
      "text/plain": [
       "normalized-losses    41\n",
       "wheel-base            0\n",
       "length                0\n",
       "width                 0\n",
       "height                0\n",
       "curb-weight           0\n",
       "engine-size           0\n",
       "bore                  4\n",
       "stroke                4\n",
       "compression-ratio     0\n",
       "horsepower            2\n",
       "peak-rpm              2\n",
       "city-mpg              0\n",
       "highway-mpg           0\n",
       "price                 4\n",
       "dtype: int64"
      ]
     },
     "execution_count": 14,
     "metadata": {},
     "output_type": "execute_result"
    }
   ],
   "source": [
    "dcars.isnull().sum()"
   ]
  },
  {
   "cell_type": "markdown",
   "metadata": {},
   "source": [
    "Since the first column has 41 empty entries, it would be a good idea to delete this column completely. "
   ]
  },
  {
   "cell_type": "code",
   "execution_count": 15,
   "metadata": {},
   "outputs": [],
   "source": [
    "dig_col = dig_cols[1:]\n",
    "dcars = dcars[dig_col]"
   ]
  },
  {
   "cell_type": "code",
   "execution_count": 16,
   "metadata": {},
   "outputs": [
    {
     "data": {
      "text/html": [
       "<div>\n",
       "<style scoped>\n",
       "    .dataframe tbody tr th:only-of-type {\n",
       "        vertical-align: middle;\n",
       "    }\n",
       "\n",
       "    .dataframe tbody tr th {\n",
       "        vertical-align: top;\n",
       "    }\n",
       "\n",
       "    .dataframe thead th {\n",
       "        text-align: right;\n",
       "    }\n",
       "</style>\n",
       "<table border=\"1\" class=\"dataframe\">\n",
       "  <thead>\n",
       "    <tr style=\"text-align: right;\">\n",
       "      <th></th>\n",
       "      <th>wheel-base</th>\n",
       "      <th>length</th>\n",
       "      <th>width</th>\n",
       "      <th>height</th>\n",
       "      <th>curb-weight</th>\n",
       "      <th>engine-size</th>\n",
       "      <th>bore</th>\n",
       "      <th>stroke</th>\n",
       "      <th>compression-ratio</th>\n",
       "      <th>horsepower</th>\n",
       "      <th>peak-rpm</th>\n",
       "      <th>city-mpg</th>\n",
       "      <th>highway-mpg</th>\n",
       "      <th>price</th>\n",
       "    </tr>\n",
       "  </thead>\n",
       "  <tbody>\n",
       "    <tr>\n",
       "      <th>0</th>\n",
       "      <td>88.6</td>\n",
       "      <td>168.8</td>\n",
       "      <td>64.1</td>\n",
       "      <td>48.8</td>\n",
       "      <td>2548.0</td>\n",
       "      <td>130.0</td>\n",
       "      <td>3.47</td>\n",
       "      <td>2.68</td>\n",
       "      <td>9.0</td>\n",
       "      <td>111.0</td>\n",
       "      <td>5000.0</td>\n",
       "      <td>21.0</td>\n",
       "      <td>27.0</td>\n",
       "      <td>13495.0</td>\n",
       "    </tr>\n",
       "    <tr>\n",
       "      <th>1</th>\n",
       "      <td>88.6</td>\n",
       "      <td>168.8</td>\n",
       "      <td>64.1</td>\n",
       "      <td>48.8</td>\n",
       "      <td>2548.0</td>\n",
       "      <td>130.0</td>\n",
       "      <td>3.47</td>\n",
       "      <td>2.68</td>\n",
       "      <td>9.0</td>\n",
       "      <td>111.0</td>\n",
       "      <td>5000.0</td>\n",
       "      <td>21.0</td>\n",
       "      <td>27.0</td>\n",
       "      <td>16500.0</td>\n",
       "    </tr>\n",
       "    <tr>\n",
       "      <th>2</th>\n",
       "      <td>94.5</td>\n",
       "      <td>171.2</td>\n",
       "      <td>65.5</td>\n",
       "      <td>52.4</td>\n",
       "      <td>2823.0</td>\n",
       "      <td>152.0</td>\n",
       "      <td>2.68</td>\n",
       "      <td>3.47</td>\n",
       "      <td>9.0</td>\n",
       "      <td>154.0</td>\n",
       "      <td>5000.0</td>\n",
       "      <td>19.0</td>\n",
       "      <td>26.0</td>\n",
       "      <td>16500.0</td>\n",
       "    </tr>\n",
       "    <tr>\n",
       "      <th>3</th>\n",
       "      <td>99.8</td>\n",
       "      <td>176.6</td>\n",
       "      <td>66.2</td>\n",
       "      <td>54.3</td>\n",
       "      <td>2337.0</td>\n",
       "      <td>109.0</td>\n",
       "      <td>3.19</td>\n",
       "      <td>3.40</td>\n",
       "      <td>10.0</td>\n",
       "      <td>102.0</td>\n",
       "      <td>5500.0</td>\n",
       "      <td>24.0</td>\n",
       "      <td>30.0</td>\n",
       "      <td>13950.0</td>\n",
       "    </tr>\n",
       "    <tr>\n",
       "      <th>4</th>\n",
       "      <td>99.4</td>\n",
       "      <td>176.6</td>\n",
       "      <td>66.4</td>\n",
       "      <td>54.3</td>\n",
       "      <td>2824.0</td>\n",
       "      <td>136.0</td>\n",
       "      <td>3.19</td>\n",
       "      <td>3.40</td>\n",
       "      <td>8.0</td>\n",
       "      <td>115.0</td>\n",
       "      <td>5500.0</td>\n",
       "      <td>18.0</td>\n",
       "      <td>22.0</td>\n",
       "      <td>17450.0</td>\n",
       "    </tr>\n",
       "  </tbody>\n",
       "</table>\n",
       "</div>"
      ],
      "text/plain": [
       "   wheel-base  length  width  height  curb-weight  engine-size  bore  stroke  \\\n",
       "0        88.6   168.8   64.1    48.8       2548.0        130.0  3.47    2.68   \n",
       "1        88.6   168.8   64.1    48.8       2548.0        130.0  3.47    2.68   \n",
       "2        94.5   171.2   65.5    52.4       2823.0        152.0  2.68    3.47   \n",
       "3        99.8   176.6   66.2    54.3       2337.0        109.0  3.19    3.40   \n",
       "4        99.4   176.6   66.4    54.3       2824.0        136.0  3.19    3.40   \n",
       "\n",
       "   compression-ratio  horsepower  peak-rpm  city-mpg  highway-mpg    price  \n",
       "0                9.0       111.0    5000.0      21.0         27.0  13495.0  \n",
       "1                9.0       111.0    5000.0      21.0         27.0  16500.0  \n",
       "2                9.0       154.0    5000.0      19.0         26.0  16500.0  \n",
       "3               10.0       102.0    5500.0      24.0         30.0  13950.0  \n",
       "4                8.0       115.0    5500.0      18.0         22.0  17450.0  "
      ]
     },
     "execution_count": 16,
     "metadata": {},
     "output_type": "execute_result"
    }
   ],
   "source": [
    "dcars.head()"
   ]
  },
  {
   "cell_type": "markdown",
   "metadata": {},
   "source": [
    "There are still some null values in other colunms. "
   ]
  },
  {
   "cell_type": "code",
   "execution_count": 17,
   "metadata": {},
   "outputs": [
    {
     "data": {
      "text/plain": [
       "wheel-base           0\n",
       "length               0\n",
       "width                0\n",
       "height               0\n",
       "curb-weight          0\n",
       "engine-size          0\n",
       "bore                 4\n",
       "stroke               4\n",
       "compression-ratio    0\n",
       "horsepower           2\n",
       "peak-rpm             2\n",
       "city-mpg             0\n",
       "highway-mpg          0\n",
       "price                4\n",
       "dtype: int64"
      ]
     },
     "execution_count": 17,
     "metadata": {},
     "output_type": "execute_result"
    }
   ],
   "source": [
    "dcars.isnull().sum()"
   ]
  },
  {
   "cell_type": "markdown",
   "metadata": {},
   "source": [
    "Let us drop rows where the info on price is absent, \n",
    "and change null-values in the other columns for its average value for an entire column:\n"
   ]
  },
  {
   "cell_type": "code",
   "execution_count": 18,
   "metadata": {},
   "outputs": [],
   "source": [
    "dcars = dcars.dropna(subset=['price'])\n",
    "dcars = dcars.fillna(dcars.mean())"
   ]
  },
  {
   "cell_type": "code",
   "execution_count": 19,
   "metadata": {},
   "outputs": [
    {
     "data": {
      "text/plain": [
       "wheel-base           0\n",
       "length               0\n",
       "width                0\n",
       "height               0\n",
       "curb-weight          0\n",
       "engine-size          0\n",
       "bore                 0\n",
       "stroke               0\n",
       "compression-ratio    0\n",
       "horsepower           0\n",
       "peak-rpm             0\n",
       "city-mpg             0\n",
       "highway-mpg          0\n",
       "price                0\n",
       "dtype: int64"
      ]
     },
     "execution_count": 19,
     "metadata": {},
     "output_type": "execute_result"
    }
   ],
   "source": [
    "dcars.isnull().sum()"
   ]
  },
  {
   "cell_type": "code",
   "execution_count": 20,
   "metadata": {},
   "outputs": [
    {
     "data": {
      "text/plain": [
       "13207.129353233831"
      ]
     },
     "execution_count": 20,
     "metadata": {},
     "output_type": "execute_result"
    }
   ],
   "source": [
    "dcars['price'].sum()/len(dcars['price'])"
   ]
  },
  {
   "cell_type": "markdown",
   "metadata": {},
   "source": [
    "Let is normalize each column from 0 to 1:"
   ]
  },
  {
   "cell_type": "code",
   "execution_count": 21,
   "metadata": {},
   "outputs": [],
   "source": [
    "norm_cars = (dcars[dig_col] - dcars[dig_col].min())/(dcars[dig_col].max() - dcars[dig_col].min())"
   ]
  },
  {
   "cell_type": "code",
   "execution_count": 22,
   "metadata": {},
   "outputs": [
    {
     "data": {
      "text/html": [
       "<div>\n",
       "<style scoped>\n",
       "    .dataframe tbody tr th:only-of-type {\n",
       "        vertical-align: middle;\n",
       "    }\n",
       "\n",
       "    .dataframe tbody tr th {\n",
       "        vertical-align: top;\n",
       "    }\n",
       "\n",
       "    .dataframe thead th {\n",
       "        text-align: right;\n",
       "    }\n",
       "</style>\n",
       "<table border=\"1\" class=\"dataframe\">\n",
       "  <thead>\n",
       "    <tr style=\"text-align: right;\">\n",
       "      <th></th>\n",
       "      <th>wheel-base</th>\n",
       "      <th>length</th>\n",
       "      <th>width</th>\n",
       "      <th>height</th>\n",
       "      <th>curb-weight</th>\n",
       "      <th>engine-size</th>\n",
       "      <th>bore</th>\n",
       "      <th>stroke</th>\n",
       "      <th>compression-ratio</th>\n",
       "      <th>horsepower</th>\n",
       "      <th>peak-rpm</th>\n",
       "      <th>city-mpg</th>\n",
       "      <th>highway-mpg</th>\n",
       "      <th>price</th>\n",
       "    </tr>\n",
       "  </thead>\n",
       "  <tbody>\n",
       "    <tr>\n",
       "      <th>0</th>\n",
       "      <td>0.058309</td>\n",
       "      <td>0.413433</td>\n",
       "      <td>0.324786</td>\n",
       "      <td>0.083333</td>\n",
       "      <td>0.411171</td>\n",
       "      <td>0.260377</td>\n",
       "      <td>0.664286</td>\n",
       "      <td>0.290476</td>\n",
       "      <td>0.1250</td>\n",
       "      <td>0.294393</td>\n",
       "      <td>0.346939</td>\n",
       "      <td>0.222222</td>\n",
       "      <td>0.289474</td>\n",
       "      <td>0.207959</td>\n",
       "    </tr>\n",
       "    <tr>\n",
       "      <th>1</th>\n",
       "      <td>0.058309</td>\n",
       "      <td>0.413433</td>\n",
       "      <td>0.324786</td>\n",
       "      <td>0.083333</td>\n",
       "      <td>0.411171</td>\n",
       "      <td>0.260377</td>\n",
       "      <td>0.664286</td>\n",
       "      <td>0.290476</td>\n",
       "      <td>0.1250</td>\n",
       "      <td>0.294393</td>\n",
       "      <td>0.346939</td>\n",
       "      <td>0.222222</td>\n",
       "      <td>0.289474</td>\n",
       "      <td>0.282558</td>\n",
       "    </tr>\n",
       "    <tr>\n",
       "      <th>2</th>\n",
       "      <td>0.230321</td>\n",
       "      <td>0.449254</td>\n",
       "      <td>0.444444</td>\n",
       "      <td>0.383333</td>\n",
       "      <td>0.517843</td>\n",
       "      <td>0.343396</td>\n",
       "      <td>0.100000</td>\n",
       "      <td>0.666667</td>\n",
       "      <td>0.1250</td>\n",
       "      <td>0.495327</td>\n",
       "      <td>0.346939</td>\n",
       "      <td>0.166667</td>\n",
       "      <td>0.263158</td>\n",
       "      <td>0.282558</td>\n",
       "    </tr>\n",
       "    <tr>\n",
       "      <th>3</th>\n",
       "      <td>0.384840</td>\n",
       "      <td>0.529851</td>\n",
       "      <td>0.504274</td>\n",
       "      <td>0.541667</td>\n",
       "      <td>0.329325</td>\n",
       "      <td>0.181132</td>\n",
       "      <td>0.464286</td>\n",
       "      <td>0.633333</td>\n",
       "      <td>0.1875</td>\n",
       "      <td>0.252336</td>\n",
       "      <td>0.551020</td>\n",
       "      <td>0.305556</td>\n",
       "      <td>0.368421</td>\n",
       "      <td>0.219254</td>\n",
       "    </tr>\n",
       "    <tr>\n",
       "      <th>4</th>\n",
       "      <td>0.373178</td>\n",
       "      <td>0.529851</td>\n",
       "      <td>0.521368</td>\n",
       "      <td>0.541667</td>\n",
       "      <td>0.518231</td>\n",
       "      <td>0.283019</td>\n",
       "      <td>0.464286</td>\n",
       "      <td>0.633333</td>\n",
       "      <td>0.0625</td>\n",
       "      <td>0.313084</td>\n",
       "      <td>0.551020</td>\n",
       "      <td>0.138889</td>\n",
       "      <td>0.157895</td>\n",
       "      <td>0.306142</td>\n",
       "    </tr>\n",
       "  </tbody>\n",
       "</table>\n",
       "</div>"
      ],
      "text/plain": [
       "   wheel-base    length     width    height  curb-weight  engine-size  \\\n",
       "0    0.058309  0.413433  0.324786  0.083333     0.411171     0.260377   \n",
       "1    0.058309  0.413433  0.324786  0.083333     0.411171     0.260377   \n",
       "2    0.230321  0.449254  0.444444  0.383333     0.517843     0.343396   \n",
       "3    0.384840  0.529851  0.504274  0.541667     0.329325     0.181132   \n",
       "4    0.373178  0.529851  0.521368  0.541667     0.518231     0.283019   \n",
       "\n",
       "       bore    stroke  compression-ratio  horsepower  peak-rpm  city-mpg  \\\n",
       "0  0.664286  0.290476             0.1250    0.294393  0.346939  0.222222   \n",
       "1  0.664286  0.290476             0.1250    0.294393  0.346939  0.222222   \n",
       "2  0.100000  0.666667             0.1250    0.495327  0.346939  0.166667   \n",
       "3  0.464286  0.633333             0.1875    0.252336  0.551020  0.305556   \n",
       "4  0.464286  0.633333             0.0625    0.313084  0.551020  0.138889   \n",
       "\n",
       "   highway-mpg     price  \n",
       "0     0.289474  0.207959  \n",
       "1     0.289474  0.282558  \n",
       "2     0.263158  0.282558  \n",
       "3     0.368421  0.219254  \n",
       "4     0.157895  0.306142  "
      ]
     },
     "execution_count": 22,
     "metadata": {},
     "output_type": "execute_result"
    }
   ],
   "source": [
    "norm_cars.head()\n"
   ]
  },
  {
   "cell_type": "markdown",
   "metadata": {},
   "source": [
    "# Price Prediction."
   ]
  },
  {
   "cell_type": "markdown",
   "metadata": {},
   "source": [
    "Let us divide the initial set of data into 2 parts: one for training purposes, the rest for the test - prediction of prices - in the ratio of 3:1 train to test sets. Then, we will apply the K-Nearest Neighbors algorithm for the training base. After training the train set, we will apply the algorithm to test part for price prediction. Predicted prices are collected in the 'predictions' variable. rmse is Root Square Mean Error - for estimation of how correct was the prediction."
   ]
  },
  {
   "cell_type": "code",
   "execution_count": 23,
   "metadata": {},
   "outputs": [],
   "source": [
    "from sklearn.neighbors import KNeighborsRegressor\n",
    "from sklearn.metrics import mean_squared_error\n",
    "def knn_train_test_5_neigh(dbase,train_col,target_col):    # for default number of neighbours(5), and list of columns.\n",
    "    shuffled_index = np.random.permutation(dbase.index)\n",
    "    dbase = dbase.reindex(shuffled_index)\n",
    "    len_train = int(round(len(dbase)*0.75,0))\n",
    "    train = dbase[:len_train]\n",
    "    test = dbase[len_train:]\n",
    "    knn = KNeighborsRegressor()\n",
    "    knn.fit(train[train_col], train[target_col])\n",
    "    predictions = knn.predict(test[train_col])\n",
    "    rmse_v = mean_squared_error(test[target_col],predictions)**0.5\n",
    "    return rmse_v "
   ]
  },
  {
   "cell_type": "markdown",
   "metadata": {},
   "source": [
    "5 neigh in the name of the function indicates that the number of neighbors we took.  There are 5 neighbors in the standard algorithm by default. \n",
    "Let us check the function:\n"
   ]
  },
  {
   "cell_type": "code",
   "execution_count": 24,
   "metadata": {},
   "outputs": [
    {
     "data": {
      "text/plain": [
       "413.15165254419577"
      ]
     },
     "execution_count": 24,
     "metadata": {},
     "output_type": "execute_result"
    }
   ],
   "source": [
    "knn_train_test_5_neigh(dcars,dig_col,'price')"
   ]
  },
  {
   "cell_type": "markdown",
   "metadata": {},
   "source": [
    "The previous function calculates Prices using all numerical columns as entry parameters. The next function is modified to calculate using only a single column as initial parameter only."
   ]
  },
  {
   "cell_type": "code",
   "execution_count": 25,
   "metadata": {},
   "outputs": [],
   "source": [
    "def knn_train_test_one_K(dbase,train_col,target_col):   # for default number of neighbours(5), and one column ONLY.\n",
    "    shuffled_index = np.random.permutation(dbase.index)\n",
    "    dbase = dbase.reindex(shuffled_index)\n",
    "    len_train = int(round(len(dbase)*0.75,0))\n",
    "    train = dbase[:len_train]\n",
    "    test = dbase[len_train:]\n",
    "    knn = KNeighborsRegressor()\n",
    "    knn.fit(train[[train_col]], train[target_col])\n",
    "    predictions = knn.predict(test[[train_col]])\n",
    "    rmse_v = mean_squared_error(test[target_col],predictions)**0.5\n",
    "    return rmse_v "
   ]
  },
  {
   "cell_type": "markdown",
   "metadata": {},
   "source": [
    "The function still works, but the error is huge:"
   ]
  },
  {
   "cell_type": "code",
   "execution_count": 26,
   "metadata": {},
   "outputs": [
    {
     "data": {
      "text/plain": [
       "5675.959201051396"
      ]
     },
     "execution_count": 26,
     "metadata": {},
     "output_type": "execute_result"
    }
   ],
   "source": [
    "knn_train_test_one_K(dcars,'wheel-base','price')"
   ]
  },
  {
   "cell_type": "markdown",
   "metadata": {},
   "source": [
    "So, let try to find optimal parameters (columns) and the number of neighbors to reduce error as only possible."
   ]
  },
  {
   "cell_type": "markdown",
   "metadata": {},
   "source": [
    "# Search for optimal parameters"
   ]
  },
  {
   "cell_type": "markdown",
   "metadata": {},
   "source": [
    "Let us create a dictionary with the results for root square errors for each column:"
   ]
  },
  {
   "cell_type": "code",
   "execution_count": 27,
   "metadata": {},
   "outputs": [
    {
     "name": "stdout",
     "output_type": "stream",
     "text": [
      "{'wheel-base': 5562.823700460046, 'length': 6181.786387315563, 'width': 3723.326500214559, 'height': 7740.0371054924535, 'curb-weight': 4857.845798211384, 'engine-size': 3146.2555307539787, 'bore': 6717.855944927666, 'stroke': 6775.59462677631, 'compression-ratio': 5810.557731302565, 'horsepower': 4456.1952564042795, 'peak-rpm': 8802.35493481148, 'city-mpg': 3988.3809931349333, 'highway-mpg': 4384.086211013648, 'price': 398.69823977539727}\n"
     ]
    }
   ],
   "source": [
    "rmse_each_column = {}\n",
    "for col in dig_col:\n",
    "    rmse_val = knn_train_test_one_K(dcars, col,'price')\n",
    "    rmse_each_column[col] = rmse_val\n",
    "print(rmse_each_column)"
   ]
  },
  {
   "cell_type": "markdown",
   "metadata": {},
   "source": [
    "Let us go even deeper and calculate the errors using different numbers of neighbors for prediction:"
   ]
  },
  {
   "cell_type": "code",
   "execution_count": 28,
   "metadata": {},
   "outputs": [],
   "source": [
    "k_values = [1,2,3,4,5,6,7,8,9]\n",
    "def knn_train_test_one_col_many_k(dbase,train_col,target_col,k_values):    # many neighbours, 1 column\n",
    "    shuffled_index = np.random.permutation(dbase.index)\n",
    "    dbase = dbase.reindex(shuffled_index)\n",
    "    len_train = int(round(len(dbase)*0.75,0))\n",
    "    train = dbase[:len_train]\n",
    "    test = dbase[len_train:]\n",
    "    remse_col = {}\n",
    "    k_rmse = {}\n",
    "    for k in k_values:\n",
    "        knn = KNeighborsRegressor(n_neighbors=k)\n",
    "        knn.fit(train[[train_col]], train[target_col])\n",
    "        predictions = knn.predict(test[[train_col]])\n",
    "        rmse_v = mean_squared_error(test[target_col],predictions)**0.5        \n",
    "        k_rmse[k]=round(rmse_v,5)\n",
    "    return k_rmse\n",
    "    "
   ]
  },
  {
   "cell_type": "code",
   "execution_count": 29,
   "metadata": {},
   "outputs": [
    {
     "data": {
      "text/plain": [
       "{1: 4774.15641,\n",
       " 2: 4856.12654,\n",
       " 3: 4455.28098,\n",
       " 4: 4913.70395,\n",
       " 5: 5215.40857,\n",
       " 6: 5454.27107,\n",
       " 7: 5622.54164,\n",
       " 8: 5688.48443,\n",
       " 9: 5659.63578}"
      ]
     },
     "execution_count": 29,
     "metadata": {},
     "output_type": "execute_result"
    }
   ],
   "source": [
    "knn_train_test_one_col_many_k(dcars,'wheel-base','price',k_values)\n",
    "    "
   ]
  },
  {
   "cell_type": "code",
   "execution_count": 30,
   "metadata": {},
   "outputs": [
    {
     "data": {
      "text/plain": [
       "{'wheel-base': {1: 4783.37637,\n",
       "  2: 4864.6842,\n",
       "  3: 5595.62327,\n",
       "  4: 6002.19776,\n",
       "  5: 5743.60103,\n",
       "  6: 5691.56299,\n",
       "  7: 5677.65664,\n",
       "  8: 5601.22232,\n",
       "  9: 5877.7033},\n",
       " 'length': {1: 5624.10621,\n",
       "  2: 5463.57415,\n",
       "  3: 5203.81957,\n",
       "  4: 5414.80201,\n",
       "  5: 5316.05894,\n",
       "  6: 5609.94887,\n",
       "  7: 5806.00376,\n",
       "  8: 5788.7461,\n",
       "  9: 5758.25636},\n",
       " 'width': {1: 5917.0404,\n",
       "  2: 5260.69917,\n",
       "  3: 5117.90087,\n",
       "  4: 5293.26619,\n",
       "  5: 5007.40571,\n",
       "  6: 5226.16007,\n",
       "  7: 5288.81202,\n",
       "  8: 5307.43098,\n",
       "  9: 5322.71515},\n",
       " 'height': {1: 7076.59901,\n",
       "  2: 6391.82102,\n",
       "  3: 6548.37902,\n",
       "  4: 6207.07077,\n",
       "  5: 6205.00216,\n",
       "  6: 5950.1715,\n",
       "  7: 6218.67637,\n",
       "  8: 6052.43725,\n",
       "  9: 5882.3576},\n",
       " 'curb-weight': {1: 5625.61807,\n",
       "  2: 4929.59638,\n",
       "  3: 4758.33651,\n",
       "  4: 4734.00739,\n",
       "  5: 3957.03645,\n",
       "  6: 3971.30391,\n",
       "  7: 3982.71401,\n",
       "  8: 3965.92866,\n",
       "  9: 3945.92791},\n",
       " 'engine-size': {1: 3911.8124,\n",
       "  2: 3589.95094,\n",
       "  3: 3374.56583,\n",
       "  4: 3652.38575,\n",
       "  5: 3699.44839,\n",
       "  6: 3671.83487,\n",
       "  7: 3314.8044,\n",
       "  8: 2975.67257,\n",
       "  9: 2873.09432},\n",
       " 'bore': {1: 4842.00129,\n",
       "  2: 5461.55618,\n",
       "  3: 5958.49099,\n",
       "  4: 6032.90828,\n",
       "  5: 6026.95777,\n",
       "  6: 6321.82723,\n",
       "  7: 6278.88518,\n",
       "  8: 6167.30637,\n",
       "  9: 6439.83163},\n",
       " 'stroke': {1: 11482.71644,\n",
       "  2: 7125.03401,\n",
       "  3: 7142.10821,\n",
       "  4: 6210.73483,\n",
       "  5: 6029.37509,\n",
       "  6: 5969.07779,\n",
       "  7: 5788.62116,\n",
       "  8: 6107.65658,\n",
       "  9: 6221.80896},\n",
       " 'compression-ratio': {1: 6431.82846,\n",
       "  2: 4878.35883,\n",
       "  3: 5120.68015,\n",
       "  4: 5188.93591,\n",
       "  5: 4902.56302,\n",
       "  6: 4664.94312,\n",
       "  7: 4947.66575,\n",
       "  8: 5295.21339,\n",
       "  9: 5599.21697},\n",
       " 'horsepower': {1: 3308.00287,\n",
       "  2: 3414.71035,\n",
       "  3: 2961.18254,\n",
       "  4: 3034.0469,\n",
       "  5: 3398.85729,\n",
       "  6: 3616.73898,\n",
       "  7: 3893.07796,\n",
       "  8: 4256.51743,\n",
       "  9: 4421.83099},\n",
       " 'peak-rpm': {1: 9571.52066,\n",
       "  2: 8020.3802,\n",
       "  3: 8306.31464,\n",
       "  4: 8363.60317,\n",
       "  5: 8514.68174,\n",
       "  6: 8482.80031,\n",
       "  7: 8458.7654,\n",
       "  8: 8536.32605,\n",
       "  9: 8602.37398},\n",
       " 'city-mpg': {1: 5888.62293,\n",
       "  2: 4735.51172,\n",
       "  3: 4424.70512,\n",
       "  4: 4417.95781,\n",
       "  5: 4248.65267,\n",
       "  6: 4208.31278,\n",
       "  7: 4274.849,\n",
       "  8: 4463.84822,\n",
       "  9: 4623.93336},\n",
       " 'highway-mpg': {1: 9201.5114,\n",
       "  2: 7095.37744,\n",
       "  3: 5307.69375,\n",
       "  4: 4388.52123,\n",
       "  5: 4358.62843,\n",
       "  6: 4213.66652,\n",
       "  7: 3933.28263,\n",
       "  8: 3838.07459,\n",
       "  9: 3743.88527}}"
      ]
     },
     "execution_count": 30,
     "metadata": {},
     "output_type": "execute_result"
    }
   ],
   "source": [
    "rmse_each_column_K_nei = {}\n",
    "for col in dig_col:\n",
    "    if col !='price':\n",
    "        rmse_val = knn_train_test_one_col_many_k(dcars, col,'price',k_values)\n",
    "        rmse_each_column_K_nei[col]=rmse_val\n",
    "rmse_each_column_K_nei"
   ]
  },
  {
   "cell_type": "markdown",
   "metadata": {},
   "source": [
    "The dictionary is cumbersome, but we can visualize it for understanding what is going on here: "
   ]
  },
  {
   "cell_type": "code",
   "execution_count": 31,
   "metadata": {},
   "outputs": [
    {
     "data": {
      "image/png": "[encoded data removed]",
      "text/plain": [
       "<Figure size 1080x576 with 1 Axes>"
      ]
     },
     "metadata": {
      "needs_background": "light"
     },
     "output_type": "display_data"
    }
   ],
   "source": [
    "import matplotlib.pyplot as plt\n",
    "%matplotlib inline\n",
    "plt.figure(figsize=(15,8))\n",
    "for key, valu in rmse_each_column_K_nei.items():\n",
    "    lab = key\n",
    "    x = list(valu.keys())\n",
    "    y = list(valu.values())\n",
    "    plt.plot(x,y,label = key )\n",
    "    plt.xlabel('k value')\n",
    "    plt.ylabel('RMSE')\n",
    "    plt.legend()"
   ]
  },
  {
   "cell_type": "markdown",
   "metadata": {},
   "source": [
    "It is still a mess, but let us choose several columns which could be used for price prediction with the least error. So, we make a list of tuples and sort errors in ascending order."
   ]
  },
  {
   "cell_type": "code",
   "execution_count": 32,
   "metadata": {},
   "outputs": [
    {
     "name": "stdout",
     "output_type": "stream",
     "text": [
      "('wheel-base', 5537.51421)\n",
      "('length', 5553.924)\n",
      "('width', 5304.6034)\n",
      "('height', 6281.39052)\n",
      "('curb-weight', 4430.05214)\n",
      "('engine-size', 3451.50772)\n",
      "('bore', 5947.75166)\n",
      "('stroke', 6897.45923)\n",
      "('compression-ratio', 5225.48951)\n",
      "('horsepower', 3589.44059)\n",
      "('peak-rpm', 8539.64068)\n",
      "('city-mpg', 4587.37707)\n",
      "('highway-mpg', 5120.07125)\n"
     ]
    }
   ],
   "source": [
    "list_features = list()\n",
    "for key,val in rmse_each_column_K_nei.items():\n",
    "    lis = []\n",
    "    for k,v in val.items():\n",
    "        lis.append(v)\n",
    "    meanv = round(np.average(lis),5)\n",
    "    tupl = (key,meanv)\n",
    "    print(tupl)\n",
    "    list_features.append(tupl)\n",
    "    list_features"
   ]
  },
  {
   "cell_type": "code",
   "execution_count": 33,
   "metadata": {},
   "outputs": [],
   "source": [
    "def Sort_Tuple(tup):  \n",
    "    tup.sort(key = lambda x: x[1])  \n",
    "    return tup  "
   ]
  },
  {
   "cell_type": "code",
   "execution_count": 34,
   "metadata": {},
   "outputs": [
    {
     "data": {
      "text/plain": [
       "[('engine-size', 3451.50772),\n",
       " ('horsepower', 3589.44059),\n",
       " ('curb-weight', 4430.05214),\n",
       " ('city-mpg', 4587.37707),\n",
       " ('highway-mpg', 5120.07125),\n",
       " ('compression-ratio', 5225.48951),\n",
       " ('width', 5304.6034),\n",
       " ('wheel-base', 5537.51421),\n",
       " ('length', 5553.924),\n",
       " ('bore', 5947.75166),\n",
       " ('height', 6281.39052),\n",
       " ('stroke', 6897.45923),\n",
       " ('peak-rpm', 8539.64068)]"
      ]
     },
     "execution_count": 34,
     "metadata": {},
     "output_type": "execute_result"
    }
   ],
   "source": [
    "list_features = Sort_Tuple(list_features)\n",
    "list_features"
   ]
  },
  {
   "cell_type": "code",
   "execution_count": 35,
   "metadata": {},
   "outputs": [],
   "source": [
    "feature1 = [list_features[0][0]]\n",
    "feature2 = feature1 + [list_features[1][0]]\n",
    "feature3 = feature2 + [list_features[2][0]]\n",
    "feature4 = feature3 + [list_features[3][0]]\n",
    "feature5 = feature4 + [list_features[4][0]]"
   ]
  },
  {
   "cell_type": "code",
   "execution_count": 36,
   "metadata": {},
   "outputs": [
    {
     "name": "stdout",
     "output_type": "stream",
     "text": [
      "['engine-size'] \n",
      " ['engine-size', 'horsepower'] \n",
      " ['engine-size', 'horsepower', 'curb-weight'] \n",
      " ['engine-size', 'horsepower', 'curb-weight', 'city-mpg'] \n",
      " ['engine-size', 'horsepower', 'curb-weight', 'city-mpg', 'highway-mpg']\n"
     ]
    }
   ],
   "source": [
    "print(feature1,'\\n', feature2, '\\n', feature3, '\\n', feature4, '\\n',feature5)"
   ]
  },
  {
   "cell_type": "markdown",
   "metadata": {},
   "source": [
    "Features 1 to 5 is the list of columns (parameters) that have the highest correlation with the final price (in descending order). \n",
    "We can use them for price prediction trying to reduce error as only possible:"
   ]
  },
  {
   "cell_type": "code",
   "execution_count": 37,
   "metadata": {},
   "outputs": [],
   "source": [
    "features = [feature1,feature2, feature3, feature4, feature5]\n"
   ]
  },
  {
   "cell_type": "code",
   "execution_count": 38,
   "metadata": {},
   "outputs": [],
   "source": [
    "two_best = [\"curb-weight\", \"horsepower\"]\n",
    "three_best = [\"curb-weight\", \"horsepower\", \"length\"]\n",
    "four_best = [\"curb-weight\", \"horsepower\", \"length\", \"highway-mpg\"]\n",
    "five_best = [\"curb-weight\", \"horsepower\", \"length\", \"highway-mpg\", \"engine-size\"]\n"
   ]
  },
  {
   "cell_type": "code",
   "execution_count": 39,
   "metadata": {},
   "outputs": [
    {
     "name": "stdout",
     "output_type": "stream",
     "text": [
      "['engine-size'] \n",
      " 4171.079588979333\n",
      "['engine-size', 'horsepower'] \n",
      " 3998.5043144655974\n",
      "['engine-size', 'horsepower', 'curb-weight'] \n",
      " 4236.644008268809\n",
      "['engine-size', 'horsepower', 'curb-weight', 'city-mpg'] \n",
      " 4017.1115304407467\n",
      "['engine-size', 'horsepower', 'curb-weight', 'city-mpg', 'highway-mpg'] \n",
      " 3051.465753371648\n"
     ]
    }
   ],
   "source": [
    "for fea in features:\n",
    "    rmse = knn_train_test_5_neigh(dcars,fea,'price')\n",
    "    print(fea, '\\n', rmse)"
   ]
  },
  {
   "cell_type": "markdown",
   "metadata": {},
   "source": [
    "We can see the smallest error we can get if we use 5 parameters. "
   ]
  },
  {
   "cell_type": "markdown",
   "metadata": {},
   "source": [
    "Next step: we can experiment with the number of neighbors with the same purpose \n",
    "to find the optimum number of them for correct price prediction:"
   ]
  },
  {
   "cell_type": "markdown",
   "metadata": {},
   "source": [
    " \"engine-size\", \"highway-mpg\", \"curb-weight\",\"horsepower\"."
   ]
  },
  {
   "cell_type": "code",
   "execution_count": 40,
   "metadata": {},
   "outputs": [],
   "source": [
    "def knn_train_test_4features_many_neig(dbase,train_col,target_col,k_values):    # many neighbours, 3 or 4 features\n",
    "    shuffled_index = np.random.permutation(dbase.index)\n",
    "    dbase = dbase.reindex(shuffled_index)\n",
    "    len_train = int(round(len(dbase)*0.75,0))\n",
    "    train = dbase[:len_train]\n",
    "    test = dbase[len_train:]\n",
    "    remse_col = {}\n",
    "    k_rmse = {}\n",
    "    for k in range(1,k_values+1):\n",
    "        knn = KNeighborsRegressor(n_neighbors=k)\n",
    "        knn.fit(train[train_col], train[target_col])\n",
    "        predictions = knn.predict(test[train_col])\n",
    "        rmse_v = mean_squared_error(test[target_col],predictions)**0.5        \n",
    "        k_rmse[k]=round(rmse_v,5)\n",
    "    return k_rmse\n",
    "    "
   ]
  },
  {
   "cell_type": "code",
   "execution_count": 41,
   "metadata": {},
   "outputs": [
    {
     "data": {
      "text/plain": [
       "{1: 2787.44878,\n",
       " 2: 2928.64932,\n",
       " 3: 3372.96819,\n",
       " 4: 3898.86784,\n",
       " 5: 4009.87884,\n",
       " 6: 3955.48118,\n",
       " 7: 3870.77473,\n",
       " 8: 3880.48298,\n",
       " 9: 3873.11155,\n",
       " 10: 3929.55841,\n",
       " 11: 3898.66459,\n",
       " 12: 3962.03783,\n",
       " 13: 4107.83289,\n",
       " 14: 4192.2529,\n",
       " 15: 4250.47171,\n",
       " 16: 4325.83559,\n",
       " 17: 4391.50802,\n",
       " 18: 4536.17175,\n",
       " 19: 4558.79395,\n",
       " 20: 4619.52115,\n",
       " 21: 4713.9333,\n",
       " 22: 4786.26019,\n",
       " 23: 4839.54593,\n",
       " 24: 4942.98401,\n",
       " 25: 4946.27808,\n",
       " 26: 5001.56074,\n",
       " 27: 5065.63872,\n",
       " 28: 5089.19387,\n",
       " 29: 5100.29268,\n",
       " 30: 5131.10573,\n",
       " 31: 5142.94123,\n",
       " 32: 5196.39876,\n",
       " 33: 5219.54618,\n",
       " 34: 5266.40971,\n",
       " 35: 5306.51888}"
      ]
     },
     "execution_count": 41,
     "metadata": {},
     "output_type": "execute_result"
    }
   ],
   "source": [
    "knn_train_test_4features_many_neig(dcars, feature4,'price',k_values=35)"
   ]
  },
  {
   "cell_type": "code",
   "execution_count": 42,
   "metadata": {},
   "outputs": [
    {
     "data": {
      "text/plain": [
       "{1: 3494.9258,\n",
       " 2: 3122.17783,\n",
       " 3: 3094.70759,\n",
       " 4: 3344.84236,\n",
       " 5: 3700.39886,\n",
       " 6: 3660.65721,\n",
       " 7: 3824.92242,\n",
       " 8: 3784.91525,\n",
       " 9: 3846.73013,\n",
       " 10: 3769.42896,\n",
       " 11: 3762.32668,\n",
       " 12: 3839.28069,\n",
       " 13: 3723.49152,\n",
       " 14: 3810.46389,\n",
       " 15: 3759.97233,\n",
       " 16: 3904.09532,\n",
       " 17: 3955.43308,\n",
       " 18: 3945.40565,\n",
       " 19: 3952.42352,\n",
       " 20: 3953.56642,\n",
       " 21: 3965.44127,\n",
       " 22: 4004.76168,\n",
       " 23: 4009.60431,\n",
       " 24: 4076.3685,\n",
       " 25: 4102.58722}"
      ]
     },
     "execution_count": 42,
     "metadata": {},
     "output_type": "execute_result"
    }
   ],
   "source": [
    "knn_train_test_4features_many_neig(dcars, feature5,'price',k_values=25)"
   ]
  },
  {
   "cell_type": "code",
   "execution_count": 43,
   "metadata": {},
   "outputs": [],
   "source": [
    "fea3 = knn_train_test_4features_many_neig(dcars, feature3,'price',k_values=20)\n",
    "fea4 = knn_train_test_4features_many_neig(dcars, feature4,'price',k_values=20)\n",
    "fea5 = knn_train_test_4features_many_neig(dcars, feature5,'price',k_values=20)"
   ]
  },
  {
   "cell_type": "code",
   "execution_count": 44,
   "metadata": {},
   "outputs": [],
   "source": [
    "rmse_each_4_feature_K_nei = dict()\n",
    "rmse_each_4_feature_K_nei[\"3 Features\"] = fea3\n",
    "rmse_each_4_feature_K_nei[\"4 Features\"] = fea4\n",
    "rmse_each_4_feature_K_nei[\"5 Features\"] = fea5\n"
   ]
  },
  {
   "cell_type": "code",
   "execution_count": 45,
   "metadata": {},
   "outputs": [
    {
     "data": {
      "image/png": "[encoded data removed]",
      "text/plain": [
       "<Figure size 1080x576 with 1 Axes>"
      ]
     },
     "metadata": {
      "needs_background": "light"
     },
     "output_type": "display_data"
    }
   ],
   "source": [
    "plt.figure(figsize=(15,8))\n",
    "for key, valu in rmse_each_4_feature_K_nei.items():\n",
    "    lab = key\n",
    "    x = list(valu.keys())\n",
    "    y = list(valu.values())\n",
    "    plt.plot(x,y,label = key )\n",
    "    plt.xlabel('k value')\n",
    "    plt.ylabel('RMSE')\n",
    "    plt.legend()"
   ]
  },
  {
   "cell_type": "markdown",
   "metadata": {},
   "source": [
    "We can see the lowest error we can get if we use 3-5 neighbors for 5 features. The result of running the function shows us slightly different results for each permutation of the initial database. But we get the best result rmse = 1900. "
   ]
  },
  {
   "cell_type": "markdown",
   "metadata": {},
   "source": [
    "Let us make cross-validation just to check how correct was the choice of the initial set for price prediction:\n",
    "    "
   ]
  },
  {
   "cell_type": "code",
   "execution_count": 46,
   "metadata": {},
   "outputs": [
    {
     "name": "stdout",
     "output_type": "stream",
     "text": [
      "3 folds:  avg RMSE:  3746.659237183136 std RMSE:  443.1506030095113\n",
      "5 folds:  avg RMSE:  3779.890891647545 std RMSE:  574.3762494673038\n",
      "7 folds:  avg RMSE:  3923.6927879555965 std RMSE:  839.4418929853286\n",
      "9 folds:  avg RMSE:  3698.2651829681367 std RMSE:  1007.450811972927\n",
      "10 folds:  avg RMSE:  3717.272922442814 std RMSE:  698.8387565690585\n",
      "11 folds:  avg RMSE:  3721.430387943545 std RMSE:  1103.0708779921172\n",
      "13 folds:  avg RMSE:  3648.6119243106764 std RMSE:  1070.773296175984\n",
      "15 folds:  avg RMSE:  3641.9828342433907 std RMSE:  1261.105898432733\n",
      "17 folds:  avg RMSE:  3618.6593676874436 std RMSE:  1629.8079501339785\n",
      "19 folds:  avg RMSE:  3556.2945033755486 std RMSE:  1482.1607261240904\n",
      "21 folds:  avg RMSE:  3515.757934289348 std RMSE:  1420.87537864523\n",
      "23 folds:  avg RMSE:  3481.5506902011984 std RMSE:  1771.1921348732483\n"
     ]
    }
   ],
   "source": [
    "from sklearn.model_selection import cross_val_score, KFold\n",
    "\n",
    "num_folds = [3, 5, 7, 9, 10, 11, 13, 15, 17, 19, 21, 23]\n",
    "\n",
    "for fold in num_folds:\n",
    "    kf = KFold(fold, shuffle=True, random_state=1)\n",
    "    model = KNeighborsRegressor()\n",
    "    mses = cross_val_score(model, dcars[feature5], dcars[\"price\"], scoring=\"neg_mean_squared_error\", cv=kf)\n",
    "    rmses = np.sqrt(np.absolute(mses))\n",
    "    avg_rmse = np.mean(rmses)\n",
    "    std_rmse = np.std(rmses)\n",
    "    print(str(fold), \"folds: \", \"avg RMSE: \", str(avg_rmse), \"std RMSE: \", str(std_rmse))\n"
   ]
  },
  {
   "cell_type": "code",
   "execution_count": 47,
   "metadata": {},
   "outputs": [
    {
     "name": "stdout",
     "output_type": "stream",
     "text": [
      "Root Square Error for prediction prices of cars at k = 2 and 5 chosen features is  2636.66\n",
      "2636.66\n"
     ]
    }
   ],
   "source": [
    "shuffled_index = np.random.permutation(dcars.index)\n",
    "dcars = dcars.reindex(shuffled_index)\n",
    "len_train = int(round(len(dcars)*0.75,0))\n",
    "train = dcars[:len_train]\n",
    "test = dcars[len_train:]\n",
    "knn = KNeighborsRegressor(n_neighbors=2)\n",
    "knn.fit(train[feature5], train['price'])\n",
    "predictions = knn.predict(test[feature5])\n",
    "rmse_v = mean_squared_error(test['price'],predictions)**0.5        \n",
    "print('Root Square Error for prediction prices of cars at k = 2 and 5 chosen features is ', round(rmse_v,2))\n",
    "rmse_v = mean_squared_error(test['price'],predictions)**0.5        \n",
    "print(round(rmse_v,2))\n",
    "\n"
   ]
  },
  {
   "cell_type": "markdown",
   "metadata": {},
   "source": [
    "# Conclusions "
   ]
  },
  {
   "cell_type": "markdown",
   "metadata": {},
   "source": [
    "The number of experiments with the algorithm, when we tried to find out the optical parameters for correct prediction,  showed us that we could get the most correct result for the prices estimations when we using 5 features (5 columns with different technical parameters) and a small number of neighbors 2 or 3. But the result is not so consistent and depends on the permutation of the initial dataset. Sometimes it shows better results for 4 and even 3 features. But, in my opinion, we would better use more features for lower variability, taking into account more initial parameters, although with some lack of accuracy.\n",
    "\n",
    "What we can tell for sure, that the algorithm shows better results with a low number of neighbors. The lowest error we can got using this model is rmse = 1900."
   ]
  },
  {
   "cell_type": "markdown",
   "metadata": {},
   "source": []
  }
 ],
 "metadata": {
  "kernelspec": {
   "display_name": "Python 3",
   "language": "python",
   "name": "python3"
  },
  "language_info": {
   "codemirror_mode": {
    "name": "ipython",
    "version": 3
   },
   "file_extension": ".py",
   "mimetype": "text/x-python",
   "name": "python",
   "nbconvert_exporter": "python",
   "pygments_lexer": "ipython3",
   "version": "3.7.6"
  }
 },
 "nbformat": 4,
 "nbformat_minor": 4
}
